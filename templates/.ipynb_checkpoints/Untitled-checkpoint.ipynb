{
 "cells": [
  {
   "cell_type": "code",
   "execution_count": 1,
   "id": "17bc6d0f-86b9-4606-9aab-70c6b42f2f19",
   "metadata": {},
   "outputs": [
    {
     "name": "stdout",
     "output_type": "stream",
     "text": [
      " * Serving Flask app '__main__'\n",
      " * Debug mode: on\n"
     ]
    },
    {
     "name": "stderr",
     "output_type": "stream",
     "text": [
      "WARNING: This is a development server. Do not use it in a production deployment. Use a production WSGI server instead.\n",
      " * Running on http://127.0.0.1:5000\n",
      "Press CTRL+C to quit\n",
      " * Restarting with stat\n"
     ]
    },
    {
     "ename": "SystemExit",
     "evalue": "1",
     "output_type": "error",
     "traceback": [
      "An exception has occurred, use %tb to see the full traceback.\n",
      "\u001b[1;31mSystemExit\u001b[0m\u001b[1;31m:\u001b[0m 1\n"
     ]
    },
    {
     "name": "stderr",
     "output_type": "stream",
     "text": [
      "C:\\Users\\temit\\anaconda3\\envs\\myenv\\lib\\site-packages\\IPython\\core\\interactiveshell.py:3468: UserWarning: To exit: use 'exit', 'quit', or Ctrl-D.\n",
      "  warn(\"To exit: use 'exit', 'quit', or Ctrl-D.\", stacklevel=1)\n"
     ]
    }
   ],
   "source": [
    "from flask import Flask, render_template, request\n",
    "import pandas as pd\n",
    "import snscrape.modules.twitter as sntwitter\n",
    "\n",
    "app = Flask(__name__)\n",
    "\n",
    "@app.route('/')\n",
    "def home():\n",
    "    return render_template('home.html')\n",
    "\n",
    "@app.route('/result', methods=['POST'])\n",
    "def result():\n",
    "    # Get user input from the form\n",
    "    topic = request.form['topic']\n",
    "    location = request.form['location']\n",
    "    start_date = request.form['start_date']\n",
    "    end_date = request.form['end_date']\n",
    "    max_tweets = int(request.form['max_tweets'])\n",
    "\n",
    "    # Create query for snscrape\n",
    "    query = f'({topic}) near:\"{location}\" lang:en until:{end_date} since:{start_date} -filter:links -filter:retweet -is:reply'\n",
    "\n",
    "    # Create empty list to store tweets\n",
    "    tweets_list = []\n",
    "\n",
    "    # Use snscrape to scrape tweets\n",
    "    for i, tweet in enumerate(sntwitter.TwitterSearchScraper(query).get_items()):\n",
    "        if i >= max_tweets:\n",
    "            break\n",
    "        tweets_list.append([tweet.date, tweet.rawContent, tweet.user.username, tweet.viewCount])\n",
    "\n",
    "    # Create a Pandas DataFrame from the list of tweets\n",
    "    tweets_df = pd.DataFrame(tweets_list, columns=['Datetime', 'Text', 'Username', 'Views'])\n",
    "    tweets_df['Datetime'] = tweets_df['Datetime'].dt.tz_localize(None)\n",
    "    \n",
    "    # Sort the Pandas DataFrame by views decending\n",
    "    tweets_df = tweets_df.sort_values(by=['Views'], inplace=True, ascending=False)\n",
    "    #tweets_df10 = tweets_df.head(10)\n",
    "\n",
    "    # Render the results template with the DataFrame as a parameter\n",
    "    return render_template('result.html',tweets=tweets_df.to_html(index=False))\n",
    "\n",
    "if __name__ == '__main__':\n",
    "    app.run(debug=True)\n"
   ]
  },
  {
   "cell_type": "code",
   "execution_count": null,
   "id": "50654ed4-6b38-4d3d-b56a-62f9edd5046b",
   "metadata": {},
   "outputs": [],
   "source": []
  }
 ],
 "metadata": {
  "kernelspec": {
   "display_name": "Python 3 (ipykernel)",
   "language": "python",
   "name": "python3"
  },
  "language_info": {
   "codemirror_mode": {
    "name": "ipython",
    "version": 3
   },
   "file_extension": ".py",
   "mimetype": "text/x-python",
   "name": "python",
   "nbconvert_exporter": "python",
   "pygments_lexer": "ipython3",
   "version": "3.9.16"
  }
 },
 "nbformat": 4,
 "nbformat_minor": 5
}
