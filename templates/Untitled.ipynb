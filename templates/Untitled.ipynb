{
 "cells": [
  {
   "cell_type": "code",
   "execution_count": 14,
   "id": "17bc6d0f-86b9-4606-9aab-70c6b42f2f19",
   "metadata": {},
   "outputs": [
    {
     "name": "stdout",
     "output_type": "stream",
     "text": [
      " * Serving Flask app '__main__'\n",
      " * Debug mode: on\n"
     ]
    },
    {
     "name": "stderr",
     "output_type": "stream",
     "text": [
      "WARNING: This is a development server. Do not use it in a production deployment. Use a production WSGI server instead.\n",
      " * Running on http://127.0.0.1:5000\n",
      "Press CTRL+C to quit\n",
      " * Restarting with stat\n"
     ]
    },
    {
     "ename": "SystemExit",
     "evalue": "1",
     "output_type": "error",
     "traceback": [
      "An exception has occurred, use %tb to see the full traceback.\n",
      "\u001b[1;31mSystemExit\u001b[0m\u001b[1;31m:\u001b[0m 1\n"
     ]
    }
   ],
   "source": [
    "from flask import Flask, render_template, request\n",
    "import pandas as pd\n",
    "import snscrape.modules.twitter as sntwitter\n",
    "\n",
    "app = Flask(__name__)\n",
    "\n",
    "@app.route('/')\n",
    "def home():\n",
    "    return render_template('home.html')\n",
    "\n",
    "@app.route('/result', methods=['POST'])\n",
    "def result():\n",
    "    # Get user input from the form\n",
    "    topic = request.form['topic']\n",
    "    location = request.form['location']\n",
    "    start_date = request.form['start_date']\n",
    "    end_date = request.form['end_date']\n",
    "    max_tweets = int(request.form['max_tweets'])\n",
    "\n",
    "    # Create query for snscrape\n",
    "    query = f'({topic}) near:\"{location}\" lang:en until:{end_date} since:{start_date} -filter:links -filter:retweet'\n",
    "\n",
    "    # Create empty list to store tweets\n",
    "    tweets_list = []\n",
    "\n",
    "    # Use snscrape to scrape tweets\n",
    "    for i, tweet in enumerate(sntwitter.TwitterSearchScraper(query).get_items()):\n",
    "        if i >= max_tweets:\n",
    "            break\n",
    "        tweets_list.append([tweet.date, tweet.id, tweet.rawContent, tweet.user.username, tweet.retweetCount, tweet.viewCount])\n",
    "\n",
    "    # Create a Pandas DataFrame from the list of tweets\n",
    "    tweets_df = pd.DataFrame(tweets_list, columns=['Datetime', 'Tweet Id', 'Text', 'Username', 'Retweet', 'Views'])\n",
    "    tweets_df['Datetime'] = tweets_df['Datetime'].dt.tz_localize(None)\n",
    "\n",
    "    # Render the results template with the DataFrame as a parameter\n",
    "    return render_template('result.html', tweets=tweets_df.to_html(index=False))\n",
    "\n",
    "if __name__ == '__main__':\n",
    "    app.run(debug=True)\n"
   ]
  },
  {
   "cell_type": "code",
   "execution_count": 15,
   "id": "50654ed4-6b38-4d3d-b56a-62f9edd5046b",
   "metadata": {},
   "outputs": [
    {
     "name": "stderr",
     "output_type": "stream",
     "text": [
      "UsageError: Line magic function `%t` not found.\n"
     ]
    }
   ],
   "source": [
    "%tb"
   ]
  },
  {
   "cell_type": "code",
   "execution_count": 6,
   "id": "e033d155-b0d1-4e38-861b-481605bf6baf",
   "metadata": {},
   "outputs": [],
   "source": [
    "from flask import Flask, render_template, request\n",
    "import pandas as pd\n",
    "import snscrape.modules.twitter as sntwitter\n",
    "from wordcloud import WordCloud\n",
    "from wordcloud import STOPWORDS\n",
    "import matplotlib.pyplot as plt\n",
    "import base64\n",
    "from io import BytesIO"
   ]
  },
  {
   "cell_type": "code",
   "execution_count": 7,
   "id": "fc6a98b5-f876-4205-a456-ab7d6018459d",
   "metadata": {},
   "outputs": [],
   "source": [
    "# Get user input from the form\n",
    "topic = 'Strike'\n",
    "location = 'London'\n",
    "start_date = '2023-01-01'\n",
    "end_date = '2023-03-12'\n",
    "max_tweets = 100"
   ]
  },
  {
   "cell_type": "code",
   "execution_count": 8,
   "id": "ebf6c1cb-a301-456f-b9a4-3550051f25a5",
   "metadata": {},
   "outputs": [
    {
     "name": "stderr",
     "output_type": "stream",
     "text": [
      "Error retrieving https://api.twitter.com/2/search/adaptive.json?include_profile_interstitial_type=1&include_blocking=1&include_blocked_by=1&include_followed_by=1&include_want_retweets=1&include_mute_edge=1&include_can_dm=1&include_can_media_tag=1&include_ext_has_nft_avatar=1&include_ext_is_blue_verified=1&include_ext_verified_type=1&skip_status=1&cards_platform=Web-12&include_cards=1&include_ext_alt_text=true&include_ext_limited_action_results=false&include_quote_count=true&include_reply_count=1&tweet_mode=extended&include_ext_collab_control=true&include_ext_views=true&include_entities=true&include_user_entities=true&include_ext_media_color=true&include_ext_media_availability=true&include_ext_sensitive_media_warning=true&include_ext_trusted_friends_metadata=true&send_error_codes=true&simple_quoted_tweet=true&q=%28Strike%29+near%3A%22London%22+lang%3Aen+until%3A2023-03-12+since%3A2023-01-01+-filter%3Alinks+-filter%3Aretweet&tweet_search_mode=live&count=20&query_source=spelling_expansion_revert_click&pc=1&spelling_corrections=1&include_ext_edit_control=true&ext=mediaStats%2ChighlightedLabel%2ChasNftAvatar%2CvoiceInfo%2Cenrichments%2CsuperFollowMetadata%2CunmentionInfo%2CeditControl%2Ccollab_control%2Cvibe: non-200 status code (404)\n",
      "4 requests to https://api.twitter.com/2/search/adaptive.json?include_profile_interstitial_type=1&include_blocking=1&include_blocked_by=1&include_followed_by=1&include_want_retweets=1&include_mute_edge=1&include_can_dm=1&include_can_media_tag=1&include_ext_has_nft_avatar=1&include_ext_is_blue_verified=1&include_ext_verified_type=1&skip_status=1&cards_platform=Web-12&include_cards=1&include_ext_alt_text=true&include_ext_limited_action_results=false&include_quote_count=true&include_reply_count=1&tweet_mode=extended&include_ext_collab_control=true&include_ext_views=true&include_entities=true&include_user_entities=true&include_ext_media_color=true&include_ext_media_availability=true&include_ext_sensitive_media_warning=true&include_ext_trusted_friends_metadata=true&send_error_codes=true&simple_quoted_tweet=true&q=%28Strike%29+near%3A%22London%22+lang%3Aen+until%3A2023-03-12+since%3A2023-01-01+-filter%3Alinks+-filter%3Aretweet&tweet_search_mode=live&count=20&query_source=spelling_expansion_revert_click&pc=1&spelling_corrections=1&include_ext_edit_control=true&ext=mediaStats%2ChighlightedLabel%2ChasNftAvatar%2CvoiceInfo%2Cenrichments%2CsuperFollowMetadata%2CunmentionInfo%2CeditControl%2Ccollab_control%2Cvibe failed, giving up.\n",
      "Errors: non-200 status code (404), non-200 status code (404), non-200 status code (404), non-200 status code (404)\n"
     ]
    },
    {
     "ename": "ScraperException",
     "evalue": "4 requests to https://api.twitter.com/2/search/adaptive.json?include_profile_interstitial_type=1&include_blocking=1&include_blocked_by=1&include_followed_by=1&include_want_retweets=1&include_mute_edge=1&include_can_dm=1&include_can_media_tag=1&include_ext_has_nft_avatar=1&include_ext_is_blue_verified=1&include_ext_verified_type=1&skip_status=1&cards_platform=Web-12&include_cards=1&include_ext_alt_text=true&include_ext_limited_action_results=false&include_quote_count=true&include_reply_count=1&tweet_mode=extended&include_ext_collab_control=true&include_ext_views=true&include_entities=true&include_user_entities=true&include_ext_media_color=true&include_ext_media_availability=true&include_ext_sensitive_media_warning=true&include_ext_trusted_friends_metadata=true&send_error_codes=true&simple_quoted_tweet=true&q=%28Strike%29+near%3A%22London%22+lang%3Aen+until%3A2023-03-12+since%3A2023-01-01+-filter%3Alinks+-filter%3Aretweet&tweet_search_mode=live&count=20&query_source=spelling_expansion_revert_click&pc=1&spelling_corrections=1&include_ext_edit_control=true&ext=mediaStats%2ChighlightedLabel%2ChasNftAvatar%2CvoiceInfo%2Cenrichments%2CsuperFollowMetadata%2CunmentionInfo%2CeditControl%2Ccollab_control%2Cvibe failed, giving up.",
     "output_type": "error",
     "traceback": [
      "\u001b[1;31m---------------------------------------------------------------------------\u001b[0m",
      "\u001b[1;31mScraperException\u001b[0m                          Traceback (most recent call last)",
      "Cell \u001b[1;32mIn[8], line 8\u001b[0m\n\u001b[0;32m      5\u001b[0m tweets_list \u001b[38;5;241m=\u001b[39m []\n\u001b[0;32m      7\u001b[0m \u001b[38;5;66;03m# Use snscrape to scrape tweets\u001b[39;00m\n\u001b[1;32m----> 8\u001b[0m \u001b[38;5;28;01mfor\u001b[39;00m i, tweet \u001b[38;5;129;01min\u001b[39;00m \u001b[38;5;28menumerate\u001b[39m(sntwitter\u001b[38;5;241m.\u001b[39mTwitterSearchScraper(query)\u001b[38;5;241m.\u001b[39mget_items()):\n\u001b[0;32m      9\u001b[0m     \u001b[38;5;28;01mif\u001b[39;00m i \u001b[38;5;241m>\u001b[39m\u001b[38;5;241m=\u001b[39m max_tweets:\n\u001b[0;32m     10\u001b[0m         \u001b[38;5;28;01mbreak\u001b[39;00m\n",
      "File \u001b[1;32m~\\anaconda3\\envs\\myenv\\lib\\site-packages\\snscrape\\modules\\twitter.py:1657\u001b[0m, in \u001b[0;36mTwitterSearchScraper.get_items\u001b[1;34m(self)\u001b[0m\n\u001b[0;32m   1654\u001b[0m params \u001b[38;5;241m=\u001b[39m paginationParams\u001b[38;5;241m.\u001b[39mcopy()\n\u001b[0;32m   1655\u001b[0m \u001b[38;5;28;01mdel\u001b[39;00m params[\u001b[38;5;124m'\u001b[39m\u001b[38;5;124mcursor\u001b[39m\u001b[38;5;124m'\u001b[39m]\n\u001b[1;32m-> 1657\u001b[0m \u001b[38;5;28;01mfor\u001b[39;00m obj \u001b[38;5;129;01min\u001b[39;00m \u001b[38;5;28mself\u001b[39m\u001b[38;5;241m.\u001b[39m_iter_api_data(\u001b[38;5;124m'\u001b[39m\u001b[38;5;124mhttps://api.twitter.com/2/search/adaptive.json\u001b[39m\u001b[38;5;124m'\u001b[39m, _TwitterAPIType\u001b[38;5;241m.\u001b[39mV2, params, paginationParams, cursor \u001b[38;5;241m=\u001b[39m \u001b[38;5;28mself\u001b[39m\u001b[38;5;241m.\u001b[39m_cursor):\n\u001b[0;32m   1658\u001b[0m \t\u001b[38;5;28;01myield from\u001b[39;00m \u001b[38;5;28mself\u001b[39m\u001b[38;5;241m.\u001b[39m_v2_timeline_instructions_to_tweets_or_users(obj)\n",
      "File \u001b[1;32m~\\anaconda3\\envs\\myenv\\lib\\site-packages\\snscrape\\modules\\twitter.py:761\u001b[0m, in \u001b[0;36m_TwitterAPIScraper._iter_api_data\u001b[1;34m(self, endpoint, apiType, params, paginationParams, cursor, direction)\u001b[0m\n\u001b[0;32m    759\u001b[0m \u001b[38;5;28;01mwhile\u001b[39;00m \u001b[38;5;28;01mTrue\u001b[39;00m:\n\u001b[0;32m    760\u001b[0m \t_logger\u001b[38;5;241m.\u001b[39minfo(\u001b[38;5;124mf\u001b[39m\u001b[38;5;124m'\u001b[39m\u001b[38;5;124mRetrieving scroll page \u001b[39m\u001b[38;5;132;01m{\u001b[39;00mcursor\u001b[38;5;132;01m}\u001b[39;00m\u001b[38;5;124m'\u001b[39m)\n\u001b[1;32m--> 761\u001b[0m \tobj \u001b[38;5;241m=\u001b[39m \u001b[38;5;28;43mself\u001b[39;49m\u001b[38;5;241;43m.\u001b[39;49m\u001b[43m_get_api_data\u001b[49m\u001b[43m(\u001b[49m\u001b[43mendpoint\u001b[49m\u001b[43m,\u001b[49m\u001b[43m \u001b[49m\u001b[43mapiType\u001b[49m\u001b[43m,\u001b[49m\u001b[43m \u001b[49m\u001b[43mreqParams\u001b[49m\u001b[43m)\u001b[49m\n\u001b[0;32m    762\u001b[0m \t\u001b[38;5;28;01myield\u001b[39;00m obj\n\u001b[0;32m    764\u001b[0m \t\u001b[38;5;66;03m# No data format test, just a hard and loud crash if anything's wrong :-)\u001b[39;00m\n",
      "File \u001b[1;32m~\\anaconda3\\envs\\myenv\\lib\\site-packages\\snscrape\\modules\\twitter.py:727\u001b[0m, in \u001b[0;36m_TwitterAPIScraper._get_api_data\u001b[1;34m(self, endpoint, apiType, params)\u001b[0m\n\u001b[0;32m    725\u001b[0m \u001b[38;5;28;01mif\u001b[39;00m apiType \u001b[38;5;129;01mis\u001b[39;00m _TwitterAPIType\u001b[38;5;241m.\u001b[39mGRAPHQL:\n\u001b[0;32m    726\u001b[0m \tparams \u001b[38;5;241m=\u001b[39m urllib\u001b[38;5;241m.\u001b[39mparse\u001b[38;5;241m.\u001b[39murlencode({k: json\u001b[38;5;241m.\u001b[39mdumps(v, separators \u001b[38;5;241m=\u001b[39m (\u001b[38;5;124m'\u001b[39m\u001b[38;5;124m,\u001b[39m\u001b[38;5;124m'\u001b[39m, \u001b[38;5;124m'\u001b[39m\u001b[38;5;124m:\u001b[39m\u001b[38;5;124m'\u001b[39m)) \u001b[38;5;28;01mfor\u001b[39;00m k, v \u001b[38;5;129;01min\u001b[39;00m params\u001b[38;5;241m.\u001b[39mitems()}, quote_via \u001b[38;5;241m=\u001b[39m urllib\u001b[38;5;241m.\u001b[39mparse\u001b[38;5;241m.\u001b[39mquote)\n\u001b[1;32m--> 727\u001b[0m r \u001b[38;5;241m=\u001b[39m \u001b[38;5;28;43mself\u001b[39;49m\u001b[38;5;241;43m.\u001b[39;49m\u001b[43m_get\u001b[49m\u001b[43m(\u001b[49m\u001b[43mendpoint\u001b[49m\u001b[43m,\u001b[49m\u001b[43m \u001b[49m\u001b[43mparams\u001b[49m\u001b[43m \u001b[49m\u001b[38;5;241;43m=\u001b[39;49m\u001b[43m \u001b[49m\u001b[43mparams\u001b[49m\u001b[43m,\u001b[49m\u001b[43m \u001b[49m\u001b[43mheaders\u001b[49m\u001b[43m \u001b[49m\u001b[38;5;241;43m=\u001b[39;49m\u001b[43m \u001b[49m\u001b[38;5;28;43mself\u001b[39;49m\u001b[38;5;241;43m.\u001b[39;49m\u001b[43m_apiHeaders\u001b[49m\u001b[43m,\u001b[49m\u001b[43m \u001b[49m\u001b[43mresponseOkCallback\u001b[49m\u001b[43m \u001b[49m\u001b[38;5;241;43m=\u001b[39;49m\u001b[43m \u001b[49m\u001b[38;5;28;43mself\u001b[39;49m\u001b[38;5;241;43m.\u001b[39;49m\u001b[43m_check_api_response\u001b[49m\u001b[43m)\u001b[49m\n\u001b[0;32m    728\u001b[0m \u001b[38;5;28;01mtry\u001b[39;00m:\n\u001b[0;32m    729\u001b[0m \tobj \u001b[38;5;241m=\u001b[39m r\u001b[38;5;241m.\u001b[39mjson()\n",
      "File \u001b[1;32m~\\anaconda3\\envs\\myenv\\lib\\site-packages\\snscrape\\base.py:251\u001b[0m, in \u001b[0;36mScraper._get\u001b[1;34m(self, *args, **kwargs)\u001b[0m\n\u001b[0;32m    250\u001b[0m \u001b[38;5;28;01mdef\u001b[39;00m \u001b[38;5;21m_get\u001b[39m(\u001b[38;5;28mself\u001b[39m, \u001b[38;5;241m*\u001b[39margs, \u001b[38;5;241m*\u001b[39m\u001b[38;5;241m*\u001b[39mkwargs):\n\u001b[1;32m--> 251\u001b[0m \t\u001b[38;5;28;01mreturn\u001b[39;00m \u001b[38;5;28mself\u001b[39m\u001b[38;5;241m.\u001b[39m_request(\u001b[38;5;124m'\u001b[39m\u001b[38;5;124mGET\u001b[39m\u001b[38;5;124m'\u001b[39m, \u001b[38;5;241m*\u001b[39margs, \u001b[38;5;241m*\u001b[39m\u001b[38;5;241m*\u001b[39mkwargs)\n",
      "File \u001b[1;32m~\\anaconda3\\envs\\myenv\\lib\\site-packages\\snscrape\\base.py:247\u001b[0m, in \u001b[0;36mScraper._request\u001b[1;34m(self, method, url, params, data, headers, timeout, responseOkCallback, allowRedirects, proxies)\u001b[0m\n\u001b[0;32m    245\u001b[0m \t_logger\u001b[38;5;241m.\u001b[39mfatal(msg)\n\u001b[0;32m    246\u001b[0m \t_logger\u001b[38;5;241m.\u001b[39mfatal(\u001b[38;5;124mf\u001b[39m\u001b[38;5;124m'\u001b[39m\u001b[38;5;124mErrors: \u001b[39m\u001b[38;5;132;01m{\u001b[39;00m\u001b[38;5;124m\"\u001b[39m\u001b[38;5;124m, \u001b[39m\u001b[38;5;124m\"\u001b[39m\u001b[38;5;241m.\u001b[39mjoin(errors)\u001b[38;5;132;01m}\u001b[39;00m\u001b[38;5;124m'\u001b[39m)\n\u001b[1;32m--> 247\u001b[0m \t\u001b[38;5;28;01mraise\u001b[39;00m ScraperException(msg)\n\u001b[0;32m    248\u001b[0m \u001b[38;5;28;01mraise\u001b[39;00m \u001b[38;5;167;01mRuntimeError\u001b[39;00m(\u001b[38;5;124m'\u001b[39m\u001b[38;5;124mReached unreachable code\u001b[39m\u001b[38;5;124m'\u001b[39m)\n",
      "\u001b[1;31mScraperException\u001b[0m: 4 requests to https://api.twitter.com/2/search/adaptive.json?include_profile_interstitial_type=1&include_blocking=1&include_blocked_by=1&include_followed_by=1&include_want_retweets=1&include_mute_edge=1&include_can_dm=1&include_can_media_tag=1&include_ext_has_nft_avatar=1&include_ext_is_blue_verified=1&include_ext_verified_type=1&skip_status=1&cards_platform=Web-12&include_cards=1&include_ext_alt_text=true&include_ext_limited_action_results=false&include_quote_count=true&include_reply_count=1&tweet_mode=extended&include_ext_collab_control=true&include_ext_views=true&include_entities=true&include_user_entities=true&include_ext_media_color=true&include_ext_media_availability=true&include_ext_sensitive_media_warning=true&include_ext_trusted_friends_metadata=true&send_error_codes=true&simple_quoted_tweet=true&q=%28Strike%29+near%3A%22London%22+lang%3Aen+until%3A2023-03-12+since%3A2023-01-01+-filter%3Alinks+-filter%3Aretweet&tweet_search_mode=live&count=20&query_source=spelling_expansion_revert_click&pc=1&spelling_corrections=1&include_ext_edit_control=true&ext=mediaStats%2ChighlightedLabel%2ChasNftAvatar%2CvoiceInfo%2Cenrichments%2CsuperFollowMetadata%2CunmentionInfo%2CeditControl%2Ccollab_control%2Cvibe failed, giving up."
     ]
    }
   ],
   "source": [
    "# Create query for snscrape\n",
    "query = f'({topic}) near:\"{location}\" lang:en until:{end_date} since:{start_date} -filter:links -filter:retweet'\n",
    "\n",
    "# Create empty list to store tweets\n",
    "tweets_list = []\n",
    "\n",
    "# Use snscrape to scrape tweets\n",
    "for i, tweet in enumerate(sntwitter.TwitterSearchScraper(query).get_items()):\n",
    "    if i >= max_tweets:\n",
    "        break\n",
    "    tweets_list.append([tweet.date, tweet.id, tweet.rawContent, tweet.user.username, tweet.retweetCount, tweet.viewCount])"
   ]
  },
  {
   "cell_type": "code",
   "execution_count": 57,
   "id": "a56c5af8-045f-4047-a0de-869af20fa919",
   "metadata": {},
   "outputs": [],
   "source": [
    "# Create a Pandas DataFrame from the list of tweets\n",
    "tweets_df = pd.DataFrame(tweets_list, columns=['Datetime', 'Tweet Id', 'Text', 'Username', 'Retweet', 'Views'])"
   ]
  },
  {
   "cell_type": "code",
   "execution_count": 58,
   "id": "a073ba6d-1d00-47e3-99d5-63459d9b9e5a",
   "metadata": {},
   "outputs": [
    {
     "data": {
      "text/html": [
       "<div>\n",
       "<style scoped>\n",
       "    .dataframe tbody tr th:only-of-type {\n",
       "        vertical-align: middle;\n",
       "    }\n",
       "\n",
       "    .dataframe tbody tr th {\n",
       "        vertical-align: top;\n",
       "    }\n",
       "\n",
       "    .dataframe thead th {\n",
       "        text-align: right;\n",
       "    }\n",
       "</style>\n",
       "<table border=\"1\" class=\"dataframe\">\n",
       "  <thead>\n",
       "    <tr style=\"text-align: right;\">\n",
       "      <th></th>\n",
       "      <th>Datetime</th>\n",
       "      <th>Tweet Id</th>\n",
       "      <th>Text</th>\n",
       "      <th>Username</th>\n",
       "      <th>Retweet</th>\n",
       "      <th>Views</th>\n",
       "    </tr>\n",
       "  </thead>\n",
       "  <tbody>\n",
       "    <tr>\n",
       "      <th>0</th>\n",
       "      <td>2023-03-11 23:37:39+00:00</td>\n",
       "      <td>1634700139888607233</td>\n",
       "      <td>@SteveBarclay @BMA_JuniorDocs @Telegraph 98% o...</td>\n",
       "      <td>allan_xu</td>\n",
       "      <td>0</td>\n",
       "      <td>65</td>\n",
       "    </tr>\n",
       "    <tr>\n",
       "      <th>1</th>\n",
       "      <td>2023-03-11 23:34:38+00:00</td>\n",
       "      <td>1634699380237238273</td>\n",
       "      <td>@TortoiseGatsby @MarlLake Strike a pose….</td>\n",
       "      <td>joglynn70</td>\n",
       "      <td>0</td>\n",
       "      <td>19</td>\n",
       "    </tr>\n",
       "    <tr>\n",
       "      <th>2</th>\n",
       "      <td>2023-03-11 23:31:30+00:00</td>\n",
       "      <td>1634698595164143616</td>\n",
       "      <td>@SteveBarclay @BMA_JuniorDocs @Telegraph You k...</td>\n",
       "      <td>allan_xu</td>\n",
       "      <td>1</td>\n",
       "      <td>734</td>\n",
       "    </tr>\n",
       "    <tr>\n",
       "      <th>3</th>\n",
       "      <td>2023-03-11 23:30:26+00:00</td>\n",
       "      <td>1634698322798690306</td>\n",
       "      <td>@LouiseScott1377 Tories brought politics into ...</td>\n",
       "      <td>SFenwic0612800</td>\n",
       "      <td>0</td>\n",
       "      <td>15</td>\n",
       "    </tr>\n",
       "    <tr>\n",
       "      <th>4</th>\n",
       "      <td>2023-03-11 23:24:06+00:00</td>\n",
       "      <td>1634696731936931845</td>\n",
       "      <td>@PedroSu19680421 @Iromg @BBCSport @GaryLineker...</td>\n",
       "      <td>smsr2019</td>\n",
       "      <td>0</td>\n",
       "      <td>11</td>\n",
       "    </tr>\n",
       "  </tbody>\n",
       "</table>\n",
       "</div>"
      ],
      "text/plain": [
       "                   Datetime             Tweet Id  \\\n",
       "0 2023-03-11 23:37:39+00:00  1634700139888607233   \n",
       "1 2023-03-11 23:34:38+00:00  1634699380237238273   \n",
       "2 2023-03-11 23:31:30+00:00  1634698595164143616   \n",
       "3 2023-03-11 23:30:26+00:00  1634698322798690306   \n",
       "4 2023-03-11 23:24:06+00:00  1634696731936931845   \n",
       "\n",
       "                                                Text        Username  Retweet  \\\n",
       "0  @SteveBarclay @BMA_JuniorDocs @Telegraph 98% o...        allan_xu        0   \n",
       "1          @TortoiseGatsby @MarlLake Strike a pose….       joglynn70        0   \n",
       "2  @SteveBarclay @BMA_JuniorDocs @Telegraph You k...        allan_xu        1   \n",
       "3  @LouiseScott1377 Tories brought politics into ...  SFenwic0612800        0   \n",
       "4  @PedroSu19680421 @Iromg @BBCSport @GaryLineker...        smsr2019        0   \n",
       "\n",
       "   Views  \n",
       "0     65  \n",
       "1     19  \n",
       "2    734  \n",
       "3     15  \n",
       "4     11  "
      ]
     },
     "execution_count": 58,
     "metadata": {},
     "output_type": "execute_result"
    }
   ],
   "source": [
    "tweets_df.head()"
   ]
  },
  {
   "cell_type": "code",
   "execution_count": 59,
   "id": "bbd35cd4-4455-445c-88de-ad1d4613b3f9",
   "metadata": {},
   "outputs": [],
   "source": [
    "tweets_df['Datetime'] = tweets_df['Datetime'].dt.tz_localize(None)\n",
    "tweets_df =tweets_df.sort_values(by=['Views'], ascending=False)"
   ]
  },
  {
   "cell_type": "code",
   "execution_count": 60,
   "id": "d3423746-3fff-4563-9956-f478c313cb79",
   "metadata": {},
   "outputs": [
    {
     "data": {
      "text/html": [
       "<div>\n",
       "<style scoped>\n",
       "    .dataframe tbody tr th:only-of-type {\n",
       "        vertical-align: middle;\n",
       "    }\n",
       "\n",
       "    .dataframe tbody tr th {\n",
       "        vertical-align: top;\n",
       "    }\n",
       "\n",
       "    .dataframe thead th {\n",
       "        text-align: right;\n",
       "    }\n",
       "</style>\n",
       "<table border=\"1\" class=\"dataframe\">\n",
       "  <thead>\n",
       "    <tr style=\"text-align: right;\">\n",
       "      <th></th>\n",
       "      <th>Datetime</th>\n",
       "      <th>Tweet Id</th>\n",
       "      <th>Text</th>\n",
       "      <th>Username</th>\n",
       "      <th>Retweet</th>\n",
       "      <th>Views</th>\n",
       "    </tr>\n",
       "  </thead>\n",
       "  <tbody>\n",
       "    <tr>\n",
       "      <th>26</th>\n",
       "      <td>2023-03-11 22:31:59</td>\n",
       "      <td>1634683615354187776</td>\n",
       "      <td>Three games in on Match of the Day and haven't...</td>\n",
       "      <td>iainmartin1</td>\n",
       "      <td>5</td>\n",
       "      <td>10471</td>\n",
       "    </tr>\n",
       "    <tr>\n",
       "      <th>29</th>\n",
       "      <td>2023-03-11 22:25:49</td>\n",
       "      <td>1634682062790639621</td>\n",
       "      <td>Wait the commentators for MOTD has gone on str...</td>\n",
       "      <td>MilageUK</td>\n",
       "      <td>2</td>\n",
       "      <td>8194</td>\n",
       "    </tr>\n",
       "    <tr>\n",
       "      <th>90</th>\n",
       "      <td>2023-03-11 19:11:17</td>\n",
       "      <td>1634633107260293120</td>\n",
       "      <td>When will Steve Barclay and Gillian Keegan wak...</td>\n",
       "      <td>fifisyms</td>\n",
       "      <td>4</td>\n",
       "      <td>8124</td>\n",
       "    </tr>\n",
       "    <tr>\n",
       "      <th>92</th>\n",
       "      <td>2023-03-11 19:08:38</td>\n",
       "      <td>1634632439459983361</td>\n",
       "      <td>Savage for Palace, a reminder that tiny detail...</td>\n",
       "      <td>stighefootball</td>\n",
       "      <td>0</td>\n",
       "      <td>5999</td>\n",
       "    </tr>\n",
       "    <tr>\n",
       "      <th>84</th>\n",
       "      <td>2023-03-11 19:24:01</td>\n",
       "      <td>1634636313486938116</td>\n",
       "      <td>Nah even the footballers are on strike now, En...</td>\n",
       "      <td>OteghaUwagba</td>\n",
       "      <td>1</td>\n",
       "      <td>3217</td>\n",
       "    </tr>\n",
       "  </tbody>\n",
       "</table>\n",
       "</div>"
      ],
      "text/plain": [
       "              Datetime             Tweet Id  \\\n",
       "26 2023-03-11 22:31:59  1634683615354187776   \n",
       "29 2023-03-11 22:25:49  1634682062790639621   \n",
       "90 2023-03-11 19:11:17  1634633107260293120   \n",
       "92 2023-03-11 19:08:38  1634632439459983361   \n",
       "84 2023-03-11 19:24:01  1634636313486938116   \n",
       "\n",
       "                                                 Text        Username  \\\n",
       "26  Three games in on Match of the Day and haven't...     iainmartin1   \n",
       "29  Wait the commentators for MOTD has gone on str...        MilageUK   \n",
       "90  When will Steve Barclay and Gillian Keegan wak...        fifisyms   \n",
       "92  Savage for Palace, a reminder that tiny detail...  stighefootball   \n",
       "84  Nah even the footballers are on strike now, En...    OteghaUwagba   \n",
       "\n",
       "    Retweet  Views  \n",
       "26        5  10471  \n",
       "29        2   8194  \n",
       "90        4   8124  \n",
       "92        0   5999  \n",
       "84        1   3217  "
      ]
     },
     "execution_count": 60,
     "metadata": {},
     "output_type": "execute_result"
    }
   ],
   "source": [
    "tweets_df.head()"
   ]
  },
  {
   "cell_type": "code",
   "execution_count": 61,
   "id": "17fd5c07-d113-4ff6-bc95-e2e8fa2529ac",
   "metadata": {},
   "outputs": [],
   "source": [
    "tweets_df10 = tweets_df.head(10)"
   ]
  },
  {
   "cell_type": "code",
   "execution_count": 62,
   "id": "8c75762e-6ada-4b8f-a452-abe77c2ecb19",
   "metadata": {},
   "outputs": [
    {
     "data": {
      "text/html": [
       "<div>\n",
       "<style scoped>\n",
       "    .dataframe tbody tr th:only-of-type {\n",
       "        vertical-align: middle;\n",
       "    }\n",
       "\n",
       "    .dataframe tbody tr th {\n",
       "        vertical-align: top;\n",
       "    }\n",
       "\n",
       "    .dataframe thead th {\n",
       "        text-align: right;\n",
       "    }\n",
       "</style>\n",
       "<table border=\"1\" class=\"dataframe\">\n",
       "  <thead>\n",
       "    <tr style=\"text-align: right;\">\n",
       "      <th></th>\n",
       "      <th>Datetime</th>\n",
       "      <th>Tweet Id</th>\n",
       "      <th>Text</th>\n",
       "      <th>Username</th>\n",
       "      <th>Retweet</th>\n",
       "      <th>Views</th>\n",
       "    </tr>\n",
       "  </thead>\n",
       "  <tbody>\n",
       "    <tr>\n",
       "      <th>26</th>\n",
       "      <td>2023-03-11 22:31:59</td>\n",
       "      <td>1634683615354187776</td>\n",
       "      <td>Three games in on Match of the Day and haven't...</td>\n",
       "      <td>iainmartin1</td>\n",
       "      <td>5</td>\n",
       "      <td>10471</td>\n",
       "    </tr>\n",
       "    <tr>\n",
       "      <th>29</th>\n",
       "      <td>2023-03-11 22:25:49</td>\n",
       "      <td>1634682062790639621</td>\n",
       "      <td>Wait the commentators for MOTD has gone on str...</td>\n",
       "      <td>MilageUK</td>\n",
       "      <td>2</td>\n",
       "      <td>8194</td>\n",
       "    </tr>\n",
       "    <tr>\n",
       "      <th>90</th>\n",
       "      <td>2023-03-11 19:11:17</td>\n",
       "      <td>1634633107260293120</td>\n",
       "      <td>When will Steve Barclay and Gillian Keegan wak...</td>\n",
       "      <td>fifisyms</td>\n",
       "      <td>4</td>\n",
       "      <td>8124</td>\n",
       "    </tr>\n",
       "    <tr>\n",
       "      <th>92</th>\n",
       "      <td>2023-03-11 19:08:38</td>\n",
       "      <td>1634632439459983361</td>\n",
       "      <td>Savage for Palace, a reminder that tiny detail...</td>\n",
       "      <td>stighefootball</td>\n",
       "      <td>0</td>\n",
       "      <td>5999</td>\n",
       "    </tr>\n",
       "    <tr>\n",
       "      <th>84</th>\n",
       "      <td>2023-03-11 19:24:01</td>\n",
       "      <td>1634636313486938116</td>\n",
       "      <td>Nah even the footballers are on strike now, En...</td>\n",
       "      <td>OteghaUwagba</td>\n",
       "      <td>1</td>\n",
       "      <td>3217</td>\n",
       "    </tr>\n",
       "    <tr>\n",
       "      <th>95</th>\n",
       "      <td>2023-03-11 19:02:10</td>\n",
       "      <td>1634630812158111744</td>\n",
       "      <td>Never needed a holiday as much as now. So obvs...</td>\n",
       "      <td>Stef_W</td>\n",
       "      <td>1</td>\n",
       "      <td>1379</td>\n",
       "    </tr>\n",
       "    <tr>\n",
       "      <th>38</th>\n",
       "      <td>2023-03-11 21:50:30</td>\n",
       "      <td>1634673177694445569</td>\n",
       "      <td>@dex_eve @GeorgeWHerbert I find the idea of 'w...</td>\n",
       "      <td>shashj</td>\n",
       "      <td>1</td>\n",
       "      <td>1216</td>\n",
       "    </tr>\n",
       "    <tr>\n",
       "      <th>13</th>\n",
       "      <td>2023-03-11 22:55:14</td>\n",
       "      <td>1634689467398119424</td>\n",
       "      <td>@BBCSport Disappointed that no presenter, pund...</td>\n",
       "      <td>JVenicombe</td>\n",
       "      <td>0</td>\n",
       "      <td>1081</td>\n",
       "    </tr>\n",
       "    <tr>\n",
       "      <th>73</th>\n",
       "      <td>2023-03-11 20:06:21</td>\n",
       "      <td>1634646963533619201</td>\n",
       "      <td>@Iniqu1ty You need orbs in strikes? You strugg...</td>\n",
       "      <td>THFCKels</td>\n",
       "      <td>0</td>\n",
       "      <td>1045</td>\n",
       "    </tr>\n",
       "    <tr>\n",
       "      <th>31</th>\n",
       "      <td>2023-03-11 22:24:41</td>\n",
       "      <td>1634681778601435136</td>\n",
       "      <td>Looks like The live band that usually plays th...</td>\n",
       "      <td>JayMahmud</td>\n",
       "      <td>0</td>\n",
       "      <td>932</td>\n",
       "    </tr>\n",
       "  </tbody>\n",
       "</table>\n",
       "</div>"
      ],
      "text/plain": [
       "              Datetime             Tweet Id  \\\n",
       "26 2023-03-11 22:31:59  1634683615354187776   \n",
       "29 2023-03-11 22:25:49  1634682062790639621   \n",
       "90 2023-03-11 19:11:17  1634633107260293120   \n",
       "92 2023-03-11 19:08:38  1634632439459983361   \n",
       "84 2023-03-11 19:24:01  1634636313486938116   \n",
       "95 2023-03-11 19:02:10  1634630812158111744   \n",
       "38 2023-03-11 21:50:30  1634673177694445569   \n",
       "13 2023-03-11 22:55:14  1634689467398119424   \n",
       "73 2023-03-11 20:06:21  1634646963533619201   \n",
       "31 2023-03-11 22:24:41  1634681778601435136   \n",
       "\n",
       "                                                 Text        Username  \\\n",
       "26  Three games in on Match of the Day and haven't...     iainmartin1   \n",
       "29  Wait the commentators for MOTD has gone on str...        MilageUK   \n",
       "90  When will Steve Barclay and Gillian Keegan wak...        fifisyms   \n",
       "92  Savage for Palace, a reminder that tiny detail...  stighefootball   \n",
       "84  Nah even the footballers are on strike now, En...    OteghaUwagba   \n",
       "95  Never needed a holiday as much as now. So obvs...          Stef_W   \n",
       "38  @dex_eve @GeorgeWHerbert I find the idea of 'w...          shashj   \n",
       "13  @BBCSport Disappointed that no presenter, pund...      JVenicombe   \n",
       "73  @Iniqu1ty You need orbs in strikes? You strugg...        THFCKels   \n",
       "31  Looks like The live band that usually plays th...       JayMahmud   \n",
       "\n",
       "    Retweet  Views  \n",
       "26        5  10471  \n",
       "29        2   8194  \n",
       "90        4   8124  \n",
       "92        0   5999  \n",
       "84        1   3217  \n",
       "95        1   1379  \n",
       "38        1   1216  \n",
       "13        0   1081  \n",
       "73        0   1045  \n",
       "31        0    932  "
      ]
     },
     "execution_count": 62,
     "metadata": {},
     "output_type": "execute_result"
    }
   ],
   "source": [
    "tweets_df10 "
   ]
  },
  {
   "cell_type": "code",
   "execution_count": 70,
   "id": "717aa73a-b877-4bdb-84a5-76c7a2114a67",
   "metadata": {},
   "outputs": [
    {
     "data": {
      "image/png": "[encoded data removed]",
      "text/plain": [
       "<Figure size 640x480 with 1 Axes>"
      ]
     },
     "metadata": {},
     "output_type": "display_data"
    }
   ],
   "source": [
    "# Generate word cloud\n",
    "w_tweets = tweets_df['Text']\n",
    "stop_words = [\"https\", \"co\", \"RT\", topic] + list(STOPWORDS)\n",
    "tweets_wordcloud = WordCloud(max_font_size=60, max_words=30, background_color=\"white\", stopwords = stop_words).generate(str(w_tweets))\n",
    "plt.figure()\n",
    "plt.title(\"Tweets - Wordcloud\")\n",
    "plt.imshow(tweets_wordcloud, interpolation=\"bilinear\")\n",
    "plt.axis(\"off\")\n",
    "plt.show()\n",
    "\n",
    "# Save word cloud image to file\n",
    "# wordcloud.to_file('static/wordcloud.png')\n"
   ]
  },
  {
   "cell_type": "code",
   "execution_count": 68,
   "id": "edd4569a-43c5-41ac-b0a1-16e399f086ff",
   "metadata": {},
   "outputs": [
    {
     "data": {
      "text/plain": [
       "<Figure size 640x480 with 0 Axes>"
      ]
     },
     "execution_count": 68,
     "metadata": {},
     "output_type": "execute_result"
    },
    {
     "data": {
      "text/plain": [
       "<Figure size 640x480 with 0 Axes>"
      ]
     },
     "metadata": {},
     "output_type": "display_data"
    }
   ],
   "source": [
    "plt.figure()"
   ]
  },
  {
   "cell_type": "code",
   "execution_count": 69,
   "id": "ad6cf407-5768-4635-be5c-c888bdcccdb9",
   "metadata": {},
   "outputs": [],
   "source": [
    "plt.show()"
   ]
  },
  {
   "cell_type": "code",
   "execution_count": null,
   "id": "af76a231-7586-4876-aa0e-703d38507e4f",
   "metadata": {},
   "outputs": [],
   "source": [
    "# Generate word cloud\n",
    "w_tweets = tweets_df['Text']\n",
    "stop_words = [\"https\", \"co\", \"RT\", topic] + list(STOPWORDS)\n",
    "tweets_wordcloud = WordCloud(max_font_size=60, max_words=30, background_color=\"white\", stopwords = stop_words).generate(str(w_tweets))\n"
   ]
  },
  {
   "cell_type": "code",
   "execution_count": 74,
   "id": "8009a30b-f9ce-473f-a5c6-a2c40ae6b43a",
   "metadata": {},
   "outputs": [
    {
     "ename": "TypeError",
     "evalue": "to_file() got an unexpected keyword argument 'format'",
     "output_type": "error",
     "traceback": [
      "\u001b[1;31m---------------------------------------------------------------------------\u001b[0m",
      "\u001b[1;31mTypeError\u001b[0m                                 Traceback (most recent call last)",
      "Cell \u001b[1;32mIn[74], line 3\u001b[0m\n\u001b[0;32m      1\u001b[0m \u001b[38;5;66;03m# Save wordcloud image to a file\u001b[39;00m\n\u001b[0;32m      2\u001b[0m img_file \u001b[38;5;241m=\u001b[39m BytesIO()\n\u001b[1;32m----> 3\u001b[0m \u001b[43mtweets_wordcloud\u001b[49m\u001b[38;5;241;43m.\u001b[39;49m\u001b[43mto_file\u001b[49m\u001b[43m(\u001b[49m\u001b[43mimg_file\u001b[49m\u001b[43m,\u001b[49m\u001b[43m \u001b[49m\u001b[38;5;28;43mformat\u001b[39;49m\u001b[38;5;241;43m=\u001b[39;49m\u001b[38;5;124;43m'\u001b[39;49m\u001b[38;5;124;43mpng\u001b[39;49m\u001b[38;5;124;43m'\u001b[39;49m\u001b[43m)\u001b[49m\n\u001b[0;32m      4\u001b[0m img_file\u001b[38;5;241m.\u001b[39mseek(\u001b[38;5;241m0\u001b[39m)\n\u001b[0;32m      5\u001b[0m img_data \u001b[38;5;241m=\u001b[39m base64\u001b[38;5;241m.\u001b[39mb64encode(img_file\u001b[38;5;241m.\u001b[39mgetvalue())\u001b[38;5;241m.\u001b[39mdecode(\u001b[38;5;124m'\u001b[39m\u001b[38;5;124mutf-8\u001b[39m\u001b[38;5;124m'\u001b[39m)\n",
      "\u001b[1;31mTypeError\u001b[0m: to_file() got an unexpected keyword argument 'format'"
     ]
    }
   ],
   "source": [
    "# Save wordcloud image to a file\n",
    "img_file = BytesIO()\n",
    "tweets_wordcloud.to_file(img_file, format='png')\n",
    "img_file.seek(0)\n",
    "img_data = base64.b64encode(img_file.getvalue()).decode('utf-8')"
   ]
  },
  {
   "cell_type": "code",
   "execution_count": 75,
   "id": "5bcbff92-7e28-4c2a-81e5-f91e10fce673",
   "metadata": {},
   "outputs": [],
   "source": [
    "from multiprocessing import Process, Queue"
   ]
  },
  {
   "cell_type": "code",
   "execution_count": 1,
   "id": "565e8367-c0cd-41ee-bc35-ee22961cfa17",
   "metadata": {},
   "outputs": [
    {
     "name": "stdout",
     "output_type": "stream",
     "text": [
      " * Serving Flask app '__main__'\n",
      " * Debug mode: on\n"
     ]
    },
    {
     "name": "stderr",
     "output_type": "stream",
     "text": [
      "WARNING: This is a development server. Do not use it in a production deployment. Use a production WSGI server instead.\n",
      " * Running on http://127.0.0.1:5000\n",
      "Press CTRL+C to quit\n",
      " * Restarting with stat\n"
     ]
    },
    {
     "ename": "SystemExit",
     "evalue": "1",
     "output_type": "error",
     "traceback": [
      "An exception has occurred, use %tb to see the full traceback.\n",
      "\u001b[1;31mSystemExit\u001b[0m\u001b[1;31m:\u001b[0m 1\n"
     ]
    },
    {
     "name": "stderr",
     "output_type": "stream",
     "text": [
      "C:\\Users\\temit\\anaconda3\\envs\\myenv\\lib\\site-packages\\IPython\\core\\interactiveshell.py:3468: UserWarning: To exit: use 'exit', 'quit', or Ctrl-D.\n",
      "  warn(\"To exit: use 'exit', 'quit', or Ctrl-D.\", stacklevel=1)\n"
     ]
    }
   ],
   "source": [
    "from flask import Flask, render_template, request, url_for\n",
    "import pandas as pd\n",
    "import snscrape.modules.twitter as sntwitter\n",
    "from wordcloud import WordCloud\n",
    "from wordcloud import STOPWORDS\n",
    "import matplotlib.pyplot as plt\n",
    "from PIL import Image\n",
    "import numpy as np\n",
    "import re\n",
    "\n",
    "app = Flask(__name__)\n",
    "\n",
    "@app.route('/')\n",
    "def home():\n",
    "    # Render the home template\n",
    "    return render_template('home.html')\n",
    "\n",
    "@app.route('/result', methods=['POST'])\n",
    "def result():\n",
    "    # Get user input from the form\n",
    "    try:\n",
    "        topic = request.form['topic']\n",
    "        location = request.form['location']\n",
    "        start_date = request.form['start_date']\n",
    "        end_date = request.form['end_date']\n",
    "        max_tweets = int(request.form['max_tweets'])\n",
    "    except:\n",
    "        # If the user input is invalid, render the error template\n",
    "        return render_template('error.html', message='Invalid input')\n",
    "\n",
    "    # Create query for snscrape\n",
    "    query = f'({topic}) near:\"{location}\" lang:en until:{end_date} since:{start_date} -filter:links -filter:retweet'\n",
    "\n",
    "    # Create empty list to store tweets\n",
    "    tweets_list = []\n",
    "\n",
    "    # Use snscrape to scrape tweets\n",
    "    for i, tweet in enumerate(sntwitter.TwitterSearchScraper(query).get_items()):\n",
    "        if i >= max_tweets:\n",
    "            break\n",
    "        tweets_list.append([tweet.date, tweet.rawContent, tweet.user.username, tweet.viewCount])\n",
    "        \n",
    "    # Create a Pandas DataFrame from the list of tweets\n",
    "    tweets_df = pd.DataFrame(tweets_list, columns=['Date', 'Text', 'Username', 'Views'])\n",
    "    tweets_df['Date'] = tweets_df['Date'].dt.date\n",
    "    tweets_df =tweets_df.sort_values(by=['Views'], ascending=False)\n",
    "    \n",
    "    # Check if there are any tweets\n",
    "    if tweets_df.empty:\n",
    "        # If there are no tweets, render the error template\n",
    "        return render_template('error.html', message='No tweets found')\n",
    "\n",
    "    # Get the top 10 most viewed tweets\n",
    "    tweets_df10 = tweets_df.head(10)\n",
    "    \n",
    "    # Generate word cloud\n",
    "    w_tweets = tweets_df['Text'].str.replace('(\\@\\w+.*?)',\"\")\n",
    "    w_tweets = w_tweets.str.replace('(\\#\\w+.*?)',\"\")\n",
    "    stop_words = [\"https\", \"co\", \"RT\", topic.lower()] + list(STOPWORDS)\n",
    "    wds_tweets = re.sub(r'\\b\\w{1,3}\\b', '', str(w_tweets))\n",
    "    tweets_wordcloud = WordCloud(width=700, height=400,max_font_size=90, max_words=40, background_color=\"white\", stopwords = stop_words).generate(wds_tweets.lower())\n",
    "\n",
    "    # Save word cloud as image file\n",
    "    tweets_wordcloud.to_file('static/wordcloud.png')\n",
    "\n",
    "    # Render the results template with the DataFrame as a parameter        \n",
    "    return render_template('result.html', topic=topic, tweets=tweets_df10.to_html(index=False))\n",
    "\n",
    "if __name__ == '__main__':\n",
    "    app.run(debug=True)"
   ]
  },
  {
   "cell_type": "code",
   "execution_count": 6,
   "id": "f00009a5-4e72-4eb1-9ff5-d7d6b46c30c1",
   "metadata": {},
   "outputs": [
    {
     "ename": "NameError",
     "evalue": "name 'snscrape' is not defined",
     "output_type": "error",
     "traceback": [
      "\u001b[1;31m---------------------------------------------------------------------------\u001b[0m",
      "\u001b[1;31mNameError\u001b[0m                                 Traceback (most recent call last)",
      "Cell \u001b[1;32mIn[6], line 1\u001b[0m\n\u001b[1;32m----> 1\u001b[0m \u001b[43msnscrape\u001b[49m\u001b[38;5;241m/\u001b[39mmodules\u001b[38;5;241m/\u001b[39mtwitter\u001b[38;5;241m.\u001b[39mpy\n",
      "\u001b[1;31mNameError\u001b[0m: name 'snscrape' is not defined"
     ]
    }
   ],
   "source": [
    "snscrape/modules/twitter.py"
   ]
  },
  {
   "cell_type": "code",
   "execution_count": 10,
   "id": "d5df1297-0c3b-49c3-b6d9-6d0307b1f92f",
   "metadata": {},
   "outputs": [
    {
     "ename": "IndentationError",
     "evalue": "expected an indented block (120265517.py, line 2)",
     "output_type": "error",
     "traceback": [
      "\u001b[1;36m  Cell \u001b[1;32mIn[10], line 2\u001b[1;36m\u001b[0m\n\u001b[1;33m    del self._apiHeaders['x-guest-token']\u001b[0m\n\u001b[1;37m    ^\u001b[0m\n\u001b[1;31mIndentationError\u001b[0m\u001b[1;31m:\u001b[0m expected an indented block\n"
     ]
    }
   ],
   "source": [
    "def _unset_guest_token(self):\n",
    "del self._apiHeaders['x-guest-token']\n",
    "\n",
    "def _check_api_response(self, r):\n",
    "    if r.status_code == 429:\n",
    "    if r.status_code in (403, 429):\n",
    "        self._unset_guest_token()\n",
    "        self._ensure_guest_token()\n",
    "        return False, 'rate-limited'\n",
    "        return False, f'blocked ({r.status_code})'\n",
    "if r.headers.get('content-type', '').replace(' ', '') != 'application/json;charset=utf-8':\n",
    "    return False, 'content type is not JSON'\n",
    "    if r.status_code != 200:"
   ]
  },
  {
   "cell_type": "code",
   "execution_count": 13,
   "id": "753c6c62-b5c5-45a8-b57c-8955181cf61c",
   "metadata": {},
   "outputs": [
    {
     "name": "stderr",
     "output_type": "stream",
     "text": [
      "Error retrieving https://api.twitter.com/2/search/adaptive.json?include_profile_interstitial_type=1&include_blocking=1&include_blocked_by=1&include_followed_by=1&include_want_retweets=1&include_mute_edge=1&include_can_dm=1&include_can_media_tag=1&include_ext_has_nft_avatar=1&include_ext_is_blue_verified=1&include_ext_verified_type=1&skip_status=1&cards_platform=Web-12&include_cards=1&include_ext_alt_text=true&include_ext_limited_action_results=false&include_quote_count=true&include_reply_count=1&tweet_mode=extended&include_ext_collab_control=true&include_ext_views=true&include_entities=true&include_user_entities=true&include_ext_media_color=true&include_ext_media_availability=true&include_ext_sensitive_media_warning=true&include_ext_trusted_friends_metadata=true&send_error_codes=true&simple_quoted_tweet=true&q=vaccine+top+%3D+True+since%3A2021-01-01+until%3A2021-05-31&tweet_search_mode=live&count=20&query_source=spelling_expansion_revert_click&pc=1&spelling_corrections=1&include_ext_edit_control=true&ext=mediaStats%2ChighlightedLabel%2ChasNftAvatar%2CvoiceInfo%2Cenrichments%2CsuperFollowMetadata%2CunmentionInfo%2CeditControl%2Ccollab_control%2Cvibe: non-200 status code (404)\n",
      "4 requests to https://api.twitter.com/2/search/adaptive.json?include_profile_interstitial_type=1&include_blocking=1&include_blocked_by=1&include_followed_by=1&include_want_retweets=1&include_mute_edge=1&include_can_dm=1&include_can_media_tag=1&include_ext_has_nft_avatar=1&include_ext_is_blue_verified=1&include_ext_verified_type=1&skip_status=1&cards_platform=Web-12&include_cards=1&include_ext_alt_text=true&include_ext_limited_action_results=false&include_quote_count=true&include_reply_count=1&tweet_mode=extended&include_ext_collab_control=true&include_ext_views=true&include_entities=true&include_user_entities=true&include_ext_media_color=true&include_ext_media_availability=true&include_ext_sensitive_media_warning=true&include_ext_trusted_friends_metadata=true&send_error_codes=true&simple_quoted_tweet=true&q=vaccine+top+%3D+True+since%3A2021-01-01+until%3A2021-05-31&tweet_search_mode=live&count=20&query_source=spelling_expansion_revert_click&pc=1&spelling_corrections=1&include_ext_edit_control=true&ext=mediaStats%2ChighlightedLabel%2ChasNftAvatar%2CvoiceInfo%2Cenrichments%2CsuperFollowMetadata%2CunmentionInfo%2CeditControl%2Ccollab_control%2Cvibe failed, giving up.\n",
      "Errors: non-200 status code (404), non-200 status code (404), non-200 status code (404), non-200 status code (404)\n"
     ]
    },
    {
     "ename": "ScraperException",
     "evalue": "4 requests to https://api.twitter.com/2/search/adaptive.json?include_profile_interstitial_type=1&include_blocking=1&include_blocked_by=1&include_followed_by=1&include_want_retweets=1&include_mute_edge=1&include_can_dm=1&include_can_media_tag=1&include_ext_has_nft_avatar=1&include_ext_is_blue_verified=1&include_ext_verified_type=1&skip_status=1&cards_platform=Web-12&include_cards=1&include_ext_alt_text=true&include_ext_limited_action_results=false&include_quote_count=true&include_reply_count=1&tweet_mode=extended&include_ext_collab_control=true&include_ext_views=true&include_entities=true&include_user_entities=true&include_ext_media_color=true&include_ext_media_availability=true&include_ext_sensitive_media_warning=true&include_ext_trusted_friends_metadata=true&send_error_codes=true&simple_quoted_tweet=true&q=vaccine+top+%3D+True+since%3A2021-01-01+until%3A2021-05-31&tweet_search_mode=live&count=20&query_source=spelling_expansion_revert_click&pc=1&spelling_corrections=1&include_ext_edit_control=true&ext=mediaStats%2ChighlightedLabel%2ChasNftAvatar%2CvoiceInfo%2Cenrichments%2CsuperFollowMetadata%2CunmentionInfo%2CeditControl%2Ccollab_control%2Cvibe failed, giving up.",
     "output_type": "error",
     "traceback": [
      "\u001b[1;31m---------------------------------------------------------------------------\u001b[0m",
      "\u001b[1;31mScraperException\u001b[0m                          Traceback (most recent call last)",
      "Cell \u001b[1;32mIn[13], line 9\u001b[0m\n\u001b[0;32m      2\u001b[0m \u001b[38;5;28;01mimport\u001b[39;00m \u001b[38;5;21;01mpandas\u001b[39;00m \u001b[38;5;28;01mas\u001b[39;00m \u001b[38;5;21;01mpd\u001b[39;00m\n\u001b[0;32m      5\u001b[0m tweets_list2 \u001b[38;5;241m=\u001b[39m []\n\u001b[1;32m----> 9\u001b[0m \u001b[38;5;28;01mfor\u001b[39;00m i, tweet \u001b[38;5;129;01min\u001b[39;00m \u001b[38;5;28menumerate\u001b[39m(sntwitter\u001b[38;5;241m.\u001b[39mTwitterSearchScraper(\u001b[38;5;124m'\u001b[39m\u001b[38;5;124mvaccine top = True since:2021-01-01 until:2021-05-31\u001b[39m\u001b[38;5;124m'\u001b[39m)\u001b[38;5;241m.\u001b[39mget_items()):\n\u001b[0;32m     11\u001b[0m    attribute_list \u001b[38;5;241m=\u001b[39m [tweet\u001b[38;5;241m.\u001b[39mdate, tweet\u001b[38;5;241m.\u001b[39mid, tweet\u001b[38;5;241m.\u001b[39muser\u001b[38;5;241m.\u001b[39musername, tweet\u001b[38;5;241m.\u001b[39muser\u001b[38;5;241m.\u001b[39mid, tweet\u001b[38;5;241m.\u001b[39muser\u001b[38;5;241m.\u001b[39mdisplayname, tweet\u001b[38;5;241m.\u001b[39muser\u001b[38;5;241m.\u001b[39mlocation,  \n\u001b[0;32m     12\u001b[0m                      tweet\u001b[38;5;241m.\u001b[39muser\u001b[38;5;241m.\u001b[39mfollowersCount, tweet\u001b[38;5;241m.\u001b[39muser\u001b[38;5;241m.\u001b[39mfriendsCount, tweet\u001b[38;5;241m.\u001b[39muser\u001b[38;5;241m.\u001b[39mstatusesCount, \n\u001b[0;32m     13\u001b[0m                      tweet\u001b[38;5;241m.\u001b[39mretweetedTweet, tweet\u001b[38;5;241m.\u001b[39mcontent, tweet\u001b[38;5;241m.\u001b[39mlang, tweet\u001b[38;5;241m.\u001b[39mmentionedUsers\n\u001b[0;32m     14\u001b[0m                      ]    \n\u001b[0;32m     16\u001b[0m    tweets_list2\u001b[38;5;241m.\u001b[39mappend(attribute_list)\n",
      "File \u001b[1;32m~\\anaconda3\\envs\\myenv\\lib\\site-packages\\snscrape\\modules\\twitter.py:1657\u001b[0m, in \u001b[0;36mTwitterSearchScraper.get_items\u001b[1;34m(self)\u001b[0m\n\u001b[0;32m   1654\u001b[0m params \u001b[38;5;241m=\u001b[39m paginationParams\u001b[38;5;241m.\u001b[39mcopy()\n\u001b[0;32m   1655\u001b[0m \u001b[38;5;28;01mdel\u001b[39;00m params[\u001b[38;5;124m'\u001b[39m\u001b[38;5;124mcursor\u001b[39m\u001b[38;5;124m'\u001b[39m]\n\u001b[1;32m-> 1657\u001b[0m \u001b[38;5;28;01mfor\u001b[39;00m obj \u001b[38;5;129;01min\u001b[39;00m \u001b[38;5;28mself\u001b[39m\u001b[38;5;241m.\u001b[39m_iter_api_data(\u001b[38;5;124m'\u001b[39m\u001b[38;5;124mhttps://api.twitter.com/2/search/adaptive.json\u001b[39m\u001b[38;5;124m'\u001b[39m, _TwitterAPIType\u001b[38;5;241m.\u001b[39mV2, params, paginationParams, cursor \u001b[38;5;241m=\u001b[39m \u001b[38;5;28mself\u001b[39m\u001b[38;5;241m.\u001b[39m_cursor):\n\u001b[0;32m   1658\u001b[0m \t\u001b[38;5;28;01myield from\u001b[39;00m \u001b[38;5;28mself\u001b[39m\u001b[38;5;241m.\u001b[39m_v2_timeline_instructions_to_tweets_or_users(obj)\n",
      "File \u001b[1;32m~\\anaconda3\\envs\\myenv\\lib\\site-packages\\snscrape\\modules\\twitter.py:761\u001b[0m, in \u001b[0;36m_TwitterAPIScraper._iter_api_data\u001b[1;34m(self, endpoint, apiType, params, paginationParams, cursor, direction)\u001b[0m\n\u001b[0;32m    759\u001b[0m \u001b[38;5;28;01mwhile\u001b[39;00m \u001b[38;5;28;01mTrue\u001b[39;00m:\n\u001b[0;32m    760\u001b[0m \t_logger\u001b[38;5;241m.\u001b[39minfo(\u001b[38;5;124mf\u001b[39m\u001b[38;5;124m'\u001b[39m\u001b[38;5;124mRetrieving scroll page \u001b[39m\u001b[38;5;132;01m{\u001b[39;00mcursor\u001b[38;5;132;01m}\u001b[39;00m\u001b[38;5;124m'\u001b[39m)\n\u001b[1;32m--> 761\u001b[0m \tobj \u001b[38;5;241m=\u001b[39m \u001b[38;5;28;43mself\u001b[39;49m\u001b[38;5;241;43m.\u001b[39;49m\u001b[43m_get_api_data\u001b[49m\u001b[43m(\u001b[49m\u001b[43mendpoint\u001b[49m\u001b[43m,\u001b[49m\u001b[43m \u001b[49m\u001b[43mapiType\u001b[49m\u001b[43m,\u001b[49m\u001b[43m \u001b[49m\u001b[43mreqParams\u001b[49m\u001b[43m)\u001b[49m\n\u001b[0;32m    762\u001b[0m \t\u001b[38;5;28;01myield\u001b[39;00m obj\n\u001b[0;32m    764\u001b[0m \t\u001b[38;5;66;03m# No data format test, just a hard and loud crash if anything's wrong :-)\u001b[39;00m\n",
      "File \u001b[1;32m~\\anaconda3\\envs\\myenv\\lib\\site-packages\\snscrape\\modules\\twitter.py:727\u001b[0m, in \u001b[0;36m_TwitterAPIScraper._get_api_data\u001b[1;34m(self, endpoint, apiType, params)\u001b[0m\n\u001b[0;32m    725\u001b[0m \u001b[38;5;28;01mif\u001b[39;00m apiType \u001b[38;5;129;01mis\u001b[39;00m _TwitterAPIType\u001b[38;5;241m.\u001b[39mGRAPHQL:\n\u001b[0;32m    726\u001b[0m \tparams \u001b[38;5;241m=\u001b[39m urllib\u001b[38;5;241m.\u001b[39mparse\u001b[38;5;241m.\u001b[39murlencode({k: json\u001b[38;5;241m.\u001b[39mdumps(v, separators \u001b[38;5;241m=\u001b[39m (\u001b[38;5;124m'\u001b[39m\u001b[38;5;124m,\u001b[39m\u001b[38;5;124m'\u001b[39m, \u001b[38;5;124m'\u001b[39m\u001b[38;5;124m:\u001b[39m\u001b[38;5;124m'\u001b[39m)) \u001b[38;5;28;01mfor\u001b[39;00m k, v \u001b[38;5;129;01min\u001b[39;00m params\u001b[38;5;241m.\u001b[39mitems()}, quote_via \u001b[38;5;241m=\u001b[39m urllib\u001b[38;5;241m.\u001b[39mparse\u001b[38;5;241m.\u001b[39mquote)\n\u001b[1;32m--> 727\u001b[0m r \u001b[38;5;241m=\u001b[39m \u001b[38;5;28;43mself\u001b[39;49m\u001b[38;5;241;43m.\u001b[39;49m\u001b[43m_get\u001b[49m\u001b[43m(\u001b[49m\u001b[43mendpoint\u001b[49m\u001b[43m,\u001b[49m\u001b[43m \u001b[49m\u001b[43mparams\u001b[49m\u001b[43m \u001b[49m\u001b[38;5;241;43m=\u001b[39;49m\u001b[43m \u001b[49m\u001b[43mparams\u001b[49m\u001b[43m,\u001b[49m\u001b[43m \u001b[49m\u001b[43mheaders\u001b[49m\u001b[43m \u001b[49m\u001b[38;5;241;43m=\u001b[39;49m\u001b[43m \u001b[49m\u001b[38;5;28;43mself\u001b[39;49m\u001b[38;5;241;43m.\u001b[39;49m\u001b[43m_apiHeaders\u001b[49m\u001b[43m,\u001b[49m\u001b[43m \u001b[49m\u001b[43mresponseOkCallback\u001b[49m\u001b[43m \u001b[49m\u001b[38;5;241;43m=\u001b[39;49m\u001b[43m \u001b[49m\u001b[38;5;28;43mself\u001b[39;49m\u001b[38;5;241;43m.\u001b[39;49m\u001b[43m_check_api_response\u001b[49m\u001b[43m)\u001b[49m\n\u001b[0;32m    728\u001b[0m \u001b[38;5;28;01mtry\u001b[39;00m:\n\u001b[0;32m    729\u001b[0m \tobj \u001b[38;5;241m=\u001b[39m r\u001b[38;5;241m.\u001b[39mjson()\n",
      "File \u001b[1;32m~\\anaconda3\\envs\\myenv\\lib\\site-packages\\snscrape\\base.py:251\u001b[0m, in \u001b[0;36mScraper._get\u001b[1;34m(self, *args, **kwargs)\u001b[0m\n\u001b[0;32m    250\u001b[0m \u001b[38;5;28;01mdef\u001b[39;00m \u001b[38;5;21m_get\u001b[39m(\u001b[38;5;28mself\u001b[39m, \u001b[38;5;241m*\u001b[39margs, \u001b[38;5;241m*\u001b[39m\u001b[38;5;241m*\u001b[39mkwargs):\n\u001b[1;32m--> 251\u001b[0m \t\u001b[38;5;28;01mreturn\u001b[39;00m \u001b[38;5;28mself\u001b[39m\u001b[38;5;241m.\u001b[39m_request(\u001b[38;5;124m'\u001b[39m\u001b[38;5;124mGET\u001b[39m\u001b[38;5;124m'\u001b[39m, \u001b[38;5;241m*\u001b[39margs, \u001b[38;5;241m*\u001b[39m\u001b[38;5;241m*\u001b[39mkwargs)\n",
      "File \u001b[1;32m~\\anaconda3\\envs\\myenv\\lib\\site-packages\\snscrape\\base.py:247\u001b[0m, in \u001b[0;36mScraper._request\u001b[1;34m(self, method, url, params, data, headers, timeout, responseOkCallback, allowRedirects, proxies)\u001b[0m\n\u001b[0;32m    245\u001b[0m \t_logger\u001b[38;5;241m.\u001b[39mfatal(msg)\n\u001b[0;32m    246\u001b[0m \t_logger\u001b[38;5;241m.\u001b[39mfatal(\u001b[38;5;124mf\u001b[39m\u001b[38;5;124m'\u001b[39m\u001b[38;5;124mErrors: \u001b[39m\u001b[38;5;132;01m{\u001b[39;00m\u001b[38;5;124m\"\u001b[39m\u001b[38;5;124m, \u001b[39m\u001b[38;5;124m\"\u001b[39m\u001b[38;5;241m.\u001b[39mjoin(errors)\u001b[38;5;132;01m}\u001b[39;00m\u001b[38;5;124m'\u001b[39m)\n\u001b[1;32m--> 247\u001b[0m \t\u001b[38;5;28;01mraise\u001b[39;00m ScraperException(msg)\n\u001b[0;32m    248\u001b[0m \u001b[38;5;28;01mraise\u001b[39;00m \u001b[38;5;167;01mRuntimeError\u001b[39;00m(\u001b[38;5;124m'\u001b[39m\u001b[38;5;124mReached unreachable code\u001b[39m\u001b[38;5;124m'\u001b[39m)\n",
      "\u001b[1;31mScraperException\u001b[0m: 4 requests to https://api.twitter.com/2/search/adaptive.json?include_profile_interstitial_type=1&include_blocking=1&include_blocked_by=1&include_followed_by=1&include_want_retweets=1&include_mute_edge=1&include_can_dm=1&include_can_media_tag=1&include_ext_has_nft_avatar=1&include_ext_is_blue_verified=1&include_ext_verified_type=1&skip_status=1&cards_platform=Web-12&include_cards=1&include_ext_alt_text=true&include_ext_limited_action_results=false&include_quote_count=true&include_reply_count=1&tweet_mode=extended&include_ext_collab_control=true&include_ext_views=true&include_entities=true&include_user_entities=true&include_ext_media_color=true&include_ext_media_availability=true&include_ext_sensitive_media_warning=true&include_ext_trusted_friends_metadata=true&send_error_codes=true&simple_quoted_tweet=true&q=vaccine+top+%3D+True+since%3A2021-01-01+until%3A2021-05-31&tweet_search_mode=live&count=20&query_source=spelling_expansion_revert_click&pc=1&spelling_corrections=1&include_ext_edit_control=true&ext=mediaStats%2ChighlightedLabel%2ChasNftAvatar%2CvoiceInfo%2Cenrichments%2CsuperFollowMetadata%2CunmentionInfo%2CeditControl%2Ccollab_control%2Cvibe failed, giving up."
     ]
    }
   ],
   "source": [
    " import snscrape.modules.twitter as sntwitter\n",
    " import pandas as pd\n",
    "\n",
    "\n",
    " tweets_list2 = []\n",
    "\n",
    "\n",
    "\n",
    " for i, tweet in enumerate(sntwitter.TwitterSearchScraper('vaccine top = True since:2021-01-01 until:2021-05-31').get_items()):\n",
    " \n",
    "    attribute_list = [tweet.date, tweet.id, tweet.user.username, tweet.user.id, tweet.user.displayname, tweet.user.location,  \n",
    "                      tweet.user.followersCount, tweet.user.friendsCount, tweet.user.statusesCount, \n",
    "                      tweet.retweetedTweet, tweet.content, tweet.lang, tweet.mentionedUsers\n",
    "                      ]    \n",
    "\n",
    "    tweets_list2.append(attribute_list)"
   ]
  },
  {
   "cell_type": "code",
   "execution_count": 5,
   "id": "fcebf939-90a2-4486-956e-ae388d506681",
   "metadata": {},
   "outputs": [
    {
     "ename": "FileNotFoundError",
     "evalue": "[Errno 2] No such file or directory: 'twitterids'",
     "output_type": "error",
     "traceback": [
      "\u001b[1;31m---------------------------------------------------------------------------\u001b[0m",
      "\u001b[1;31mFileNotFoundError\u001b[0m                         Traceback (most recent call last)",
      "Cell \u001b[1;32mIn[5], line 5\u001b[0m\n\u001b[0;32m      2\u001b[0m \u001b[38;5;28;01mimport\u001b[39;00m \u001b[38;5;21;01mjson\u001b[39;00m\u001b[38;5;241m,\u001b[39m \u001b[38;5;21;01mtime\u001b[39;00m\n\u001b[0;32m      3\u001b[0m \u001b[38;5;28;01mfrom\u001b[39;00m \u001b[38;5;21;01malive_progress\u001b[39;00m \u001b[38;5;28;01mimport\u001b[39;00m alive_bar\n\u001b[1;32m----> 5\u001b[0m \u001b[38;5;28;01mwith\u001b[39;00m \u001b[38;5;28;43mopen\u001b[39;49m\u001b[43m(\u001b[49m\u001b[38;5;124;43m\"\u001b[39;49m\u001b[38;5;124;43mtwitterids\u001b[39;49m\u001b[38;5;124;43m\"\u001b[39;49m\u001b[43m)\u001b[49m \u001b[38;5;28;01mas\u001b[39;00m ids:\n\u001b[0;32m      6\u001b[0m     ids \u001b[38;5;241m=\u001b[39m ids\u001b[38;5;241m.\u001b[39mread()\u001b[38;5;241m.\u001b[39mstrip(\u001b[38;5;124m\"\u001b[39m\u001b[38;5;130;01m\\n\u001b[39;00m\u001b[38;5;124m\"\u001b[39m)\u001b[38;5;241m.\u001b[39msplit(\u001b[38;5;124m\"\u001b[39m\u001b[38;5;130;01m\\n\u001b[39;00m\u001b[38;5;124m\"\u001b[39m)\n\u001b[0;32m      7\u001b[0m \u001b[38;5;28;01mtry\u001b[39;00m:\n",
      "File \u001b[1;32m~\\anaconda3\\envs\\myenv\\lib\\site-packages\\IPython\\core\\interactiveshell.py:282\u001b[0m, in \u001b[0;36m_modified_open\u001b[1;34m(file, *args, **kwargs)\u001b[0m\n\u001b[0;32m    275\u001b[0m \u001b[38;5;28;01mif\u001b[39;00m file \u001b[38;5;129;01min\u001b[39;00m {\u001b[38;5;241m0\u001b[39m, \u001b[38;5;241m1\u001b[39m, \u001b[38;5;241m2\u001b[39m}:\n\u001b[0;32m    276\u001b[0m     \u001b[38;5;28;01mraise\u001b[39;00m \u001b[38;5;167;01mValueError\u001b[39;00m(\n\u001b[0;32m    277\u001b[0m         \u001b[38;5;124mf\u001b[39m\u001b[38;5;124m\"\u001b[39m\u001b[38;5;124mIPython won\u001b[39m\u001b[38;5;124m'\u001b[39m\u001b[38;5;124mt let you open fd=\u001b[39m\u001b[38;5;132;01m{\u001b[39;00mfile\u001b[38;5;132;01m}\u001b[39;00m\u001b[38;5;124m by default \u001b[39m\u001b[38;5;124m\"\u001b[39m\n\u001b[0;32m    278\u001b[0m         \u001b[38;5;124m\"\u001b[39m\u001b[38;5;124mas it is likely to crash IPython. If you know what you are doing, \u001b[39m\u001b[38;5;124m\"\u001b[39m\n\u001b[0;32m    279\u001b[0m         \u001b[38;5;124m\"\u001b[39m\u001b[38;5;124myou can use builtins\u001b[39m\u001b[38;5;124m'\u001b[39m\u001b[38;5;124m open.\u001b[39m\u001b[38;5;124m\"\u001b[39m\n\u001b[0;32m    280\u001b[0m     )\n\u001b[1;32m--> 282\u001b[0m \u001b[38;5;28;01mreturn\u001b[39;00m io_open(file, \u001b[38;5;241m*\u001b[39margs, \u001b[38;5;241m*\u001b[39m\u001b[38;5;241m*\u001b[39mkwargs)\n",
      "\u001b[1;31mFileNotFoundError\u001b[0m: [Errno 2] No such file or directory: 'twitterids'"
     ]
    }
   ],
   "source": [
    "from snscrape.modules.twitter import TwitterTweetScraperMode, TwitterTweetScraper\n",
    "import json, time\n",
    "from alive_progress import alive_bar\n",
    "\n",
    "with open(\"twitterids\") as ids:\n",
    "    ids = ids.read().strip(\"\\n\").split(\"\\n\")\n",
    "try:\n",
    "    with open(\"finished\") as finished_ids:\n",
    "        finished = json.load(finished_ids)\n",
    "except IOError:\n",
    "    finished = []\n",
    "\n",
    "def writejson(finished, ourjson):\n",
    "    to_write = \"\"\n",
    "    for tweet in ourjson:\n",
    "        to_write += f\"{tweet}\\n\"\n",
    "    with open(\"tweets.jsonl\", \"a+\") as fil:\n",
    "        fil.write(to_write)\n",
    "    with open(\"finished\", \"w+\") as fin:\n",
    "        fin.write(json.dumps(finished))\n",
    "\n",
    "with alive_bar(total=len(ids)) as bar:\n",
    "    for identifier in ids:\n",
    "        if int(identifier) in finished:\n",
    "            print(f\"{identifier} already in archive file; skipping\")\n",
    "            bar()\n",
    "            continue\n",
    "        ourjson = []\n",
    "        bar.text(identifier)\n",
    "        scraper = TwitterTweetScraper(identifier, mode=TwitterTweetScraperMode.RECURSE)\n",
    "        for tweet in scraper.get_items():\n",
    "            tweet[\"archivist_data\"] = {\"time\": time.time()}\n",
    "            tweetdata = tweet.json()\n",
    "            finished.append(tweet.id)\n",
    "            ourjson.append(tweetdata)\n",
    "        writejson(finished, ourjson)\n",
    "        bar()"
   ]
  },
  {
   "cell_type": "code",
   "execution_count": null,
   "id": "1341012a-734d-4b07-8877-6dcfa4698a81",
   "metadata": {},
   "outputs": [],
   "source": []
  }
 ],
 "metadata": {
  "kernelspec": {
   "display_name": "Python 3 (ipykernel)",
   "language": "python",
   "name": "python3"
  },
  "language_info": {
   "codemirror_mode": {
    "name": "ipython",
    "version": 3
   },
   "file_extension": ".py",
   "mimetype": "text/x-python",
   "name": "python",
   "nbconvert_exporter": "python",
   "pygments_lexer": "ipython3",
   "version": "3.9.16"
  }
 },
 "nbformat": 4,
 "nbformat_minor": 5
}
