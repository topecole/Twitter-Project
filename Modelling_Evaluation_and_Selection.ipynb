{
 "cells": [
  {
   "cell_type": "code",
   "execution_count": 4,
   "metadata": {
    "executionInfo": {
     "elapsed": 4815,
     "status": "ok",
     "timestamp": 1683126526349,
     "user": {
      "displayName": "Temitope Adekoya-Cole",
      "userId": "07185927863145761375"
     },
     "user_tz": -60
    },
    "id": "9wfUJ8NWvuJ8",
    "tags": []
   },
   "outputs": [
    {
     "name": "stdout",
     "output_type": "stream",
     "text": [
      "Note: you may need to restart the kernel to use updated packages.\n"
     ]
    }
   ],
   "source": [
    "pip install -q transformers matplotlib wordcloud seaborn scikit-plot contractions nltk regex tweetnlp"
   ]
  },
  {
   "cell_type": "code",
   "execution_count": 5,
   "metadata": {
    "colab": {
     "base_uri": "https://localhost:8080/"
    },
    "executionInfo": {
     "elapsed": 6100,
     "status": "ok",
     "timestamp": 1683126532446,
     "user": {
      "displayName": "Temitope Adekoya-Cole",
      "userId": "07185927863145761375"
     },
     "user_tz": -60
    },
    "id": "5QX8cT8zwE8U",
    "outputId": "5b1c822d-107d-479e-c8d9-0fde683b6204"
   },
   "outputs": [
    {
     "name": "stderr",
     "output_type": "stream",
     "text": [
      "C:\\Users\\temit\\anaconda3\\envs\\myenv2\\lib\\site-packages\\tqdm\\auto.py:21: TqdmWarning: IProgress not found. Please update jupyter and ipywidgets. See https://ipywidgets.readthedocs.io/en/stable/user_install.html\n",
      "  from .autonotebook import tqdm as notebook_tqdm\n",
      "[nltk_data] Downloading package punkt to\n",
      "[nltk_data]     C:\\Users\\temit\\AppData\\Roaming\\nltk_data...\n",
      "[nltk_data]   Package punkt is already up-to-date!\n",
      "[nltk_data] Downloading package stopwords to\n",
      "[nltk_data]     C:\\Users\\temit\\AppData\\Roaming\\nltk_data...\n",
      "[nltk_data]   Package stopwords is already up-to-date!\n",
      "[nltk_data] Downloading package wordnet to\n",
      "[nltk_data]     C:\\Users\\temit\\AppData\\Roaming\\nltk_data...\n",
      "[nltk_data]   Package wordnet is already up-to-date!\n"
     ]
    },
    {
     "data": {
      "text/plain": [
       "True"
      ]
     },
     "execution_count": 5,
     "metadata": {},
     "output_type": "execute_result"
    }
   ],
   "source": [
    "# Importing Libraries\n",
    "import pandas as pd\n",
    "import numpy as np\n",
    "import warnings\n",
    "import snscrape.modules.twitter as sntwitter\n",
    "import requests\n",
    "import tweetnlp\n",
    "\n",
    "import seaborn as sns\n",
    "import matplotlib.pyplot as plt\n",
    "import scikitplot as skplt\n",
    "import seaborn as sns\n",
    "import contractions\n",
    "import re\n",
    "import time\n",
    "import nltk\n",
    "from nltk.corpus import stopwords\n",
    "nltk.download('punkt')\n",
    "nltk.download('stopwords')\n",
    "nltk.download('wordnet')"
   ]
  },
  {
   "cell_type": "code",
   "execution_count": 7,
   "metadata": {},
   "outputs": [],
   "source": [
    "import time\n",
    "from wordcloud import WordCloud, STOPWORDS\n",
    "from nltk.stem import WordNetLemmatizer\n",
    "from datetime import datetime, timedelta"
   ]
  },
  {
   "cell_type": "code",
   "execution_count": null,
   "metadata": {
    "executionInfo": {
     "elapsed": 28,
     "status": "ok",
     "timestamp": 1683126532447,
     "user": {
      "displayName": "Temitope Adekoya-Cole",
      "userId": "07185927863145761375"
     },
     "user_tz": -60
    },
    "id": "SmkIJ91VwsQ5"
   },
   "outputs": [],
   "source": [
    "TExtract = pd.read_csv('test_samples.csv',encoding= 'MacRoman')"
   ]
  },
  {
   "cell_type": "code",
   "execution_count": null,
   "metadata": {
    "executionInfo": {
     "elapsed": 27,
     "status": "ok",
     "timestamp": 1683126532447,
     "user": {
      "displayName": "Temitope Adekoya-Cole",
      "userId": "07185927863145761375"
     },
     "user_tz": -60
    },
    "id": "Nf9VWawPxLIi"
   },
   "outputs": [],
   "source": [
    "TExtract = TExtract.drop('Unnamed: 0', axis=1)\n"
   ]
  },
  {
   "cell_type": "code",
   "execution_count": null,
   "metadata": {
    "executionInfo": {
     "elapsed": 28,
     "status": "ok",
     "timestamp": 1683126532448,
     "user": {
      "displayName": "Temitope Adekoya-Cole",
      "userId": "07185927863145761375"
     },
     "user_tz": -60
    },
    "id": "hsqPZyvU1MAd"
   },
   "outputs": [],
   "source": [
    "TExtract = TExtract.rename(columns={'label': 'HumanSentiment'})"
   ]
  },
  {
   "cell_type": "code",
   "execution_count": null,
   "metadata": {
    "colab": {
     "base_uri": "https://localhost:8080/"
    },
    "executionInfo": {
     "elapsed": 27,
     "status": "ok",
     "timestamp": 1683126532448,
     "user": {
      "displayName": "Temitope Adekoya-Cole",
      "userId": "07185927863145761375"
     },
     "user_tz": -60
    },
    "id": "QsO9TC_LxNQj",
    "outputId": "d0930ae1-b5f5-43e3-abba-a3cfdfc1664c"
   },
   "outputs": [],
   "source": [
    "TExtract.info()"
   ]
  },
  {
   "cell_type": "code",
   "execution_count": null,
   "metadata": {
    "colab": {
     "base_uri": "https://localhost:8080/",
     "height": 206
    },
    "executionInfo": {
     "elapsed": 25,
     "status": "ok",
     "timestamp": 1683126532448,
     "user": {
      "displayName": "Temitope Adekoya-Cole",
      "userId": "07185927863145761375"
     },
     "user_tz": -60
    },
    "id": "NcXlPFT7xRXo",
    "outputId": "6299c415-3ced-40be-e3c4-37d66d933b18"
   },
   "outputs": [],
   "source": [
    "TExtract.head()"
   ]
  },
  {
   "cell_type": "code",
   "execution_count": null,
   "metadata": {
    "executionInfo": {
     "elapsed": 25,
     "status": "ok",
     "timestamp": 1683126532449,
     "user": {
      "displayName": "Temitope Adekoya-Cole",
      "userId": "07185927863145761375"
     },
     "user_tz": -60
    },
    "id": "MgyhKhDxxaT3"
   },
   "outputs": [],
   "source": [
    "TExtract['TextClean'] = TExtract['text']"
   ]
  },
  {
   "cell_type": "code",
   "execution_count": null,
   "metadata": {
    "executionInfo": {
     "elapsed": 24,
     "status": "ok",
     "timestamp": 1683126532449,
     "user": {
      "displayName": "Temitope Adekoya-Cole",
      "userId": "07185927863145761375"
     },
     "user_tz": -60
    },
    "id": "AQXEMSSrxlee"
   },
   "outputs": [],
   "source": [
    "# remove '\\n', lowercase all letters\n",
    "TExtract['TextClean'] = TExtract['TextClean'].apply(lambda x: x.replace('\\n',' ').lower())"
   ]
  },
  {
   "cell_type": "code",
   "execution_count": null,
   "metadata": {
    "colab": {
     "base_uri": "https://localhost:8080/",
     "height": 206
    },
    "executionInfo": {
     "elapsed": 24,
     "status": "ok",
     "timestamp": 1683126532449,
     "user": {
      "displayName": "Temitope Adekoya-Cole",
      "userId": "07185927863145761375"
     },
     "user_tz": -60
    },
    "id": "-DsvQEhOx5vJ",
    "outputId": "282fa1b6-60cd-47db-91de-4aef61ea7a5f"
   },
   "outputs": [],
   "source": [
    "TExtract[['text', 'TextClean']].head()"
   ]
  },
  {
   "cell_type": "code",
   "execution_count": null,
   "metadata": {
    "colab": {
     "base_uri": "https://localhost:8080/",
     "height": 206
    },
    "executionInfo": {
     "elapsed": 24,
     "status": "ok",
     "timestamp": 1683126532449,
     "user": {
      "displayName": "Temitope Adekoya-Cole",
      "userId": "07185927863145761375"
     },
     "user_tz": -60
    },
    "id": "tM2PqzPMyyiY",
    "outputId": "6276a44b-0847-40c9-bb04-e0da89efc685"
   },
   "outputs": [],
   "source": [
    "TExtract.head()"
   ]
  },
  {
   "cell_type": "code",
   "execution_count": null,
   "metadata": {
    "executionInfo": {
     "elapsed": 24,
     "status": "ok",
     "timestamp": 1683126532450,
     "user": {
      "displayName": "Temitope Adekoya-Cole",
      "userId": "07185927863145761375"
     },
     "user_tz": -60
    },
    "id": "R0CQiZwDy2r1"
   },
   "outputs": [],
   "source": [
    "#Remove user handles from tweets\n",
    "TExtract['TextClean'] = TExtract['TextClean'].str.replace('(\\@\\w+.*?)',\" \",regex=True)"
   ]
  },
  {
   "cell_type": "code",
   "execution_count": null,
   "metadata": {
    "executionInfo": {
     "elapsed": 1830,
     "status": "ok",
     "timestamp": 1683126534256,
     "user": {
      "displayName": "Temitope Adekoya-Cole",
      "userId": "07185927863145761375"
     },
     "user_tz": -60
    },
    "id": "1XLUuOPkzeOz"
   },
   "outputs": [],
   "source": [
    "# expand contractions\n",
    "TExtract['TextClean'] = TExtract['TextClean'].apply(lambda x: contractions.fix(x))\n",
    "\n",
    "# remove punctuations\n",
    "TExtract['TextClean'] = TExtract['TextClean'].apply(lambda x: re.sub(r'[^\\w\\s]',' ',x))\n",
    "\n",
    "#remove consecutive characters that occur three or more times in a row, and replace them with just two occurrences of that character.\n",
    "TExtract['TextClean'] = TExtract['TextClean'].apply(lambda x: re.compile(r\"(.)\\1{2,}\").sub(r\"\\1\\1\", x))\n",
    "\n",
    "# Removing extra spaces\n",
    "TExtract['TextClean'] = TExtract['TextClean'].apply(lambda x: re.sub(' +',' ',x))\n",
    "\n",
    "Removing stop words\n",
    "stop_words = set(stopwords.words('english'))\n",
    "TExtract['TextClean'] = TExtract['TextClean'].apply(lambda x: ' '.join([word for word in x.split() if word not in stop_words]))"
   ]
  },
  {
   "cell_type": "code",
   "execution_count": null,
   "metadata": {
    "colab": {
     "base_uri": "https://localhost:8080/",
     "height": 206
    },
    "executionInfo": {
     "elapsed": 28,
     "status": "ok",
     "timestamp": 1683126534265,
     "user": {
      "displayName": "Temitope Adekoya-Cole",
      "userId": "07185927863145761375"
     },
     "user_tz": -60
    },
    "id": "ihag-1Hfy_nh",
    "outputId": "e099e469-08ac-492a-8bc9-6e8d38f4199b"
   },
   "outputs": [],
   "source": [
    "TExtract[['text', 'TextClean']].head()"
   ]
  },
  {
   "cell_type": "code",
   "execution_count": null,
   "metadata": {
    "colab": {
     "base_uri": "https://localhost:8080/"
    },
    "executionInfo": {
     "elapsed": 26,
     "status": "ok",
     "timestamp": 1683126534266,
     "user": {
      "displayName": "Temitope Adekoya-Cole",
      "userId": "07185927863145761375"
     },
     "user_tz": -60
    },
    "id": "xUtrMKrH0aUJ",
    "outputId": "ec2b3f96-1d4c-4668-816b-3eb23529e004"
   },
   "outputs": [],
   "source": [
    "import nltk\n",
    "nltk.download('vader_lexicon')\n",
    "from nltk.sentiment.vader import SentimentIntensityAnalyzer\n",
    "\n",
    "# Create a SentimentIntensityAnalyzer object.\n",
    "sid_obj = SentimentIntensityAnalyzer()\n",
    "\n",
    "# function to print sentiments of the sentence.\n",
    "def sentiment_scores(sentence):\n",
    "    # polarity_scores method of SentimentIntensityAnalyzer object\n",
    "    # gives a sentiment dictionary, which contains pos, neg, neu, and\n",
    "    # compound scores.\n",
    "    sentiment_dict = sid_obj.polarity_scores(sentence)\n",
    "\n",
    "    # decide sentiment as positive, negative and neutral\n",
    "    if sentiment_dict['compound'] >= 0.05:\n",
    "        return \"positive\"\n",
    "    elif sentiment_dict['compound'] <= -0.05:\n",
    "        return \"negative\"\n",
    "    else:\n",
    "        return \"neutral\""
   ]
  },
  {
   "cell_type": "code",
   "execution_count": null,
   "metadata": {
    "colab": {
     "base_uri": "https://localhost:8080/"
    },
    "executionInfo": {
     "elapsed": 2475,
     "status": "ok",
     "timestamp": 1683126536720,
     "user": {
      "displayName": "Temitope Adekoya-Cole",
      "userId": "07185927863145761375"
     },
     "user_tz": -60
    },
    "id": "uEtimdJd0rhf",
    "outputId": "cfde1a85-24bf-4d83-fd1c-014a683b3260"
   },
   "outputs": [],
   "source": [
    "# Load the model\n",
    "model = tweetnlp.load_model('sentiment')\n",
    "\n",
    "# Define the sentiment analysis function\n",
    "def tweetnlp_sentiment(text):\n",
    "    return model.sentiment(text)['label']"
   ]
  },
  {
   "cell_type": "code",
   "execution_count": null,
   "metadata": {
    "executionInfo": {
     "elapsed": 2497,
     "status": "ok",
     "timestamp": 1683126539215,
     "user": {
      "displayName": "Temitope Adekoya-Cole",
      "userId": "07185927863145761375"
     },
     "user_tz": -60
    },
    "id": "Xh8xUW750rnJ"
   },
   "outputs": [],
   "source": [
    "# apply the sentiment_scores function to the 'text' column\n",
    "TExtract['VaderSentiment(Raw)'] = TExtract['text'].apply(lambda x: sentiment_scores(x))"
   ]
  },
  {
   "cell_type": "code",
   "execution_count": null,
   "metadata": {
    "executionInfo": {
     "elapsed": 189283,
     "status": "ok",
     "timestamp": 1683126728494,
     "user": {
      "displayName": "Temitope Adekoya-Cole",
      "userId": "07185927863145761375"
     },
     "user_tz": -60
    },
    "id": "bA5gFS1F0aat"
   },
   "outputs": [],
   "source": [
    "# Apply the function to each row of the 'TExtract[PreProcessedText]' column and store the result in a new column called 'sentiment'\n",
    "TExtract['TweetNLPsentiment(Raw)'] = TExtract['text'].apply(tweetnlp_sentiment)"
   ]
  },
  {
   "cell_type": "code",
   "execution_count": null,
   "metadata": {
    "executionInfo": {
     "elapsed": 2466,
     "status": "ok",
     "timestamp": 1683126730957,
     "user": {
      "displayName": "Temitope Adekoya-Cole",
      "userId": "07185927863145761375"
     },
     "user_tz": -60
    },
    "id": "1jZZhwQZ0ad6"
   },
   "outputs": [],
   "source": [
    "# apply the sentiment_scores function to the 'TextClean' column\n",
    "TExtract['VaderSentiment(Clean)'] = TExtract['TextClean'].apply(lambda x: sentiment_scores(x))"
   ]
  },
  {
   "cell_type": "code",
   "execution_count": null,
   "metadata": {
    "executionInfo": {
     "elapsed": 174358,
     "status": "ok",
     "timestamp": 1683126905312,
     "user": {
      "displayName": "Temitope Adekoya-Cole",
      "userId": "07185927863145761375"
     },
     "user_tz": -60
    },
    "id": "gJntM2bZ0ahE"
   },
   "outputs": [],
   "source": [
    "# Apply the function to each row of the 'TExtract[textclean]' column and store the result in a new column called 'sentiment'\n",
    "TExtract['TweetNLPsentiment(Clean)'] = TExtract['TextClean'].apply(tweetnlp_sentiment)"
   ]
  },
  {
   "cell_type": "code",
   "execution_count": null,
   "metadata": {
    "colab": {
     "base_uri": "https://localhost:8080/",
     "height": 143
    },
    "executionInfo": {
     "elapsed": 76,
     "status": "ok",
     "timestamp": 1683126905314,
     "user": {
      "displayName": "Temitope Adekoya-Cole",
      "userId": "07185927863145761375"
     },
     "user_tz": -60
    },
    "id": "sD60D-wV0alM",
    "outputId": "8d69226a-5147-4c98-ac69-700f79297085"
   },
   "outputs": [],
   "source": [
    "TExtract[[\"HumanSentiment\", \"VaderSentiment(Raw)\", \"TweetNLPsentiment(Raw)\", \"VaderSentiment(Clean)\", \"TweetNLPsentiment(Clean)\"]].apply(pd.Series.value_counts)"
   ]
  },
  {
   "cell_type": "code",
   "execution_count": null,
   "metadata": {
    "colab": {
     "base_uri": "https://localhost:8080/",
     "height": 548
    },
    "executionInfo": {
     "elapsed": 1151,
     "status": "ok",
     "timestamp": 1683126930868,
     "user": {
      "displayName": "Temitope Adekoya-Cole",
      "userId": "07185927863145761375"
     },
     "user_tz": -60
    },
    "id": "p8CAhGip0amZ",
    "outputId": "d1eb3625-1cad-4d81-ca79-87524be54475"
   },
   "outputs": [],
   "source": [
    "# create a dataframe for the counts of each sentiment value\n",
    "sentiment_counts = TExtract[[\"HumanSentiment\", \"VaderSentiment(Raw)\", \"TweetNLPsentiment(Raw)\", \"VaderSentiment(Clean)\", \"TweetNLPsentiment(Clean)\"]].apply(pd.Series.value_counts)\n",
    "\n",
    "# plot the bar chart\n",
    "sentiment_counts.plot.bar(rot=0, figsize=(10,6))\n",
    "plt.title('Sentiment Analysis Prediction Comparison')\n",
    "plt.xlabel('Sentiment')\n",
    "plt.ylabel('Count')\n",
    "plt.legend(title='Classifier', bbox_to_anchor=(1, 1))\n",
    "plt.show()"
   ]
  },
  {
   "cell_type": "code",
   "execution_count": null,
   "metadata": {
    "executionInfo": {
     "elapsed": 36,
     "status": "ok",
     "timestamp": 1683126905821,
     "user": {
      "displayName": "Temitope Adekoya-Cole",
      "userId": "07185927863145761375"
     },
     "user_tz": -60
    },
    "id": "UewRfw0p1XMN"
   },
   "outputs": [],
   "source": [
    "from sklearn.metrics import accuracy_score, precision_score, recall_score, f1_score, confusion_matrix, classification_report\n"
   ]
  },
  {
   "cell_type": "code",
   "execution_count": null,
   "metadata": {
    "executionInfo": {
     "elapsed": 36,
     "status": "ok",
     "timestamp": 1683126905822,
     "user": {
      "displayName": "Temitope Adekoya-Cole",
      "userId": "07185927863145761375"
     },
     "user_tz": -60
    },
    "id": "IyOxYvUm1cx0"
   },
   "outputs": [],
   "source": [
    "y_test = TExtract['HumanSentiment']"
   ]
  },
  {
   "cell_type": "code",
   "execution_count": null,
   "metadata": {
    "executionInfo": {
     "elapsed": 36,
     "status": "ok",
     "timestamp": 1683126905823,
     "user": {
      "displayName": "Temitope Adekoya-Cole",
      "userId": "07185927863145761375"
     },
     "user_tz": -60
    },
    "id": "jnwyNf0l1c0v"
   },
   "outputs": [],
   "source": [
    "class_names=['negative','neutral','positive']"
   ]
  },
  {
   "cell_type": "code",
   "execution_count": null,
   "metadata": {
    "colab": {
     "base_uri": "https://localhost:8080/"
    },
    "executionInfo": {
     "elapsed": 461,
     "status": "ok",
     "timestamp": 1683126906248,
     "user": {
      "displayName": "Temitope Adekoya-Cole",
      "userId": "07185927863145761375"
     },
     "user_tz": -60
    },
    "id": "_4DrJqeC1c3P",
    "outputId": "969a3cd5-0f42-4164-92e3-84947756a57b"
   },
   "outputs": [],
   "source": [
    "VaderSentiment_pred = TExtract['VaderSentiment(Raw)']\n",
    "\n",
    "# calculate evaluation metrics\n",
    "VaderSentiment_accuracy = accuracy_score(y_test, VaderSentiment_pred)\n",
    "VaderSentiment_precision = precision_score(y_test, VaderSentiment_pred, average='macro')\n",
    "VaderSentiment_recall = recall_score(y_test, VaderSentiment_pred, average='macro')\n",
    "VaderSentiment_f1 = f1_score(y_test, VaderSentiment_pred, average='macro')\n",
    "VaderSentiment_confusion_mat = confusion_matrix(y_test, VaderSentiment_pred)\n",
    "\n",
    "print('VaderSentiment_accuracy: ',  VaderSentiment_accuracy*100)\n",
    "print('VaderSentiment_precision: ',  VaderSentiment_precision*100)\n",
    "print('VaderSentiment_recall: ',  VaderSentiment_recall*100)\n",
    "print('VaderSentiment_f1: ',  VaderSentiment_f1*100)\n",
    "print('VaderSentiment_confusion_mat: \\n',  VaderSentiment_confusion_mat)"
   ]
  },
  {
   "cell_type": "code",
   "execution_count": null,
   "metadata": {
    "colab": {
     "base_uri": "https://localhost:8080/"
    },
    "executionInfo": {
     "elapsed": 19,
     "status": "ok",
     "timestamp": 1683126906249,
     "user": {
      "displayName": "Temitope Adekoya-Cole",
      "userId": "07185927863145761375"
     },
     "user_tz": -60
    },
    "id": "hTCJ3_ps1c54",
    "outputId": "4afd3b8b-6cb3-44df-b3d8-ce1767888a07"
   },
   "outputs": [],
   "source": [
    "VaderSentiment_class_report=classification_report(y_test, VaderSentiment_pred, target_names=class_names)\n",
    "print(VaderSentiment_class_report)"
   ]
  },
  {
   "cell_type": "code",
   "execution_count": null,
   "metadata": {
    "colab": {
     "base_uri": "https://localhost:8080/"
    },
    "executionInfo": {
     "elapsed": 1019,
     "status": "ok",
     "timestamp": 1683126907255,
     "user": {
      "displayName": "Temitope Adekoya-Cole",
      "userId": "07185927863145761375"
     },
     "user_tz": -60
    },
    "id": "vdgU8mml1c8b",
    "outputId": "77c9f4e2-de5f-4d97-cbea-cceeae7b9ecf"
   },
   "outputs": [],
   "source": [
    "VaderSentimentClean_pred = TExtract['VaderSentiment(Clean)']\n",
    "\n",
    "# calculate evaluation metrics\n",
    "VaderSentimentClean_accuracy = accuracy_score(y_test, VaderSentimentClean_pred)\n",
    "VaderSentimentClean_precision = precision_score(y_test, VaderSentimentClean_pred, average='macro')\n",
    "VaderSentimentClean_recall = recall_score(y_test, VaderSentimentClean_pred, average='macro')\n",
    "VaderSentimentClean_f1 = f1_score(y_test, VaderSentimentClean_pred, average='macro')\n",
    "VaderSentimentClean_confusion_mat = confusion_matrix(y_test, VaderSentimentClean_pred)\n",
    "\n",
    "print('VaderSentimentClean_accuracy: ',  VaderSentimentClean_accuracy*100)\n",
    "print('VaderSentimentClean_precision: ',  VaderSentimentClean_precision*100)\n",
    "print('VaderSentimentClean_recall: ',  VaderSentimentClean_recall*100)\n",
    "print('VaderSentimentClean_f1: ',  VaderSentimentClean_f1*100)\n",
    "print('VaderSentimentClean_confusion_mat: \\n',  VaderSentimentClean_confusion_mat)"
   ]
  },
  {
   "cell_type": "code",
   "execution_count": null,
   "metadata": {
    "colab": {
     "base_uri": "https://localhost:8080/"
    },
    "executionInfo": {
     "elapsed": 55,
     "status": "ok",
     "timestamp": 1683126907257,
     "user": {
      "displayName": "Temitope Adekoya-Cole",
      "userId": "07185927863145761375"
     },
     "user_tz": -60
    },
    "id": "bXRutI4R1dCE",
    "outputId": "724fc03b-8e77-47b0-a0c0-320ba9285ee3"
   },
   "outputs": [],
   "source": [
    "VaderSentimentClean_class_report=classification_report(y_test, VaderSentimentClean_pred, target_names=class_names)\n",
    "print(VaderSentimentClean_class_report)"
   ]
  },
  {
   "cell_type": "code",
   "execution_count": null,
   "metadata": {
    "colab": {
     "base_uri": "https://localhost:8080/",
     "height": 494
    },
    "executionInfo": {
     "elapsed": 649,
     "status": "ok",
     "timestamp": 1683126907871,
     "user": {
      "displayName": "Temitope Adekoya-Cole",
      "userId": "07185927863145761375"
     },
     "user_tz": -60
    },
    "id": "0e4A9Osk1sbx",
    "outputId": "f374b955-4b2c-46e8-c8da-5cfae5e71f05"
   },
   "outputs": [],
   "source": [
    "import seaborn as sns\n",
    "import matplotlib.pyplot as plt\n",
    "from sklearn.metrics import confusion_matrix\n",
    "\n",
    "# plot confusion matrix\n",
    "sns.set(font_scale=1.4) # adjust font size\n",
    "sns.heatmap(VaderSentimentClean_confusion_mat, annot=True, annot_kws={\"size\": 16}, cmap='Oranges', fmt='g',\n",
    "            xticklabels=['Negative', 'Neutral', 'Positive'],\n",
    "            yticklabels=['Negative', 'Neutral', 'Positive'])\n",
    "plt.ylabel('True label')\n",
    "plt.xlabel('Vader Predicted label')\n",
    "plt.title('Vader Sentiment Analysis Confusion Matrix (Clean Text)')\n",
    "plt.show()"
   ]
  },
  {
   "cell_type": "code",
   "execution_count": null,
   "metadata": {
    "colab": {
     "base_uri": "https://localhost:8080/",
     "height": 494
    },
    "executionInfo": {
     "elapsed": 1019,
     "status": "ok",
     "timestamp": 1683126908793,
     "user": {
      "displayName": "Temitope Adekoya-Cole",
      "userId": "07185927863145761375"
     },
     "user_tz": -60
    },
    "id": "ccdx_THM3W4W",
    "outputId": "4ff96e95-4cd6-457c-da96-ac251f144cc1"
   },
   "outputs": [],
   "source": [
    "# plot confusion matrix\n",
    "sns.set(font_scale=1.4) # adjust font size\n",
    "sns.heatmap(VaderSentiment_confusion_mat, annot=True, annot_kws={\"size\": 16}, cmap='Oranges', fmt='g',\n",
    "            xticklabels=['Negative', 'Neutral', 'Positive'],\n",
    "            yticklabels=['Negative', 'Neutral', 'Positive'])\n",
    "plt.ylabel('True label')\n",
    "plt.xlabel('Vader Predicted label')\n",
    "plt.title('Vader Sentiment Analysis Confusion Matrix (Raw Text)')\n",
    "plt.show()"
   ]
  },
  {
   "cell_type": "code",
   "execution_count": null,
   "metadata": {
    "colab": {
     "base_uri": "https://localhost:8080/"
    },
    "executionInfo": {
     "elapsed": 180,
     "status": "ok",
     "timestamp": 1683126908800,
     "user": {
      "displayName": "Temitope Adekoya-Cole",
      "userId": "07185927863145761375"
     },
     "user_tz": -60
    },
    "id": "rEWnSdX71sek",
    "outputId": "192e466b-7d56-4b5a-ef35-cbf04ed40986"
   },
   "outputs": [],
   "source": [
    "TweetNLPsentiment_pred = TExtract['TweetNLPsentiment(Raw)']\n",
    "\n",
    "# calculate evaluation metrics\n",
    "TweetNLPsentiment_accuracy = accuracy_score(y_test, TweetNLPsentiment_pred)\n",
    "TweetNLPsentiment_precision = precision_score(y_test, TweetNLPsentiment_pred, average='macro')\n",
    "TweetNLPsentiment_recall = recall_score(y_test, TweetNLPsentiment_pred, average='macro')\n",
    "TweetNLPsentiment_f1 = f1_score(y_test, TweetNLPsentiment_pred, average='macro')\n",
    "TweetNLPsentiment_confusion_mat = confusion_matrix(y_test, TweetNLPsentiment_pred)\n",
    "\n",
    "print('TweetNLPsentiment_accuracy: ',  TweetNLPsentiment_accuracy*100)\n",
    "print('TweetNLPsentiment_precision: ',  TweetNLPsentiment_precision*100)\n",
    "print('TweetNLPsentiment_recall: ',  TweetNLPsentiment_recall*100)\n",
    "print('TweetNLPsentiment_f1: ',  TweetNLPsentiment_f1*100)\n",
    "print('TweetNLPsentiment_confusion_mat: \\n',  TweetNLPsentiment_confusion_mat)"
   ]
  },
  {
   "cell_type": "code",
   "execution_count": null,
   "metadata": {
    "colab": {
     "base_uri": "https://localhost:8080/"
    },
    "executionInfo": {
     "elapsed": 503,
     "status": "ok",
     "timestamp": 1683126909143,
     "user": {
      "displayName": "Temitope Adekoya-Cole",
      "userId": "07185927863145761375"
     },
     "user_tz": -60
    },
    "id": "U2VoiRNo1sir",
    "outputId": "ff6d2a6f-ee06-4ac3-929f-71e667bf327e"
   },
   "outputs": [],
   "source": [
    "TweetNLPsentiment_class_report=classification_report(y_test, TweetNLPsentiment_pred, target_names=class_names)\n",
    "print(TweetNLPsentiment_class_report)"
   ]
  },
  {
   "cell_type": "code",
   "execution_count": null,
   "metadata": {
    "colab": {
     "base_uri": "https://localhost:8080/"
    },
    "executionInfo": {
     "elapsed": 27,
     "status": "ok",
     "timestamp": 1683126909144,
     "user": {
      "displayName": "Temitope Adekoya-Cole",
      "userId": "07185927863145761375"
     },
     "user_tz": -60
    },
    "id": "o9znwhWw1skL",
    "outputId": "73fde27e-5a94-4b64-e1c0-48cbe714151d"
   },
   "outputs": [],
   "source": [
    "TweetNLPsentimentClean_pred = TExtract['TweetNLPsentiment(Clean)']\n",
    "\n",
    "# calculate evaluation metrics\n",
    "TweetNLPsentimentClean_accuracy = accuracy_score(y_test, TweetNLPsentimentClean_pred)\n",
    "TweetNLPsentimentClean_precision = precision_score(y_test, TweetNLPsentimentClean_pred, average='macro')\n",
    "TweetNLPsentimentClean_recall = recall_score(y_test, TweetNLPsentimentClean_pred, average='macro')\n",
    "TweetNLPsentimentClean_f1 = f1_score(y_test, TweetNLPsentimentClean_pred, average='macro')\n",
    "TweetNLPsentimentClean_confusion_mat = confusion_matrix(y_test, TweetNLPsentimentClean_pred)\n",
    "\n",
    "print('TweetNLPsentimentClean_accuracy: ',  TweetNLPsentimentClean_accuracy*100)\n",
    "print('TweetNLPsentimentClean_precision: ',  TweetNLPsentimentClean_precision*100)\n",
    "print('TweetNLPsentimentClean_recall: ',  TweetNLPsentimentClean_recall*100)\n",
    "print('TweetNLPsentimentClean_f1: ',  TweetNLPsentimentClean_f1*100)\n",
    "print('TweetNLPsentimentClean_confusion_mat: \\n',  TweetNLPsentimentClean_confusion_mat)"
   ]
  },
  {
   "cell_type": "code",
   "execution_count": null,
   "metadata": {
    "colab": {
     "base_uri": "https://localhost:8080/"
    },
    "executionInfo": {
     "elapsed": 859,
     "status": "ok",
     "timestamp": 1683126909985,
     "user": {
      "displayName": "Temitope Adekoya-Cole",
      "userId": "07185927863145761375"
     },
     "user_tz": -60
    },
    "id": "Svm0xgTy1soB",
    "outputId": "40cf3fac-3f60-4927-abbe-f134c1cc0eff"
   },
   "outputs": [],
   "source": [
    "TweetNLPsentimentClean_class_report=classification_report(y_test, TweetNLPsentimentClean_pred, target_names=class_names)\n",
    "print(TweetNLPsentimentClean_class_report)"
   ]
  },
  {
   "cell_type": "code",
   "execution_count": null,
   "metadata": {
    "colab": {
     "base_uri": "https://localhost:8080/",
     "height": 494
    },
    "executionInfo": {
     "elapsed": 556,
     "status": "ok",
     "timestamp": 1683126910532,
     "user": {
      "displayName": "Temitope Adekoya-Cole",
      "userId": "07185927863145761375"
     },
     "user_tz": -60
    },
    "id": "DJF6bIBM1sq5",
    "outputId": "a1bbe880-7b7e-4bac-842e-f9db9cb2aabf"
   },
   "outputs": [],
   "source": [
    "# plot confusion matrix\n",
    "sns.set(font_scale=1.4) # adjust font size\n",
    "sns.heatmap(TweetNLPsentimentClean_confusion_mat, annot=True, annot_kws={\"size\": 16}, cmap='Greens', fmt='g',\n",
    "            xticklabels=['Negative', 'Neutral', 'Positive'],\n",
    "            yticklabels=['Negative', 'Neutral', 'Positive'])\n",
    "plt.ylabel('True label')\n",
    "plt.xlabel('TweetNLP Predicted label')\n",
    "plt.title('TweetNLP Sentiment Analysis Confusion Matrix (Clean Text)')\n",
    "plt.show()"
   ]
  },
  {
   "cell_type": "code",
   "execution_count": null,
   "metadata": {
    "colab": {
     "base_uri": "https://localhost:8080/",
     "height": 494
    },
    "executionInfo": {
     "elapsed": 1185,
     "status": "ok",
     "timestamp": 1683126911681,
     "user": {
      "displayName": "Temitope Adekoya-Cole",
      "userId": "07185927863145761375"
     },
     "user_tz": -60
    },
    "id": "ALcIj5du3Gp2",
    "outputId": "1332c733-2111-46ec-9e5f-3905b7dc56d6"
   },
   "outputs": [],
   "source": [
    "# plot confusion matrix\n",
    "sns.set(font_scale=1.4) # adjust font size\n",
    "sns.heatmap(TweetNLPsentiment_confusion_mat, annot=True, annot_kws={\"size\": 16}, cmap='Greens', fmt='g',\n",
    "            xticklabels=['Negative', 'Neutral', 'Positive'],\n",
    "            yticklabels=['Negative', 'Neutral', 'Positive'])\n",
    "plt.ylabel('True label')\n",
    "plt.xlabel('TweetNLP Predicted label')\n",
    "plt.title('TweetNLP Sentiment Analysis Confusion Matrix (Raw Text)')\n",
    "plt.show()"
   ]
  },
  {
   "cell_type": "code",
   "execution_count": null,
   "metadata": {
    "executionInfo": {
     "elapsed": 189671,
     "status": "ok",
     "timestamp": 1683127574494,
     "user": {
      "displayName": "Temitope Adekoya-Cole",
      "userId": "07185927863145761375"
     },
     "user_tz": -60
    },
    "id": "rw_lKiGu1str"
   },
   "outputs": [],
   "source": [
    "# Define a function to apply sentiment analysis to each tweet text\n",
    "def analyze_sentiment(text):\n",
    "    result = model.sentiment(text, return_probability=True)\n",
    "    max_prob_key = max(result['probability'], key=result['probability'].get)\n",
    "    return pd.Series({'Sentiment': result['label'], \n",
    "                      'Probability': result['probability'][max_prob_key]})\n",
    "\n",
    "# Apply the function to the 'TextClean' column and store the result in two new columns\n",
    "TExtract[['Sentiment', 'Probability']] = TExtract['text'].apply(analyze_sentiment)"
   ]
  },
  {
   "cell_type": "code",
   "execution_count": null,
   "metadata": {
    "colab": {
     "base_uri": "https://localhost:8080/",
     "height": 494
    },
    "executionInfo": {
     "elapsed": 47,
     "status": "ok",
     "timestamp": 1683127574495,
     "user": {
      "displayName": "Temitope Adekoya-Cole",
      "userId": "07185927863145761375"
     },
     "user_tz": -60
    },
    "id": "YTA8D7TTNgIE",
    "outputId": "dcebe462-6571-428f-a7d6-ccf8bd236ac4"
   },
   "outputs": [],
   "source": [
    "# Plot histogram with density line\n",
    "plt.hist(TExtract['Probability'], bins=20, density=True, alpha=0.7, color = 'darkgreen')\n",
    "TExtract['Probability'].plot(kind='kde', color='r')\n",
    "plt.xlim(0.2, 1.2)\n",
    "# Add labels\n",
    "plt.title('Density Plot of TweetNLP Sentiment Probability')\n",
    "plt.xlabel('Probability')\n",
    "plt.ylabel('Density')\n",
    "plt.show()"
   ]
  },
  {
   "cell_type": "code",
   "execution_count": null,
   "metadata": {
    "colab": {
     "base_uri": "https://localhost:8080/",
     "height": 587
    },
    "executionInfo": {
     "elapsed": 2186,
     "status": "ok",
     "timestamp": 1683127576649,
     "user": {
      "displayName": "Temitope Adekoya-Cole",
      "userId": "07185927863145761375"
     },
     "user_tz": -60
    },
    "id": "ovmtWEIbNjFT",
    "outputId": "d6829cc0-fa28-4581-86b5-54ed72557a2e"
   },
   "outputs": [],
   "source": [
    "# create a dataframe for the counts of each sentiment value\n",
    "sentiment_counts = TExtract[[\"HumanSentiment\", \"Sentiment\"]].apply(pd.Series.value_counts)\n",
    "\n",
    "# plot the bar chart\n",
    "ax = sentiment_counts.plot.bar(rot=0, figsize=(10,6))\n",
    "ax.set_title('Human vs TweetNLP Classification Comparison')\n",
    "ax.set_xlabel('Sentiment')\n",
    "ax.set_ylabel('Count')\n",
    "ax.legend(labels=['Human', 'TweetNLP'], title='Classifier', bbox_to_anchor=(1, 1))\n",
    "plt.show()"
   ]
  },
  {
   "cell_type": "code",
   "execution_count": null,
   "metadata": {
    "colab": {
     "base_uri": "https://localhost:8080/",
     "height": 206
    },
    "executionInfo": {
     "elapsed": 496,
     "status": "ok",
     "timestamp": 1683127579530,
     "user": {
      "displayName": "Temitope Adekoya-Cole",
      "userId": "07185927863145761375"
     },
     "user_tz": -60
    },
    "id": "C6XAzpe4OEOd",
    "outputId": "0ff22a7d-8c39-4779-e510-583ff62fb336"
   },
   "outputs": [],
   "source": [
    "TExtract[['text', 'Sentiment', 'Probability']].head()"
   ]
  },
  {
   "cell_type": "code",
   "execution_count": null,
   "metadata": {
    "colab": {
     "base_uri": "https://localhost:8080/",
     "height": 213
    },
    "executionInfo": {
     "elapsed": 838,
     "status": "ok",
     "timestamp": 1683127784870,
     "user": {
      "displayName": "Temitope Adekoya-Cole",
      "userId": "07185927863145761375"
     },
     "user_tz": -60
    },
    "id": "0R4yShWvOckY",
    "outputId": "a8b6f6c0-4a24-45b6-b8b7-797c03372296"
   },
   "outputs": [],
   "source": [
    "TExtract[['text', 'Sentiment', 'Probability']].sort_values('Probability', ascending=True).head(5)\n"
   ]
  },
  {
   "cell_type": "code",
   "execution_count": null,
   "metadata": {
    "colab": {
     "base_uri": "https://localhost:8080/"
    },
    "executionInfo": {
     "elapsed": 276,
     "status": "ok",
     "timestamp": 1683127934926,
     "user": {
      "displayName": "Temitope Adekoya-Cole",
      "userId": "07185927863145761375"
     },
     "user_tz": -60
    },
    "id": "5hTHtnRJPggW",
    "outputId": "33a6f05c-97f1-4098-cd0d-bf33333488fb"
   },
   "outputs": [],
   "source": [
    "TExtract[['text', 'Sentiment', 'Probability']].loc[TExtract['Probability'] < 0.5].count()\n"
   ]
  },
  {
   "cell_type": "code",
   "execution_count": null,
   "metadata": {
    "colab": {
     "base_uri": "https://localhost:8080/"
    },
    "executionInfo": {
     "elapsed": 214,
     "status": "ok",
     "timestamp": 1683127964776,
     "user": {
      "displayName": "Temitope Adekoya-Cole",
      "userId": "07185927863145761375"
     },
     "user_tz": -60
    },
    "id": "3LjELMRAPmpH",
    "outputId": "c683de34-9503-4689-d07f-d447c383170a"
   },
   "outputs": [],
   "source": [
    "TExtract[['text', 'Sentiment', 'Probability']].loc[TExtract['Probability'] >= 0.5].count()\n"
   ]
  },
  {
   "cell_type": "code",
   "execution_count": null,
   "metadata": {
    "executionInfo": {
     "elapsed": 189,
     "status": "ok",
     "timestamp": 1683128178781,
     "user": {
      "displayName": "Temitope Adekoya-Cole",
      "userId": "07185927863145761375"
     },
     "user_tz": -60
    },
    "id": "uFwVMCjbQR9r"
   },
   "outputs": [],
   "source": [
    "#Filter out tweets where the sentiment classification probability is less than 0.5\n",
    "tweets_df = TExtract.loc[TExtract['Probability'] > 0.5]"
   ]
  },
  {
   "cell_type": "code",
   "execution_count": null,
   "metadata": {
    "colab": {
     "base_uri": "https://localhost:8080/"
    },
    "executionInfo": {
     "elapsed": 1165,
     "status": "ok",
     "timestamp": 1683128401828,
     "user": {
      "displayName": "Temitope Adekoya-Cole",
      "userId": "07185927863145761375"
     },
     "user_tz": -60
    },
    "id": "MtVH0P8ZQh2R",
    "outputId": "d6cfa272-2f64-4539-bbcd-09dd4382e854"
   },
   "outputs": [],
   "source": [
    "y_test = tweets_df['HumanSentiment']\n",
    "TweetNLPsentiment_pred = tweets_df['TweetNLPsentiment(Raw)']\n",
    "\n",
    "# calculate evaluation metrics\n",
    "TweetNLPsentiment_accuracy = accuracy_score(y_test, TweetNLPsentiment_pred)\n",
    "TweetNLPsentiment_precision = precision_score(y_test, TweetNLPsentiment_pred, average='macro')\n",
    "TweetNLPsentiment_recall = recall_score(y_test, TweetNLPsentiment_pred, average='macro')\n",
    "TweetNLPsentiment_f1 = f1_score(y_test, TweetNLPsentiment_pred, average='macro')\n",
    "TweetNLPsentiment_confusion_mat = confusion_matrix(y_test, TweetNLPsentiment_pred)\n",
    "\n",
    "print('TweetNLPsentiment_accuracy: ',  TweetNLPsentiment_accuracy*100)\n",
    "print('TweetNLPsentiment_precision: ',  TweetNLPsentiment_precision*100)\n",
    "print('TweetNLPsentiment_recall: ',  TweetNLPsentiment_recall*100)\n",
    "print('TweetNLPsentiment_f1: ',  TweetNLPsentiment_f1*100)\n",
    "print('TweetNLPsentiment_confusion_mat: \\n',  TweetNLPsentiment_confusion_mat)"
   ]
  },
  {
   "cell_type": "code",
   "execution_count": null,
   "metadata": {
    "colab": {
     "base_uri": "https://localhost:8080/",
     "height": 494
    },
    "executionInfo": {
     "elapsed": 366,
     "status": "ok",
     "timestamp": 1683128506334,
     "user": {
      "displayName": "Temitope Adekoya-Cole",
      "userId": "07185927863145761375"
     },
     "user_tz": -60
    },
    "id": "GJYU-PB3RiHd",
    "outputId": "d1400d89-7d9b-4b74-c8f5-21cb56173bfc"
   },
   "outputs": [],
   "source": [
    "# plot confusion matrix\n",
    "sns.set(font_scale=1.4) # adjust font size\n",
    "sns.heatmap(TweetNLPsentiment_confusion_mat, annot=True, annot_kws={\"size\": 16}, cmap='Greens', fmt='g',\n",
    "            xticklabels=['Negative', 'Neutral', 'Positive'],\n",
    "            yticklabels=['Negative', 'Neutral', 'Positive'])\n",
    "plt.ylabel('True label')\n",
    "plt.xlabel('TweetNLP Predicted label')\n",
    "plt.title('TweetNLP Sentiment Analysis Confusion Matrix')\n",
    "plt.show()"
   ]
  },
  {
   "cell_type": "code",
   "execution_count": 12,
   "metadata": {},
   "outputs": [],
   "source": [
    "topic = 'ULEZ'\n",
    "location = 'London'\n",
    "start_date = '2023-05-25'\n",
    "end_date = '2023-06-01'\n",
    "max_tweets = 100"
   ]
  },
  {
   "cell_type": "code",
   "execution_count": 3,
   "metadata": {},
   "outputs": [],
   "source": [
    "topic2 = topic.replace(',', \" OR \")\n",
    "topic2 = topic2.replace('  ', ' ')"
   ]
  },
  {
   "cell_type": "code",
   "execution_count": 8,
   "metadata": {},
   "outputs": [],
   "source": [
    "# Convert strings to dates\n",
    "start_date = datetime.strptime(start_date, '%Y-%m-%d')\n",
    "end_date = datetime.strptime(end_date, '%Y-%m-%d')"
   ]
  },
  {
   "cell_type": "code",
   "execution_count": 14,
   "metadata": {},
   "outputs": [
    {
     "ename": "IndentationError",
     "evalue": "unexpected indent (34677350.py, line 2)",
     "output_type": "error",
     "traceback": [
      "\u001b[1;36m  Cell \u001b[1;32mIn[14], line 2\u001b[1;36m\u001b[0m\n\u001b[1;33m    for i, tweet in enumerate(sntwitter.TwitterSearchScraper(query).get_items()):\u001b[0m\n\u001b[1;37m    ^\u001b[0m\n\u001b[1;31mIndentationError\u001b[0m\u001b[1;31m:\u001b[0m unexpected indent\n"
     ]
    }
   ],
   "source": [
    "\n",
    "query = f'{topic}) near:\"{location}\" within:300km lang:en since:{period_start.strftime(\"%Y-%m-%d\")} until:{period_end.strftime(\"%Y-%m-%d\")} -filter:links -filter:retweet'\n",
    "        for i, tweet in enumerate(sntwitter.TwitterSearchScraper(query).get_items()):\n",
    "            time.sleep(1) # add a time delay of 1 second\n",
    "            if i > Qt_tweets:\n",
    "                break\n",
    "            tweets_list.append([tweet.date, tweet.rawContent, tweet.user.username, tweet.viewCount])\n",
    "# Create a Pandas DataFrame from the list of tweets\n",
    "tweets_df = pd.DataFrame(tweets_list, columns=['Date', 'Text', 'Username', 'Views'])\n"
   ]
  },
  {
   "cell_type": "code",
   "execution_count": null,
   "metadata": {},
   "outputs": [],
   "source": []
  }
 ],
 "metadata": {
  "accelerator": "GPU",
  "colab": {
   "authorship_tag": "ABX9TyMWlAoX9ilvPzTlunasAp7Q",
   "provenance": []
  },
  "gpuClass": "standard",
  "kernelspec": {
   "display_name": "Python 3 (ipykernel)",
   "language": "python",
   "name": "python3"
  },
  "language_info": {
   "codemirror_mode": {
    "name": "ipython",
    "version": 3
   },
   "file_extension": ".py",
   "mimetype": "text/x-python",
   "name": "python",
   "nbconvert_exporter": "python",
   "pygments_lexer": "ipython3",
   "version": "3.9.16"
  }
 },
 "nbformat": 4,
 "nbformat_minor": 4
}
