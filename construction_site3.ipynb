{
 "cells": [
  {
   "cell_type": "code",
   "execution_count": null,
   "id": "152da24f-dcd2-4c25-be95-ce1bfa028522",
   "metadata": {},
   "outputs": [],
   "source": [
    "pip install -q snscrape transformers matplotlib wordcloud seaborn scikit-plot contractions nltk regex tweetnlp"
   ]
  },
  {
   "cell_type": "code",
   "execution_count": 1,
   "id": "0f54957b-da1c-410b-b8bf-8ba58f12d624",
   "metadata": {},
   "outputs": [
    {
     "name": "stderr",
     "output_type": "stream",
     "text": [
      "C:\\Users\\temit\\anaconda3\\envs\\myenv2\\lib\\site-packages\\tqdm\\auto.py:21: TqdmWarning: IProgress not found. Please update jupyter and ipywidgets. See https://ipywidgets.readthedocs.io/en/stable/user_install.html\n",
      "  from .autonotebook import tqdm as notebook_tqdm\n",
      "[nltk_data] Downloading package punkt to\n",
      "[nltk_data]     C:\\Users\\temit\\AppData\\Roaming\\nltk_data...\n",
      "[nltk_data]   Package punkt is already up-to-date!\n",
      "[nltk_data] Downloading package wordnet to\n",
      "[nltk_data]     C:\\Users\\temit\\AppData\\Roaming\\nltk_data...\n",
      "[nltk_data]   Package wordnet is already up-to-date!\n"
     ]
    }
   ],
   "source": [
    "# Importing Libraries\n",
    "from flask import Flask, render_template, request, url_for\n",
    "from PIL import Image\n",
    "import pandas as pd\n",
    "import numpy as np\n",
    "import tweepy\n",
    "import warnings\n",
    "import snscrape.modules.twitter as sntwitter\n",
    "import requests\n",
    "import tensorflow as tf\n",
    "from tensorflow.keras.preprocessing.text import Tokenizer\n",
    "from tensorflow.keras.preprocessing.sequence import pad_sequences\n",
    "import tweetnlp\n",
    "import seaborn as sns\n",
    "import matplotlib.pyplot as plt\n",
    "import scikitplot as skplt\n",
    "import seaborn as sns\n",
    "import contractions\n",
    "import re\n",
    "import nltk\n",
    "nltk.download('punkt')\n",
    "nltk.download('wordnet')\n",
    "from wordcloud import WordCloud, STOPWORDS\n",
    "from nltk.stem import WordNetLemmatizer"
   ]
  },
  {
   "cell_type": "code",
   "execution_count": 5,
   "id": "7bb45753-edcb-4f87-adee-28ac65bf2416",
   "metadata": {},
   "outputs": [],
   "source": [
    "TExtract = pd.read_csv('TwitterExtract.csv',encoding= 'MacRoman')"
   ]
  },
  {
   "cell_type": "code",
   "execution_count": 6,
   "id": "106e01c4-1588-42fc-8830-f72887a2d022",
   "metadata": {},
   "outputs": [
    {
     "data": {
      "text/html": [
       "<div>\n",
       "<style scoped>\n",
       "    .dataframe tbody tr th:only-of-type {\n",
       "        vertical-align: middle;\n",
       "    }\n",
       "\n",
       "    .dataframe tbody tr th {\n",
       "        vertical-align: top;\n",
       "    }\n",
       "\n",
       "    .dataframe thead th {\n",
       "        text-align: right;\n",
       "    }\n",
       "</style>\n",
       "<table border=\"1\" class=\"dataframe\">\n",
       "  <thead>\n",
       "    <tr style=\"text-align: right;\">\n",
       "      <th></th>\n",
       "      <th>Datetime</th>\n",
       "      <th>Text</th>\n",
       "      <th>Username</th>\n",
       "      <th>Retweet</th>\n",
       "      <th>Views</th>\n",
       "      <th>Search Criteria</th>\n",
       "      <th>Positive (P), Negative(N), Both(B), Neutral(U)</th>\n",
       "    </tr>\n",
       "  </thead>\n",
       "  <tbody>\n",
       "    <tr>\n",
       "      <th>0</th>\n",
       "      <td>10/02/2023</td>\n",
       "      <td>Say What You Want But This Harry Potter Is The...</td>\n",
       "      <td>NaN</td>\n",
       "      <td>1</td>\n",
       "      <td>967</td>\n",
       "      <td>Harry Potter</td>\n",
       "      <td>P</td>\n",
       "    </tr>\n",
       "    <tr>\n",
       "      <th>1</th>\n",
       "      <td>01/02/2023</td>\n",
       "      <td>Where?S The Edd Bank Of America BeyoncÈ Presale?</td>\n",
       "      <td>AmyScarlata</td>\n",
       "      <td>1</td>\n",
       "      <td>212</td>\n",
       "      <td>Bank Of America</td>\n",
       "      <td>P</td>\n",
       "    </tr>\n",
       "    <tr>\n",
       "      <th>2</th>\n",
       "      <td>26/01/2023</td>\n",
       "      <td>@Besoccerfr Pep Guardiola And Pulisitch</td>\n",
       "      <td>Khaled_Dz_2006</td>\n",
       "      <td>0</td>\n",
       "      <td>19</td>\n",
       "      <td>Pep Guardiola</td>\n",
       "      <td>P</td>\n",
       "    </tr>\n",
       "    <tr>\n",
       "      <th>3</th>\n",
       "      <td>10/02/2023</td>\n",
       "      <td>@Bluedinifree @Marshablackburn He Was Getting ...</td>\n",
       "      <td>JamesAR1116</td>\n",
       "      <td>0</td>\n",
       "      <td>17</td>\n",
       "      <td>Netflix</td>\n",
       "      <td>U</td>\n",
       "    </tr>\n",
       "    <tr>\n",
       "      <th>4</th>\n",
       "      <td>10/02/2023</td>\n",
       "      <td>@Wizard_Coder @Bearbulltraders I Trade Perpetu...</td>\n",
       "      <td>RecoveryTraders</td>\n",
       "      <td>0</td>\n",
       "      <td>37</td>\n",
       "      <td>Ftx</td>\n",
       "      <td>U</td>\n",
       "    </tr>\n",
       "  </tbody>\n",
       "</table>\n",
       "</div>"
      ],
      "text/plain": [
       "     Datetime                                               Text   \n",
       "0  10/02/2023  Say What You Want But This Harry Potter Is The...  \\\n",
       "1  01/02/2023   Where?S The Edd Bank Of America BeyoncÈ Presale?   \n",
       "2  26/01/2023            @Besoccerfr Pep Guardiola And Pulisitch   \n",
       "3  10/02/2023  @Bluedinifree @Marshablackburn He Was Getting ...   \n",
       "4  10/02/2023  @Wizard_Coder @Bearbulltraders I Trade Perpetu...   \n",
       "\n",
       "          Username  Retweet  Views  Search Criteria   \n",
       "0              NaN        1    967     Harry Potter  \\\n",
       "1      AmyScarlata        1    212  Bank Of America   \n",
       "2   Khaled_Dz_2006        0     19    Pep Guardiola   \n",
       "3      JamesAR1116        0     17          Netflix   \n",
       "4  RecoveryTraders        0     37              Ftx   \n",
       "\n",
       "  Positive (P), Negative(N), Both(B), Neutral(U)  \n",
       "0                                              P  \n",
       "1                                              P  \n",
       "2                                              P  \n",
       "3                                              U  \n",
       "4                                              U  "
      ]
     },
     "execution_count": 6,
     "metadata": {},
     "output_type": "execute_result"
    }
   ],
   "source": [
    "TExtract.head()"
   ]
  },
  {
   "cell_type": "code",
   "execution_count": 7,
   "id": "311d970d-37da-4ba0-a1f3-9445d04c7e11",
   "metadata": {},
   "outputs": [],
   "source": [
    "TExtract.rename(columns={\"Positive (P), Negative(N), Both(B), Neutral(U)\": \"Sentiment\"}, inplace=True)\n",
    "\n",
    "sentiment_mapping = {'P': 'positive', 'N': 'negative', 'U': 'neutral', 'B': 'both'} # Define a mapping of old values to new values\n",
    "TExtract['Sentiment'] = TExtract['Sentiment'].replace(sentiment_mapping)"
   ]
  },
  {
   "cell_type": "code",
   "execution_count": 8,
   "id": "979cd57f-b205-425a-9f85-429a6f75c26b",
   "metadata": {},
   "outputs": [],
   "source": [
    "valid_sentiments = ['positive', 'negative', 'neutral'] # Define a list of valid sentiments\n",
    "TExtract = TExtract[TExtract['Sentiment'].isin(valid_sentiments)]"
   ]
  },
  {
   "cell_type": "code",
   "execution_count": 9,
   "id": "c95d5cfb-224b-4f2f-899e-757452cad9e8",
   "metadata": {},
   "outputs": [
    {
     "name": "stdout",
     "output_type": "stream",
     "text": [
      "<class 'pandas.core.frame.DataFrame'>\n",
      "Index: 27279 entries, 0 to 29998\n",
      "Data columns (total 7 columns):\n",
      " #   Column           Non-Null Count  Dtype \n",
      "---  ------           --------------  ----- \n",
      " 0   Datetime         27279 non-null  object\n",
      " 1   Text             27279 non-null  object\n",
      " 2   Username         24536 non-null  object\n",
      " 3   Retweet          27279 non-null  int64 \n",
      " 4   Views            27279 non-null  int64 \n",
      " 5   Search Criteria  27279 non-null  object\n",
      " 6   Sentiment        27279 non-null  object\n",
      "dtypes: int64(2), object(5)\n",
      "memory usage: 1.7+ MB\n"
     ]
    }
   ],
   "source": [
    "TExtract.info()"
   ]
  },
  {
   "cell_type": "code",
   "execution_count": 10,
   "id": "8f6e5072-dd14-4317-9f29-d1ff3ba5e82a",
   "metadata": {},
   "outputs": [
    {
     "name": "stdout",
     "output_type": "stream",
     "text": [
      "============================================\n",
      "Search Criteria breakdown\n",
      "============================================\n"
     ]
    },
    {
     "data": {
      "text/plain": [
       "Search Criteria\n",
       "Harry Potter    745\n",
       "Adele           708\n",
       "Netflix         697\n",
       "Lebron James    690\n",
       "Amouranth       670\n",
       "Liz Truss       655\n",
       "Primark         646\n",
       "Coca-cola       622\n",
       "Amazon          612\n",
       "Andrew Tate     603\n",
       "Wayfair         594\n",
       "Walmart         582\n",
       "Chelsea         575\n",
       "Iphone          567\n",
       "Tesco           563\n",
       "Arsenal         560\n",
       "Paypal          559\n",
       "Chris Brown     539\n",
       "Burna Boy       535\n",
       "Asda            522\n",
       "Name: count, dtype: int64"
      ]
     },
     "execution_count": 10,
     "metadata": {},
     "output_type": "execute_result"
    }
   ],
   "source": [
    "print ('============================================')\n",
    "print (\"Search Criteria breakdown\")\n",
    "print ('============================================')\n",
    "TExtract['Search Criteria'].value_counts().head(20)"
   ]
  },
  {
   "cell_type": "code",
   "execution_count": 11,
   "id": "63aa7b78-d870-44ea-bcff-edd31178308c",
   "metadata": {},
   "outputs": [],
   "source": [
    "TExtract['TextClean'] = TExtract['Text']"
   ]
  },
  {
   "cell_type": "code",
   "execution_count": 31,
   "id": "9e434168-3f72-4ae6-8975-94d2962c15da",
   "metadata": {},
   "outputs": [],
   "source": [
    "topic = 'Iphone'"
   ]
  },
  {
   "cell_type": "code",
   "execution_count": 32,
   "id": "553b7f49-6aa9-4028-8c18-002e9d4b074e",
   "metadata": {},
   "outputs": [],
   "source": [
    "location = 'London'"
   ]
  },
  {
   "cell_type": "code",
   "execution_count": 51,
   "id": "f68b9037-b11b-43fe-83cf-f9546c1a2745",
   "metadata": {},
   "outputs": [],
   "source": [
    "Filteredtweets = TExtract[TExtract['Search Criteria'] == 'Iphone'].copy()"
   ]
  },
  {
   "cell_type": "code",
   "execution_count": 13,
   "id": "80b3a56c-0213-4f0f-bb7a-a7cdf0dec1d7",
   "metadata": {},
   "outputs": [],
   "source": [
    "Filteredtweets.reset_index(inplace=True)"
   ]
  },
  {
   "cell_type": "code",
   "execution_count": 14,
   "id": "feb13732-47ec-49ed-bc91-30e16e85874f",
   "metadata": {},
   "outputs": [
    {
     "data": {
      "text/html": [
       "<div>\n",
       "<style scoped>\n",
       "    .dataframe tbody tr th:only-of-type {\n",
       "        vertical-align: middle;\n",
       "    }\n",
       "\n",
       "    .dataframe tbody tr th {\n",
       "        vertical-align: top;\n",
       "    }\n",
       "\n",
       "    .dataframe thead th {\n",
       "        text-align: right;\n",
       "    }\n",
       "</style>\n",
       "<table border=\"1\" class=\"dataframe\">\n",
       "  <thead>\n",
       "    <tr style=\"text-align: right;\">\n",
       "      <th></th>\n",
       "      <th>index</th>\n",
       "      <th>Datetime</th>\n",
       "      <th>Text</th>\n",
       "      <th>Username</th>\n",
       "      <th>Retweet</th>\n",
       "      <th>Views</th>\n",
       "      <th>Search Criteria</th>\n",
       "      <th>Sentiment</th>\n",
       "      <th>TextClean</th>\n",
       "    </tr>\n",
       "  </thead>\n",
       "  <tbody>\n",
       "    <tr>\n",
       "      <th>0</th>\n",
       "      <td>5</td>\n",
       "      <td>07/02/2023</td>\n",
       "      <td>? Tagged #Hashtag,#Ciberamenazas,#Ciberconsejo...</td>\n",
       "      <td>rafemi</td>\n",
       "      <td>0</td>\n",
       "      <td>27</td>\n",
       "      <td>Iphone</td>\n",
       "      <td>neutral</td>\n",
       "      <td>? Tagged #Hashtag,#Ciberamenazas,#Ciberconsejo...</td>\n",
       "    </tr>\n",
       "    <tr>\n",
       "      <th>1</th>\n",
       "      <td>19</td>\n",
       "      <td>28/12/2022</td>\n",
       "      <td>Hey @Apple , With All Of These System Updates,...</td>\n",
       "      <td>MrAveryBrown</td>\n",
       "      <td>0</td>\n",
       "      <td>77</td>\n",
       "      <td>Iphone</td>\n",
       "      <td>positive</td>\n",
       "      <td>Hey @Apple , With All Of These System Updates,...</td>\n",
       "    </tr>\n",
       "    <tr>\n",
       "      <th>2</th>\n",
       "      <td>65</td>\n",
       "      <td>26/01/2023</td>\n",
       "      <td>Can I Ask All You Apple Product Users: Why Wou...</td>\n",
       "      <td>cunderw12</td>\n",
       "      <td>0</td>\n",
       "      <td>147</td>\n",
       "      <td>Iphone</td>\n",
       "      <td>positive</td>\n",
       "      <td>Can I Ask All You Apple Product Users: Why Wou...</td>\n",
       "    </tr>\n",
       "    <tr>\n",
       "      <th>3</th>\n",
       "      <td>237</td>\n",
       "      <td>31/01/2023</td>\n",
       "      <td>@Apple Please Fix The Voice Notes Not Being Ab...</td>\n",
       "      <td>NandyVersatil</td>\n",
       "      <td>0</td>\n",
       "      <td>30</td>\n",
       "      <td>Iphone</td>\n",
       "      <td>positive</td>\n",
       "      <td>@Apple Please Fix The Voice Notes Not Being Ab...</td>\n",
       "    </tr>\n",
       "    <tr>\n",
       "      <th>4</th>\n",
       "      <td>248</td>\n",
       "      <td>24/12/2022</td>\n",
       "      <td>Rip #Twitterforiphone And #Twitterforandroid #...</td>\n",
       "      <td>ninaadsadaphal</td>\n",
       "      <td>0</td>\n",
       "      <td>18</td>\n",
       "      <td>Iphone</td>\n",
       "      <td>positive</td>\n",
       "      <td>Rip #Twitterforiphone And #Twitterforandroid #...</td>\n",
       "    </tr>\n",
       "  </tbody>\n",
       "</table>\n",
       "</div>"
      ],
      "text/plain": [
       "   index    Datetime                                               Text   \n",
       "0      5  07/02/2023  ? Tagged #Hashtag,#Ciberamenazas,#Ciberconsejo...  \\\n",
       "1     19  28/12/2022  Hey @Apple , With All Of These System Updates,...   \n",
       "2     65  26/01/2023  Can I Ask All You Apple Product Users: Why Wou...   \n",
       "3    237  31/01/2023  @Apple Please Fix The Voice Notes Not Being Ab...   \n",
       "4    248  24/12/2022  Rip #Twitterforiphone And #Twitterforandroid #...   \n",
       "\n",
       "         Username  Retweet  Views Search Criteria Sentiment   \n",
       "0          rafemi        0     27          Iphone   neutral  \\\n",
       "1    MrAveryBrown        0     77          Iphone  positive   \n",
       "2       cunderw12        0    147          Iphone  positive   \n",
       "3   NandyVersatil        0     30          Iphone  positive   \n",
       "4  ninaadsadaphal        0     18          Iphone  positive   \n",
       "\n",
       "                                           TextClean  \n",
       "0  ? Tagged #Hashtag,#Ciberamenazas,#Ciberconsejo...  \n",
       "1  Hey @Apple , With All Of These System Updates,...  \n",
       "2  Can I Ask All You Apple Product Users: Why Wou...  \n",
       "3  @Apple Please Fix The Voice Notes Not Being Ab...  \n",
       "4  Rip #Twitterforiphone And #Twitterforandroid #...  "
      ]
     },
     "execution_count": 14,
     "metadata": {},
     "output_type": "execute_result"
    }
   ],
   "source": [
    "Filteredtweets.head()"
   ]
  },
  {
   "cell_type": "code",
   "execution_count": 15,
   "id": "e02266f9-5dcc-4d45-afb4-433292f49eb2",
   "metadata": {},
   "outputs": [
    {
     "data": {
      "image/png": "[encoded data removed]",
      "text/plain": [
       "<Figure size 640x480 with 1 Axes>"
      ]
     },
     "metadata": {},
     "output_type": "display_data"
    }
   ],
   "source": [
    "sns.countplot(y='Sentiment', data=Filteredtweets, color = 'darkblue')\n",
    "plt.title('Manual Sentiment Classification')\n",
    "plt.show()"
   ]
  },
  {
   "cell_type": "code",
   "execution_count": 16,
   "id": "82deb11c-40e3-4896-bbf5-c66a9604cc55",
   "metadata": {},
   "outputs": [],
   "source": [
    "# remove '\\n', lowercase all letters\n",
    "Filteredtweets['TextClean'] = Filteredtweets['TextClean'].apply(lambda x: x.replace('\\n',' ').lower())\n",
    "\n",
    "# expand contractions\n",
    "Filteredtweets['TextClean'] = Filteredtweets['TextClean'].apply(lambda x: contractions.fix(x))\n",
    "\n",
    "# remove punctuations\n",
    "Filteredtweets['TextClean'] = Filteredtweets['TextClean'].apply(lambda x: re.sub(r'[^\\w\\s]','',x))\n",
    "\n",
    "#remove HTML tags\n",
    "Filteredtweets['TextClean'] = Filteredtweets['TextClean'].apply(lambda x: re.sub(re.compile('<.*?>'), '', x))\n",
    "\n",
    "#remove consecutive characters that occur three or more times in a row, and replace them with just two occurrences of that character.\n",
    "Filteredtweets['TextClean'] = Filteredtweets['TextClean'].apply(lambda x: re.compile(r\"(.)\\1{2,}\").sub(r\"\\1\\1\", x))\n",
    "\n",
    "# Removing extra spaces\n",
    "Filteredtweets['TextClean'] = Filteredtweets['TextClean'].apply(lambda x: re.sub(' +',' ',x))\n",
    "\n",
    "# Removing stop words\n",
    "#stop_words = set(stopwords.words('english'))\n",
    "#Filteredtweets['TextClean'] = Filteredtweets['TextClean'].apply(lambda x: ' '.join([word for word in x.split() if word not in stop_words]))\n",
    "\n",
    "# Tokenize the text data using NLTK\n",
    "# Filteredtweets['TextClean'] = Filteredtweets['TextClean'].apply(lambda x: word_tokenize(x))"
   ]
  },
  {
   "cell_type": "code",
   "execution_count": 17,
   "id": "f5a23676-daa3-4606-83af-ab2c047fb48e",
   "metadata": {},
   "outputs": [
    {
     "data": {
      "text/html": [
       "<div>\n",
       "<style scoped>\n",
       "    .dataframe tbody tr th:only-of-type {\n",
       "        vertical-align: middle;\n",
       "    }\n",
       "\n",
       "    .dataframe tbody tr th {\n",
       "        vertical-align: top;\n",
       "    }\n",
       "\n",
       "    .dataframe thead th {\n",
       "        text-align: right;\n",
       "    }\n",
       "</style>\n",
       "<table border=\"1\" class=\"dataframe\">\n",
       "  <thead>\n",
       "    <tr style=\"text-align: right;\">\n",
       "      <th></th>\n",
       "      <th>Text</th>\n",
       "      <th>TextClean</th>\n",
       "    </tr>\n",
       "  </thead>\n",
       "  <tbody>\n",
       "    <tr>\n",
       "      <th>0</th>\n",
       "      <td>? Tagged #Hashtag,#Ciberamenazas,#Ciberconsejo...</td>\n",
       "      <td>tagged hashtagciberamenazasciberconsejosciber...</td>\n",
       "    </tr>\n",
       "    <tr>\n",
       "      <th>1</th>\n",
       "      <td>Hey @Apple , With All Of These System Updates,...</td>\n",
       "      <td>hey apple with all of these system updates i n...</td>\n",
       "    </tr>\n",
       "    <tr>\n",
       "      <th>2</th>\n",
       "      <td>Can I Ask All You Apple Product Users: Why Wou...</td>\n",
       "      <td>can i ask all you apple product users why woul...</td>\n",
       "    </tr>\n",
       "    <tr>\n",
       "      <th>3</th>\n",
       "      <td>@Apple Please Fix The Voice Notes Not Being Ab...</td>\n",
       "      <td>apple please fix the voice notes not being abl...</td>\n",
       "    </tr>\n",
       "    <tr>\n",
       "      <th>4</th>\n",
       "      <td>Rip #Twitterforiphone And #Twitterforandroid #...</td>\n",
       "      <td>rip twitterforiphone and twitterforandroid twi...</td>\n",
       "    </tr>\n",
       "    <tr>\n",
       "      <th>...</th>\n",
       "      <td>...</td>\n",
       "      <td>...</td>\n",
       "    </tr>\n",
       "    <tr>\n",
       "      <th>562</th>\n",
       "      <td>@Velcocinemas Last Time License This Time #Iph...</td>\n",
       "      <td>velcocinemas last time license this time iphon...</td>\n",
       "    </tr>\n",
       "    <tr>\n",
       "      <th>563</th>\n",
       "      <td>1/ It's So Unfortunate That Ftx One Of The Wor...</td>\n",
       "      <td>1 it is so unfortunate that ftx one of the wor...</td>\n",
       "    </tr>\n",
       "    <tr>\n",
       "      <th>564</th>\n",
       "      <td>Today, I Changed My #Iphone Apps Settings. 1. ...</td>\n",
       "      <td>today i changed my iphone apps settings 1 appl...</td>\n",
       "    </tr>\n",
       "    <tr>\n",
       "      <th>565</th>\n",
       "      <td>#Iphone Chargers Should Be Called Apple Juice</td>\n",
       "      <td>iphone chargers should be called apple juice</td>\n",
       "    </tr>\n",
       "    <tr>\n",
       "      <th>566</th>\n",
       "      <td>@Kodak #35mm #Film Is So Pricey, I Can?T Affor...</td>\n",
       "      <td>kodak 35mm film is so pricey i cant afford to ...</td>\n",
       "    </tr>\n",
       "  </tbody>\n",
       "</table>\n",
       "<p>567 rows × 2 columns</p>\n",
       "</div>"
      ],
      "text/plain": [
       "                                                  Text   \n",
       "0    ? Tagged #Hashtag,#Ciberamenazas,#Ciberconsejo...  \\\n",
       "1    Hey @Apple , With All Of These System Updates,...   \n",
       "2    Can I Ask All You Apple Product Users: Why Wou...   \n",
       "3    @Apple Please Fix The Voice Notes Not Being Ab...   \n",
       "4    Rip #Twitterforiphone And #Twitterforandroid #...   \n",
       "..                                                 ...   \n",
       "562  @Velcocinemas Last Time License This Time #Iph...   \n",
       "563  1/ It's So Unfortunate That Ftx One Of The Wor...   \n",
       "564  Today, I Changed My #Iphone Apps Settings. 1. ...   \n",
       "565      #Iphone Chargers Should Be Called Apple Juice   \n",
       "566  @Kodak #35mm #Film Is So Pricey, I Can?T Affor...   \n",
       "\n",
       "                                             TextClean  \n",
       "0     tagged hashtagciberamenazasciberconsejosciber...  \n",
       "1    hey apple with all of these system updates i n...  \n",
       "2    can i ask all you apple product users why woul...  \n",
       "3    apple please fix the voice notes not being abl...  \n",
       "4    rip twitterforiphone and twitterforandroid twi...  \n",
       "..                                                 ...  \n",
       "562  velcocinemas last time license this time iphon...  \n",
       "563  1 it is so unfortunate that ftx one of the wor...  \n",
       "564  today i changed my iphone apps settings 1 appl...  \n",
       "565       iphone chargers should be called apple juice  \n",
       "566  kodak 35mm film is so pricey i cant afford to ...  \n",
       "\n",
       "[567 rows x 2 columns]"
      ]
     },
     "execution_count": 17,
     "metadata": {},
     "output_type": "execute_result"
    }
   ],
   "source": [
    "Filteredtweets[['Text', 'TextClean']]"
   ]
  },
  {
   "cell_type": "code",
   "execution_count": 18,
   "id": "c3333672-a2fe-40f6-9fea-b6c81bd185a6",
   "metadata": {},
   "outputs": [
    {
     "data": {
      "text/plain": [
       "0       tagged hashtagciberamenazasciberconsejosciber...\n",
       "1      hey apple with all of these system updates i n...\n",
       "2      can i ask all you apple product users why woul...\n",
       "3      apple please fix the voice notes not being abl...\n",
       "4      rip twitterforiphone and twitterforandroid twi...\n",
       "                             ...                        \n",
       "562    velcocinemas last time license this time iphon...\n",
       "563    1 it is so unfortunate that ftx one of the wor...\n",
       "564    today i changed my iphone apps settings 1 appl...\n",
       "565         iphone chargers should be called apple juice\n",
       "566    kodak 35mm film is so pricey i cant afford to ...\n",
       "Name: TextClean, Length: 567, dtype: object"
      ]
     },
     "execution_count": 18,
     "metadata": {},
     "output_type": "execute_result"
    }
   ],
   "source": [
    "Filteredtweets['TextClean']"
   ]
  },
  {
   "cell_type": "code",
   "execution_count": 63,
   "id": "e8cc3137-8df7-415a-a4c5-325dce728335",
   "metadata": {},
   "outputs": [
    {
     "name": "stderr",
     "output_type": "stream",
     "text": [
      "Some weights of the model checkpoint at cardiffnlp/twitter-roberta-base-sentiment-latest were not used when initializing RobertaForSequenceClassification: ['roberta.pooler.dense.bias', 'roberta.pooler.dense.weight']\n",
      "- This IS expected if you are initializing RobertaForSequenceClassification from the checkpoint of a model trained on another task or with another architecture (e.g. initializing a BertForSequenceClassification model from a BertForPreTraining model).\n",
      "- This IS NOT expected if you are initializing RobertaForSequenceClassification from the checkpoint of a model that you expect to be exactly identical (initializing a BertForSequenceClassification model from a BertForSequenceClassification model).\n"
     ]
    }
   ],
   "source": [
    "# Load the model\n",
    "model = tweetnlp.load_model('sentiment')\n",
    "\n",
    "# Define the sentiment analysis function\n",
    "def get_sentiment(text):\n",
    "    return model.sentiment(text)['label']\n",
    "\n",
    "# Apply the function to each row of the 'filtertweet[textclean]' column and store the result in a new column called 'sentiment'\n",
    "Filteredtweets['Tweetsentiment'] = Filteredtweets['TextClean'].apply(get_sentiment)"
   ]
  },
  {
   "cell_type": "code",
   "execution_count": 20,
   "id": "bad21f99-3aa0-428c-9493-4f7acaf53c4d",
   "metadata": {},
   "outputs": [
    {
     "name": "stderr",
     "output_type": "stream",
     "text": [
      "Some weights of the model checkpoint at cardiffnlp/twitter-roberta-base-sentiment-latest were not used when initializing RobertaForSequenceClassification: ['roberta.pooler.dense.bias', 'roberta.pooler.dense.weight']\n",
      "- This IS expected if you are initializing RobertaForSequenceClassification from the checkpoint of a model trained on another task or with another architecture (e.g. initializing a BertForSequenceClassification model from a BertForPreTraining model).\n",
      "- This IS NOT expected if you are initializing RobertaForSequenceClassification from the checkpoint of a model that you expect to be exactly identical (initializing a BertForSequenceClassification model from a BertForSequenceClassification model).\n"
     ]
    }
   ],
   "source": [
    "# Load the model\n",
    "model = tweetnlp.load_model('sentiment')\n",
    "\n",
    "# Define the sentiment analysis function\n",
    "def get_sentiment(text):\n",
    "    return model.sentiment(text)['label']\n",
    "\n",
    "# Apply the function to each row of the 'filtertweet[textclean]' column and store the result in a new column called 'sentiment'\n",
    "Filteredtweets['TweetsentimentNoCleaning'] = Filteredtweets['Text'].apply(get_sentiment)"
   ]
  },
  {
   "cell_type": "code",
   "execution_count": 21,
   "id": "766f6e3d-4644-4b98-986c-2e50609f9dd5",
   "metadata": {},
   "outputs": [
    {
     "data": {
      "text/plain": [
       "Tweetsentiment\n",
       "neutral     239\n",
       "negative    192\n",
       "positive    136\n",
       "Name: count, dtype: int64"
      ]
     },
     "execution_count": 21,
     "metadata": {},
     "output_type": "execute_result"
    }
   ],
   "source": [
    "Filteredtweets['Tweetsentiment'].value_counts()"
   ]
  },
  {
   "cell_type": "code",
   "execution_count": 22,
   "id": "0e2ba15e-27fc-4d3b-9ef0-bb16f4707557",
   "metadata": {},
   "outputs": [
    {
     "data": {
      "text/plain": [
       "TweetsentimentNoCleaning\n",
       "neutral     262\n",
       "negative    176\n",
       "positive    129\n",
       "Name: count, dtype: int64"
      ]
     },
     "execution_count": 22,
     "metadata": {},
     "output_type": "execute_result"
    }
   ],
   "source": [
    "Filteredtweets['TweetsentimentNoCleaning'].value_counts()"
   ]
  },
  {
   "cell_type": "code",
   "execution_count": 23,
   "id": "0e5d586c-f8f2-4326-8840-c9abf63ad6a9",
   "metadata": {},
   "outputs": [
    {
     "data": {
      "text/plain": [
       "Sentiment\n",
       "positive    339\n",
       "negative    157\n",
       "neutral      71\n",
       "Name: count, dtype: int64"
      ]
     },
     "execution_count": 23,
     "metadata": {},
     "output_type": "execute_result"
    }
   ],
   "source": [
    "Filteredtweets['Sentiment'].value_counts()"
   ]
  },
  {
   "cell_type": "code",
   "execution_count": 47,
   "id": "6ebe6c40-7fc3-4fff-a870-4bb517e64faa",
   "metadata": {},
   "outputs": [],
   "source": [
    "#Change date format in python pandas yyyy-mm-dd to dd-mm-yyyy\n",
    "Filteredtweets['Datetime'] = pd.to_datetime(Filteredtweets['Datetime'], format='mixed').dt.strftime('%d-%m-%Y')"
   ]
  },
  {
   "cell_type": "code",
   "execution_count": 49,
   "id": "10fb5916-309e-4c8b-a0d9-30c2cc79c5f9",
   "metadata": {},
   "outputs": [
    {
     "data": {
      "text/plain": [
       "0      07-02-2023\n",
       "1      28-12-2022\n",
       "2      26-01-2023\n",
       "3      31-01-2023\n",
       "4      24-12-2022\n",
       "          ...    \n",
       "562    15-01-2023\n",
       "563    28-01-2023\n",
       "564    28-12-2022\n",
       "565    16-01-2023\n",
       "566    13-01-2023\n",
       "Name: Datetime, Length: 567, dtype: object"
      ]
     },
     "execution_count": 49,
     "metadata": {},
     "output_type": "execute_result"
    }
   ],
   "source": [
    "Filteredtweets['Datetime']"
   ]
  },
  {
   "cell_type": "code",
   "execution_count": 40,
   "id": "25099986-8ccb-4de5-94c4-5a530b214fe4",
   "metadata": {},
   "outputs": [],
   "source": [
    "# Create a list of dates\n",
    "dates = sorted(Filteredtweets['Datetime'].unique())"
   ]
  },
  {
   "cell_type": "code",
   "execution_count": 42,
   "id": "b0833b37-c2f2-4e83-ba54-cfd55f030917",
   "metadata": {},
   "outputs": [],
   "source": [
    "from datetime import datetime\n",
    "\n",
    "# Create a list of dates\n",
    "dates = Filteredtweets['Datetime'].unique()\n",
    "\n",
    "# Convert dates to datetime objects\n",
    "date_objs = [datetime.strptime(date, '%d-%m-%Y') for date in dates]\n",
    "\n",
    "# Sort datetime objects\n",
    "sorted_date_objs = sorted(date_objs)\n",
    "\n",
    "# Convert sorted datetime objects back to strings\n",
    "sorted_dates = [date_obj.strftime('%d-%m-%Y') for date_obj in sorted_date_objs]"
   ]
  },
  {
   "cell_type": "code",
   "execution_count": 43,
   "id": "af6f5495-db64-460d-bc21-a530f07b874b",
   "metadata": {},
   "outputs": [
    {
     "data": {
      "text/plain": [
       "['18-12-2022',\n",
       " '19-12-2022',\n",
       " '20-12-2022',\n",
       " '21-12-2022',\n",
       " '22-12-2022',\n",
       " '23-12-2022',\n",
       " '24-12-2022',\n",
       " '25-12-2022',\n",
       " '26-12-2022',\n",
       " '27-12-2022',\n",
       " '28-12-2022',\n",
       " '29-12-2022',\n",
       " '30-12-2022',\n",
       " '31-12-2022',\n",
       " '01-01-2023',\n",
       " '02-01-2023',\n",
       " '13-01-2023',\n",
       " '14-01-2023',\n",
       " '15-01-2023',\n",
       " '16-01-2023',\n",
       " '17-01-2023',\n",
       " '18-01-2023',\n",
       " '19-01-2023',\n",
       " '20-01-2023',\n",
       " '21-01-2023',\n",
       " '22-01-2023',\n",
       " '23-01-2023',\n",
       " '24-01-2023',\n",
       " '25-01-2023',\n",
       " '26-01-2023',\n",
       " '27-01-2023',\n",
       " '28-01-2023',\n",
       " '29-01-2023',\n",
       " '30-01-2023',\n",
       " '31-01-2023',\n",
       " '01-02-2023',\n",
       " '02-02-2023',\n",
       " '01-03-2023',\n",
       " '02-03-2023',\n",
       " '01-04-2023',\n",
       " '02-04-2023',\n",
       " '01-05-2023',\n",
       " '02-05-2023',\n",
       " '01-06-2023',\n",
       " '02-06-2023',\n",
       " '01-07-2023',\n",
       " '02-07-2023',\n",
       " '01-08-2023',\n",
       " '02-08-2023',\n",
       " '01-09-2023',\n",
       " '02-09-2023',\n",
       " '01-10-2023',\n",
       " '02-10-2023',\n",
       " '01-11-2023',\n",
       " '01-12-2023']"
      ]
     },
     "execution_count": 43,
     "metadata": {},
     "output_type": "execute_result"
    }
   ],
   "source": [
    "sorted_dates"
   ]
  },
  {
   "cell_type": "code",
   "execution_count": 55,
   "id": "04e434a5-6890-4572-8aef-d59ec21d93f1",
   "metadata": {},
   "outputs": [
    {
     "data": {
      "image/png": "[encoded data removed]",
      "text/plain": [
       "<Figure size 1200x600 with 1 Axes>"
      ]
     },
     "metadata": {},
     "output_type": "display_data"
    }
   ],
   "source": [
    "\n",
    "# Create a list of dates\n",
    "dates = Filteredtweets['Datetime'].unique()\n",
    "\n",
    "# Create a list of counts for each sentiment for each date\n",
    "pos_counts = []\n",
    "neg_counts = []\n",
    "neu_counts = []\n",
    "\n",
    "for date in dates:\n",
    "    df = Filteredtweets\n",
    "    pos_counts.append(len(df[df['Sentiment'] == 'positive']))\n",
    "    neg_counts.append(len(df[df['Sentiment'] == 'negative']))\n",
    "    neu_counts.append(len(df[df['Sentiment'] == 'neutral']))\n",
    "\n",
    "# Create a stacked bar chart\n",
    "fig, ax = plt.subplots(figsize=(12,6))\n",
    "ax.bar(dates, pos_counts, label='Positive', color='green')\n",
    "ax.bar(dates, neu_counts, bottom=pos_counts, label='Neutral', color='gray')\n",
    "ax.bar(dates, neg_counts, bottom=np.array(pos_counts)+np.array(neu_counts), label='Negative', color='red')\n",
    "ax.legend()\n",
    "ax.set_xlabel('Date')\n",
    "ax.set_ylabel('Count')\n",
    "ax.set_title(f'Sentiment Analysis for {topic} near {location}')\n",
    "plt.xticks(rotation=45)\n",
    "\n",
    "# Save the plot to a PNG file\n",
    "plt.savefig('static/img/sentiment_stacked_bar_chart.png', dpi=300, bbox_inches='tight')\n"
   ]
  },
  {
   "cell_type": "code",
   "execution_count": 61,
   "id": "f21ed160-7e48-4edc-8d42-2906e2eaa069",
   "metadata": {},
   "outputs": [
    {
     "data": {
      "image/png": "[encoded data removed]",
      "text/plain": [
       "<Figure size 1200x600 with 1 Axes>"
      ]
     },
     "metadata": {},
     "output_type": "display_data"
    }
   ],
   "source": [
    "# Create a list of dates\n",
    "# Convert the Datetime column to a datetime data type\n",
    "Filteredtweets['Datetime'] = pd.to_datetime(Filteredtweets['Datetime'], format='%d/%m/%Y')\n",
    "\n",
    "# Sort the DataFrame by the Datetime column\n",
    "Filteredtweets = Filteredtweets.sort_values(by='Datetime')\n",
    "\n",
    "dates = Filteredtweets['Datetime'].unique()\n",
    "\n",
    "# Create a list of counts for each sentiment for each date\n",
    "pos_counts = []\n",
    "neg_counts = []\n",
    "neu_counts = []\n",
    "\n",
    "for date in dates:\n",
    "    df = Filteredtweets[Filteredtweets['Datetime'] == date]\n",
    "    pos_counts.append(len(df[df['Sentiment'] == 'positive']))\n",
    "    neg_counts.append(len(df[df['Sentiment'] == 'negative']))\n",
    "    neu_counts.append(len(df[df['Sentiment'] == 'neutral']))\n",
    "\n",
    "# Create a stacked bar chart\n",
    "fig, ax = plt.subplots(figsize=(12,6))\n",
    "ax.bar(dates, pos_counts, label='Positive', color='green')\n",
    "ax.bar(dates, neu_counts, bottom=pos_counts, label='Neutral', color='gray')\n",
    "ax.bar(dates, neg_counts, bottom=np.array(pos_counts)+np.array(neu_counts), label='Negative', color='red')\n",
    "ax.legend()\n",
    "ax.set_xlabel('Date')\n",
    "ax.set_ylabel('Count')\n",
    "ax.set_title(f'Sentiment Analysis for {topic} near {location}')\n",
    "plt.xticks(rotation=45)\n",
    "\n",
    "# Save the plot to a PNG file\n",
    "plt.savefig('static/img/sentiment_stacked_bar_chart.png', dpi=300, bbox_inches='tight')\n"
   ]
  },
  {
   "cell_type": "code",
   "execution_count": 46,
   "id": "ee58d328-b593-48ec-b816-46f2116b6561",
   "metadata": {},
   "outputs": [
    {
     "data": {
      "text/html": [
       "<div>\n",
       "<style scoped>\n",
       "    .dataframe tbody tr th:only-of-type {\n",
       "        vertical-align: middle;\n",
       "    }\n",
       "\n",
       "    .dataframe tbody tr th {\n",
       "        vertical-align: top;\n",
       "    }\n",
       "\n",
       "    .dataframe thead th {\n",
       "        text-align: right;\n",
       "    }\n",
       "</style>\n",
       "<table border=\"1\" class=\"dataframe\">\n",
       "  <thead>\n",
       "    <tr style=\"text-align: right;\">\n",
       "      <th></th>\n",
       "      <th>index</th>\n",
       "      <th>Datetime</th>\n",
       "      <th>Text</th>\n",
       "      <th>Username</th>\n",
       "      <th>Retweet</th>\n",
       "      <th>Views</th>\n",
       "      <th>Search Criteria</th>\n",
       "      <th>Sentiment</th>\n",
       "      <th>TextClean</th>\n",
       "      <th>Tweetsentiment</th>\n",
       "      <th>TweetsentimentNoCleaning</th>\n",
       "    </tr>\n",
       "  </thead>\n",
       "  <tbody>\n",
       "    <tr>\n",
       "      <th>11</th>\n",
       "      <td>488</td>\n",
       "      <td>31-12-2022</td>\n",
       "      <td>My #Iphone Just Reset Everyone's Birthday In M...</td>\n",
       "      <td>anwoodgate</td>\n",
       "      <td>0</td>\n",
       "      <td>84</td>\n",
       "      <td>Iphone</td>\n",
       "      <td>positive</td>\n",
       "      <td>my iphone just reset everyone is birthday in m...</td>\n",
       "      <td>neutral</td>\n",
       "      <td>negative</td>\n",
       "    </tr>\n",
       "    <tr>\n",
       "      <th>132</th>\n",
       "      <td>7078</td>\n",
       "      <td>31-12-2022</td>\n",
       "      <td>@Thecpe That?S Why The Mini Is The Best #Iphone</td>\n",
       "      <td>Cyber_Professor</td>\n",
       "      <td>0</td>\n",
       "      <td>98</td>\n",
       "      <td>Iphone</td>\n",
       "      <td>positive</td>\n",
       "      <td>thecpe thats why the mini is the best iphone</td>\n",
       "      <td>positive</td>\n",
       "      <td>positive</td>\n",
       "    </tr>\n",
       "    <tr>\n",
       "      <th>292</th>\n",
       "      <td>15423</td>\n",
       "      <td>31-12-2022</td>\n",
       "      <td>When You Rush To The Bathroom With Your #Iphon...</td>\n",
       "      <td>NaN</td>\n",
       "      <td>0</td>\n",
       "      <td>167</td>\n",
       "      <td>Iphone</td>\n",
       "      <td>positive</td>\n",
       "      <td>when you rush to the bathroom with your iphone...</td>\n",
       "      <td>negative</td>\n",
       "      <td>neutral</td>\n",
       "    </tr>\n",
       "    <tr>\n",
       "      <th>336</th>\n",
       "      <td>17738</td>\n",
       "      <td>31-12-2022</td>\n",
       "      <td>#Iphone Are Scam.</td>\n",
       "      <td>shawadli</td>\n",
       "      <td>0</td>\n",
       "      <td>17</td>\n",
       "      <td>Iphone</td>\n",
       "      <td>negative</td>\n",
       "      <td>iphone are scam</td>\n",
       "      <td>negative</td>\n",
       "      <td>negative</td>\n",
       "    </tr>\n",
       "    <tr>\n",
       "      <th>346</th>\n",
       "      <td>18297</td>\n",
       "      <td>31-12-2022</td>\n",
       "      <td>Which One Is The Best ? I Am Confused ? #Iphon...</td>\n",
       "      <td>adityablasters</td>\n",
       "      <td>0</td>\n",
       "      <td>109</td>\n",
       "      <td>Iphone</td>\n",
       "      <td>positive</td>\n",
       "      <td>which one is the best i am confused iphone poll</td>\n",
       "      <td>neutral</td>\n",
       "      <td>neutral</td>\n",
       "    </tr>\n",
       "    <tr>\n",
       "      <th>384</th>\n",
       "      <td>20214</td>\n",
       "      <td>31-12-2022</td>\n",
       "      <td>Seriously .@Apple. It?S 2023 And We Still Don?...</td>\n",
       "      <td>ifapplethen</td>\n",
       "      <td>0</td>\n",
       "      <td>59</td>\n",
       "      <td>Iphone</td>\n",
       "      <td>negative</td>\n",
       "      <td>seriously apple its 2023 and we still dont hav...</td>\n",
       "      <td>negative</td>\n",
       "      <td>negative</td>\n",
       "    </tr>\n",
       "    <tr>\n",
       "      <th>557</th>\n",
       "      <td>29782</td>\n",
       "      <td>31-12-2022</td>\n",
       "      <td>Android Or Iphone For A Hardcore Bitcoiner? #B...</td>\n",
       "      <td>kidnorth_btc</td>\n",
       "      <td>1</td>\n",
       "      <td>636</td>\n",
       "      <td>Iphone</td>\n",
       "      <td>negative</td>\n",
       "      <td>android or iphone for a hardcore bitcoiner bit...</td>\n",
       "      <td>neutral</td>\n",
       "      <td>neutral</td>\n",
       "    </tr>\n",
       "  </tbody>\n",
       "</table>\n",
       "</div>"
      ],
      "text/plain": [
       "     index    Datetime                                               Text   \n",
       "11     488  31-12-2022  My #Iphone Just Reset Everyone's Birthday In M...  \\\n",
       "132   7078  31-12-2022    @Thecpe That?S Why The Mini Is The Best #Iphone   \n",
       "292  15423  31-12-2022  When You Rush To The Bathroom With Your #Iphon...   \n",
       "336  17738  31-12-2022                                  #Iphone Are Scam.   \n",
       "346  18297  31-12-2022  Which One Is The Best ? I Am Confused ? #Iphon...   \n",
       "384  20214  31-12-2022  Seriously .@Apple. It?S 2023 And We Still Don?...   \n",
       "557  29782  31-12-2022  Android Or Iphone For A Hardcore Bitcoiner? #B...   \n",
       "\n",
       "            Username  Retweet  Views Search Criteria Sentiment   \n",
       "11        anwoodgate        0     84          Iphone  positive  \\\n",
       "132  Cyber_Professor        0     98          Iphone  positive   \n",
       "292              NaN        0    167          Iphone  positive   \n",
       "336         shawadli        0     17          Iphone  negative   \n",
       "346   adityablasters        0    109          Iphone  positive   \n",
       "384      ifapplethen        0     59          Iphone  negative   \n",
       "557     kidnorth_btc        1    636          Iphone  negative   \n",
       "\n",
       "                                             TextClean Tweetsentiment   \n",
       "11   my iphone just reset everyone is birthday in m...        neutral  \\\n",
       "132       thecpe thats why the mini is the best iphone       positive   \n",
       "292  when you rush to the bathroom with your iphone...       negative   \n",
       "336                                    iphone are scam       negative   \n",
       "346    which one is the best i am confused iphone poll        neutral   \n",
       "384  seriously apple its 2023 and we still dont hav...       negative   \n",
       "557  android or iphone for a hardcore bitcoiner bit...        neutral   \n",
       "\n",
       "    TweetsentimentNoCleaning  \n",
       "11                  negative  \n",
       "132                 positive  \n",
       "292                  neutral  \n",
       "336                 negative  \n",
       "346                  neutral  \n",
       "384                 negative  \n",
       "557                  neutral  "
      ]
     },
     "execution_count": 46,
     "metadata": {},
     "output_type": "execute_result"
    }
   ],
   "source": [
    "df"
   ]
  },
  {
   "cell_type": "code",
   "execution_count": 35,
   "id": "b54742d8-c71e-4843-a220-ccbe91c14a90",
   "metadata": {},
   "outputs": [
    {
     "data": {
      "text/plain": [
       "[239,\n",
       " 239,\n",
       " 239,\n",
       " 239,\n",
       " 239,\n",
       " 239,\n",
       " 239,\n",
       " 239,\n",
       " 239,\n",
       " 239,\n",
       " 239,\n",
       " 239,\n",
       " 239,\n",
       " 239,\n",
       " 239,\n",
       " 239,\n",
       " 239,\n",
       " 239,\n",
       " 239,\n",
       " 239,\n",
       " 239,\n",
       " 239,\n",
       " 239,\n",
       " 239,\n",
       " 239,\n",
       " 239,\n",
       " 239,\n",
       " 239,\n",
       " 239,\n",
       " 239,\n",
       " 239,\n",
       " 239,\n",
       " 239,\n",
       " 239,\n",
       " 239,\n",
       " 239,\n",
       " 239,\n",
       " 239,\n",
       " 239,\n",
       " 239,\n",
       " 239,\n",
       " 239,\n",
       " 239,\n",
       " 239,\n",
       " 239,\n",
       " 239,\n",
       " 239,\n",
       " 239,\n",
       " 239,\n",
       " 239,\n",
       " 239,\n",
       " 239,\n",
       " 239,\n",
       " 239,\n",
       " 239]"
      ]
     },
     "execution_count": 35,
     "metadata": {},
     "output_type": "execute_result"
    }
   ],
   "source": [
    "neu_counts"
   ]
  },
  {
   "cell_type": "code",
   "execution_count": null,
   "id": "f2222187-0d51-4616-8b8a-4a3dbb0bd14c",
   "metadata": {},
   "outputs": [],
   "source": [
    "#Sentiment Classification Plot\n",
    "# create the data for the plot\n",
    "data = Filteredtweets['Tweetsentiment'].value_counts()\n",
    "# create the bar plot\n",
    "fig = go.Figure(data=[go.Bar(x=data.values, y=data.index, orientation='h', marker_color='darkblue')])\n",
    "# customize the plot layout\n",
    "fig.update_layout(title='Sentiment Classification', xaxis_title='Count', yaxis_title='Sentiment')\n",
    "# save the plot as an image file\n",
    "fig.write_image(\"static/SentimentClass.png\")"
   ]
  },
  {
   "cell_type": "code",
   "execution_count": null,
   "id": "4f5a1ee4-fd9c-483d-9188-cdbae737e4d5",
   "metadata": {},
   "outputs": [],
   "source": [
    "import base64\n",
    "from io import BytesIO\n",
    "import plotly.graph_objects as go\n",
    "\n",
    "# create the data for the plot\n",
    "data = Filteredtweets['Tweetsentiment'].value_counts()\n",
    "\n",
    "# create the bar plot\n",
    "fig = go.Figure(data=[go.Bar(x=data.values, y=data.index, orientation='h', marker_color='darkblue')])\n",
    "\n",
    "# customize the plot layout\n",
    "fig.update_layout(title='Sentiment Classification', xaxis_title='Count', yaxis_title='Sentiment')\n",
    "\n",
    "# save the plot as an image file\n",
    "img_bytes = fig.to_image(format='png')\n",
    "encoded_image = base64.b64encode(img_bytes).decode('utf-8')\n",
    "\n",
    "encoded_image\n",
    "\n",
    "# pass the encoded image string to the template\n",
    "#return render_template('index.html', plot=encoded_image)\n"
   ]
  },
  {
   "cell_type": "code",
   "execution_count": 22,
   "id": "dfabdde9-e6ae-42c0-9cc1-94ea9927ccca",
   "metadata": {},
   "outputs": [
    {
     "data": {
      "image/png": "[encoded data removed]",
      "text/plain": [
       "<Figure size 640x480 with 1 Axes>"
      ]
     },
     "metadata": {},
     "output_type": "display_data"
    },
    {
     "ename": "NameError",
     "evalue": "name 'SentimentClass' is not defined",
     "output_type": "error",
     "traceback": [
      "\u001b[1;31m---------------------------------------------------------------------------\u001b[0m",
      "\u001b[1;31mNameError\u001b[0m                                 Traceback (most recent call last)",
      "Cell \u001b[1;32mIn[22], line 5\u001b[0m\n\u001b[0;32m      2\u001b[0m plt\u001b[38;5;241m.\u001b[39mtitle(\u001b[38;5;124m'\u001b[39m\u001b[38;5;124mSentiment Classification\u001b[39m\u001b[38;5;124m'\u001b[39m)\n\u001b[0;32m      3\u001b[0m plt\u001b[38;5;241m.\u001b[39mshow()\n\u001b[1;32m----> 5\u001b[0m \u001b[43mSentimentClass\u001b[49m\u001b[38;5;241m.\u001b[39msavefig(\u001b[38;5;124m'\u001b[39m\u001b[38;5;124mstatic/SentimentClass.png\u001b[39m\u001b[38;5;124m'\u001b[39m)\n\u001b[0;32m      6\u001b[0m plt\u001b[38;5;241m.\u001b[39mclose()\n",
      "\u001b[1;31mNameError\u001b[0m: name 'SentimentClass' is not defined"
     ]
    }
   ],
   "source": [
    "sns.countplot(y='Tweetsentiment', data=Filteredtweets, color = 'darkblue')\n",
    "plt.title('Sentiment Classification')\n",
    "plt.show()\n",
    "\n",
    "SentimentClass.savefig('static/SentimentClass.png')\n",
    "plt.close()"
   ]
  },
  {
   "cell_type": "code",
   "execution_count": null,
   "id": "c38d235d-aa64-4d46-b944-7d687f4ef6ea",
   "metadata": {},
   "outputs": [],
   "source": [
    "fig, ax = plt.subplots(figsize=(8,6))\n",
    "sns.countplot(y='Tweetsentiment', data=Filteredtweets, color='darkblue', ax=ax)\n",
    "ax.set_title('Sentiment Classification')\n",
    "# Save the figure as a variable\n",
    "SentimentClass = ax.get_figure()\n",
    "# Or save it as an image\n",
    "SentimentClass.savefig('static/SentimentClass.png')\n"
   ]
  },
  {
   "cell_type": "code",
   "execution_count": null,
   "id": "a91448c4-c35e-47fb-b7e4-cde25837d8a5",
   "metadata": {},
   "outputs": [],
   "source": [
    "sns.countplot(y='TweetsentimentNoCleaning', data=Filteredtweets, color = 'darkblue')\n",
    "plt.title('Tweetnlp with no Cleaning Sentiment Classification')\n",
    "plt.show()"
   ]
  },
  {
   "cell_type": "code",
   "execution_count": null,
   "id": "a7efb224-15b0-4924-9d02-3c695a9e97e8",
   "metadata": {},
   "outputs": [],
   "source": [
    "sns.countplot(y='Sentiment', data=Filteredtweets, color = 'darkblue')\n",
    "plt.title('Manual Sentiment Classification')\n",
    "plt.show()"
   ]
  },
  {
   "cell_type": "code",
   "execution_count": null,
   "id": "543856e6-0c46-4d9b-b210-5f3eb58b9a32",
   "metadata": {},
   "outputs": [],
   "source": [
    "Filteredtweets['CompareCnU'] = Filteredtweets['TweetsentimentNoCleaning'] == Filteredtweets['Tweetsentiment']"
   ]
  },
  {
   "cell_type": "code",
   "execution_count": null,
   "id": "49e5cac7-73f3-47b0-980b-59dad6e2ca10",
   "metadata": {},
   "outputs": [],
   "source": [
    "Filteredtweets['CompareCnU'].value_counts()"
   ]
  },
  {
   "cell_type": "code",
   "execution_count": null,
   "id": "08fd95bb-d573-4484-9993-9a7896a9e8de",
   "metadata": {},
   "outputs": [],
   "source": [
    "# Filter rows where Compare is False\n",
    "false_compare = Filteredtweets.loc[Filteredtweets['CompareCnU'] == False, ['Text', 'TweetsentimentNoCleaning', 'Tweetsentiment', 'CompareCnU']]\n",
    "\n",
    "# Print the resulting dataframe\n",
    "pd.set_option('display.max_colwidth', None)\n",
    "false_compare.head(20)"
   ]
  },
  {
   "cell_type": "code",
   "execution_count": null,
   "id": "29fb5a68-646e-4cff-8ae3-5853c80a1e40",
   "metadata": {},
   "outputs": [],
   "source": [
    "# Print the resulting dataframe\n",
    "pd.set_option('display.max_colwidth', None)\n",
    "false_compare.tail(20)"
   ]
  },
  {
   "cell_type": "code",
   "execution_count": null,
   "id": "e452aa19-51b1-491e-a8e9-76eeb632000c",
   "metadata": {},
   "outputs": [],
   "source": [
    "from wordcloud import WordCloud\n",
    "from wordcloud import STOPWORDS\n",
    " \n",
    "\n",
    " "
   ]
  },
  {
   "cell_type": "code",
   "execution_count": null,
   "id": "3f2dcad3-0a69-43ba-bf9d-ebcd9a9173e8",
   "metadata": {},
   "outputs": [],
   "source": [
    "# Wordcloud with positive tweets\n",
    "positive_tweets = Filteredtweets['TextClean'][Filteredtweets['Tweetsentiment'] == 'positive']\n",
    "stop_words = [\"iphone\"] + list(STOPWORDS)\n",
    "positive_wordcloud = WordCloud(max_font_size=60, max_words=50, background_color=\"white\", stopwords = stop_words).generate(str(positive_tweets))\n",
    "plt.figure()\n",
    "plt.title(\"Positive Tweets - Wordcloud\")\n",
    "plt.imshow(positive_wordcloud, interpolation=\"bilinear\")\n",
    "plt.axis(\"off\")\n",
    "plt.show()"
   ]
  },
  {
   "cell_type": "code",
   "execution_count": null,
   "id": "0a98e55f-adc4-4f51-a256-17be12a1d496",
   "metadata": {},
   "outputs": [],
   "source": [
    "# Wordcloud with positive tweets\n",
    "positive_tweets = Filteredtweets['TextClean'][Filteredtweets['Tweetsentiment'] == 'negative']\n",
    "stop_words = [\"iphone\"] + list(STOPWORDS)\n",
    "positive_wordcloud = WordCloud(max_font_size=60, max_words=50, background_color=\"white\", stopwords = stop_words).generate(str(positive_tweets))\n",
    "plt.figure()\n",
    "plt.title(\"Negative Tweets - Wordcloud\")\n",
    "plt.imshow(positive_wordcloud, interpolation=\"bilinear\")\n",
    "plt.axis(\"off\")\n",
    "plt.show()"
   ]
  },
  {
   "cell_type": "code",
   "execution_count": null,
   "id": "38e8b436-4827-4cf3-88a3-bc75d3a37f94",
   "metadata": {},
   "outputs": [],
   "source": [
    "OverallSentiment = Filteredtweets['Tweetsentiment'].mode()[0]"
   ]
  },
  {
   "cell_type": "code",
   "execution_count": null,
   "id": "81142b87-4a26-4695-8177-c02b475b0f6a",
   "metadata": {},
   "outputs": [],
   "source": [
    "print('OverallSentiment: '+ OverallSentiment)"
   ]
  },
  {
   "cell_type": "code",
   "execution_count": 69,
   "id": "0ec38b4d-d8bc-4d92-aba8-9ccabca36f5f",
   "metadata": {},
   "outputs": [
    {
     "data": {
      "text/html": [
       "<div>\n",
       "<style scoped>\n",
       "    .dataframe tbody tr th:only-of-type {\n",
       "        vertical-align: middle;\n",
       "    }\n",
       "\n",
       "    .dataframe tbody tr th {\n",
       "        vertical-align: top;\n",
       "    }\n",
       "\n",
       "    .dataframe thead th {\n",
       "        text-align: right;\n",
       "    }\n",
       "</style>\n",
       "<table border=\"1\" class=\"dataframe\">\n",
       "  <thead>\n",
       "    <tr style=\"text-align: right;\">\n",
       "      <th>Tweetsentiment</th>\n",
       "      <th>negative</th>\n",
       "      <th>neutral</th>\n",
       "      <th>positive</th>\n",
       "    </tr>\n",
       "    <tr>\n",
       "      <th>Datetime</th>\n",
       "      <th></th>\n",
       "      <th></th>\n",
       "      <th></th>\n",
       "    </tr>\n",
       "  </thead>\n",
       "  <tbody>\n",
       "    <tr>\n",
       "      <th>2022-12-18</th>\n",
       "      <td>2</td>\n",
       "      <td>4</td>\n",
       "      <td>0</td>\n",
       "    </tr>\n",
       "    <tr>\n",
       "      <th>2022-12-19</th>\n",
       "      <td>0</td>\n",
       "      <td>5</td>\n",
       "      <td>2</td>\n",
       "    </tr>\n",
       "    <tr>\n",
       "      <th>2022-12-20</th>\n",
       "      <td>0</td>\n",
       "      <td>8</td>\n",
       "      <td>1</td>\n",
       "    </tr>\n",
       "    <tr>\n",
       "      <th>2022-12-21</th>\n",
       "      <td>4</td>\n",
       "      <td>2</td>\n",
       "      <td>0</td>\n",
       "    </tr>\n",
       "    <tr>\n",
       "      <th>2022-12-22</th>\n",
       "      <td>3</td>\n",
       "      <td>2</td>\n",
       "      <td>3</td>\n",
       "    </tr>\n",
       "    <tr>\n",
       "      <th>2022-12-23</th>\n",
       "      <td>2</td>\n",
       "      <td>3</td>\n",
       "      <td>1</td>\n",
       "    </tr>\n",
       "    <tr>\n",
       "      <th>2022-12-24</th>\n",
       "      <td>2</td>\n",
       "      <td>3</td>\n",
       "      <td>2</td>\n",
       "    </tr>\n",
       "    <tr>\n",
       "      <th>2022-12-25</th>\n",
       "      <td>0</td>\n",
       "      <td>1</td>\n",
       "      <td>2</td>\n",
       "    </tr>\n",
       "    <tr>\n",
       "      <th>2022-12-26</th>\n",
       "      <td>2</td>\n",
       "      <td>4</td>\n",
       "      <td>0</td>\n",
       "    </tr>\n",
       "    <tr>\n",
       "      <th>2022-12-27</th>\n",
       "      <td>1</td>\n",
       "      <td>2</td>\n",
       "      <td>2</td>\n",
       "    </tr>\n",
       "    <tr>\n",
       "      <th>2022-12-28</th>\n",
       "      <td>3</td>\n",
       "      <td>4</td>\n",
       "      <td>2</td>\n",
       "    </tr>\n",
       "    <tr>\n",
       "      <th>2022-12-29</th>\n",
       "      <td>5</td>\n",
       "      <td>1</td>\n",
       "      <td>1</td>\n",
       "    </tr>\n",
       "    <tr>\n",
       "      <th>2022-12-30</th>\n",
       "      <td>2</td>\n",
       "      <td>2</td>\n",
       "      <td>5</td>\n",
       "    </tr>\n",
       "    <tr>\n",
       "      <th>2022-12-31</th>\n",
       "      <td>3</td>\n",
       "      <td>3</td>\n",
       "      <td>1</td>\n",
       "    </tr>\n",
       "    <tr>\n",
       "      <th>2023-01-01</th>\n",
       "      <td>0</td>\n",
       "      <td>1</td>\n",
       "      <td>2</td>\n",
       "    </tr>\n",
       "    <tr>\n",
       "      <th>2023-01-02</th>\n",
       "      <td>4</td>\n",
       "      <td>2</td>\n",
       "      <td>2</td>\n",
       "    </tr>\n",
       "    <tr>\n",
       "      <th>2023-01-03</th>\n",
       "      <td>3</td>\n",
       "      <td>6</td>\n",
       "      <td>2</td>\n",
       "    </tr>\n",
       "    <tr>\n",
       "      <th>2023-01-04</th>\n",
       "      <td>3</td>\n",
       "      <td>4</td>\n",
       "      <td>2</td>\n",
       "    </tr>\n",
       "    <tr>\n",
       "      <th>2023-01-05</th>\n",
       "      <td>4</td>\n",
       "      <td>6</td>\n",
       "      <td>2</td>\n",
       "    </tr>\n",
       "    <tr>\n",
       "      <th>2023-01-06</th>\n",
       "      <td>5</td>\n",
       "      <td>3</td>\n",
       "      <td>0</td>\n",
       "    </tr>\n",
       "    <tr>\n",
       "      <th>2023-01-07</th>\n",
       "      <td>1</td>\n",
       "      <td>0</td>\n",
       "      <td>3</td>\n",
       "    </tr>\n",
       "    <tr>\n",
       "      <th>2023-01-08</th>\n",
       "      <td>3</td>\n",
       "      <td>4</td>\n",
       "      <td>3</td>\n",
       "    </tr>\n",
       "    <tr>\n",
       "      <th>2023-01-09</th>\n",
       "      <td>2</td>\n",
       "      <td>9</td>\n",
       "      <td>6</td>\n",
       "    </tr>\n",
       "    <tr>\n",
       "      <th>2023-01-10</th>\n",
       "      <td>5</td>\n",
       "      <td>6</td>\n",
       "      <td>5</td>\n",
       "    </tr>\n",
       "    <tr>\n",
       "      <th>2023-01-11</th>\n",
       "      <td>2</td>\n",
       "      <td>5</td>\n",
       "      <td>1</td>\n",
       "    </tr>\n",
       "    <tr>\n",
       "      <th>2023-01-12</th>\n",
       "      <td>1</td>\n",
       "      <td>3</td>\n",
       "      <td>1</td>\n",
       "    </tr>\n",
       "    <tr>\n",
       "      <th>2023-01-13</th>\n",
       "      <td>3</td>\n",
       "      <td>8</td>\n",
       "      <td>3</td>\n",
       "    </tr>\n",
       "    <tr>\n",
       "      <th>2023-01-14</th>\n",
       "      <td>4</td>\n",
       "      <td>3</td>\n",
       "      <td>1</td>\n",
       "    </tr>\n",
       "    <tr>\n",
       "      <th>2023-01-15</th>\n",
       "      <td>4</td>\n",
       "      <td>2</td>\n",
       "      <td>2</td>\n",
       "    </tr>\n",
       "    <tr>\n",
       "      <th>2023-01-16</th>\n",
       "      <td>3</td>\n",
       "      <td>4</td>\n",
       "      <td>2</td>\n",
       "    </tr>\n",
       "    <tr>\n",
       "      <th>2023-01-17</th>\n",
       "      <td>2</td>\n",
       "      <td>5</td>\n",
       "      <td>3</td>\n",
       "    </tr>\n",
       "    <tr>\n",
       "      <th>2023-01-18</th>\n",
       "      <td>2</td>\n",
       "      <td>3</td>\n",
       "      <td>0</td>\n",
       "    </tr>\n",
       "    <tr>\n",
       "      <th>2023-01-19</th>\n",
       "      <td>1</td>\n",
       "      <td>2</td>\n",
       "      <td>3</td>\n",
       "    </tr>\n",
       "    <tr>\n",
       "      <th>2023-01-20</th>\n",
       "      <td>4</td>\n",
       "      <td>1</td>\n",
       "      <td>1</td>\n",
       "    </tr>\n",
       "    <tr>\n",
       "      <th>2023-01-21</th>\n",
       "      <td>3</td>\n",
       "      <td>1</td>\n",
       "      <td>4</td>\n",
       "    </tr>\n",
       "    <tr>\n",
       "      <th>2023-01-22</th>\n",
       "      <td>1</td>\n",
       "      <td>5</td>\n",
       "      <td>1</td>\n",
       "    </tr>\n",
       "    <tr>\n",
       "      <th>2023-01-23</th>\n",
       "      <td>6</td>\n",
       "      <td>4</td>\n",
       "      <td>4</td>\n",
       "    </tr>\n",
       "    <tr>\n",
       "      <th>2023-01-24</th>\n",
       "      <td>2</td>\n",
       "      <td>6</td>\n",
       "      <td>3</td>\n",
       "    </tr>\n",
       "    <tr>\n",
       "      <th>2023-01-25</th>\n",
       "      <td>2</td>\n",
       "      <td>1</td>\n",
       "      <td>2</td>\n",
       "    </tr>\n",
       "    <tr>\n",
       "      <th>2023-01-26</th>\n",
       "      <td>1</td>\n",
       "      <td>6</td>\n",
       "      <td>0</td>\n",
       "    </tr>\n",
       "    <tr>\n",
       "      <th>2023-01-27</th>\n",
       "      <td>1</td>\n",
       "      <td>6</td>\n",
       "      <td>3</td>\n",
       "    </tr>\n",
       "    <tr>\n",
       "      <th>2023-01-28</th>\n",
       "      <td>3</td>\n",
       "      <td>3</td>\n",
       "      <td>0</td>\n",
       "    </tr>\n",
       "    <tr>\n",
       "      <th>2023-01-29</th>\n",
       "      <td>3</td>\n",
       "      <td>5</td>\n",
       "      <td>2</td>\n",
       "    </tr>\n",
       "    <tr>\n",
       "      <th>2023-01-30</th>\n",
       "      <td>2</td>\n",
       "      <td>3</td>\n",
       "      <td>2</td>\n",
       "    </tr>\n",
       "    <tr>\n",
       "      <th>2023-01-31</th>\n",
       "      <td>4</td>\n",
       "      <td>3</td>\n",
       "      <td>2</td>\n",
       "    </tr>\n",
       "    <tr>\n",
       "      <th>2023-02-01</th>\n",
       "      <td>4</td>\n",
       "      <td>3</td>\n",
       "      <td>1</td>\n",
       "    </tr>\n",
       "    <tr>\n",
       "      <th>2023-02-02</th>\n",
       "      <td>4</td>\n",
       "      <td>3</td>\n",
       "      <td>2</td>\n",
       "    </tr>\n",
       "    <tr>\n",
       "      <th>2023-02-03</th>\n",
       "      <td>8</td>\n",
       "      <td>5</td>\n",
       "      <td>1</td>\n",
       "    </tr>\n",
       "    <tr>\n",
       "      <th>2023-02-04</th>\n",
       "      <td>3</td>\n",
       "      <td>2</td>\n",
       "      <td>2</td>\n",
       "    </tr>\n",
       "    <tr>\n",
       "      <th>2023-02-05</th>\n",
       "      <td>1</td>\n",
       "      <td>5</td>\n",
       "      <td>1</td>\n",
       "    </tr>\n",
       "    <tr>\n",
       "      <th>2023-02-06</th>\n",
       "      <td>1</td>\n",
       "      <td>6</td>\n",
       "      <td>3</td>\n",
       "    </tr>\n",
       "    <tr>\n",
       "      <th>2023-02-07</th>\n",
       "      <td>3</td>\n",
       "      <td>5</td>\n",
       "      <td>2</td>\n",
       "    </tr>\n",
       "    <tr>\n",
       "      <th>2023-02-08</th>\n",
       "      <td>5</td>\n",
       "      <td>5</td>\n",
       "      <td>0</td>\n",
       "    </tr>\n",
       "    <tr>\n",
       "      <th>2023-02-09</th>\n",
       "      <td>9</td>\n",
       "      <td>13</td>\n",
       "      <td>8</td>\n",
       "    </tr>\n",
       "    <tr>\n",
       "      <th>2023-02-10</th>\n",
       "      <td>25</td>\n",
       "      <td>51</td>\n",
       "      <td>20</td>\n",
       "    </tr>\n",
       "  </tbody>\n",
       "</table>\n",
       "</div>"
      ],
      "text/plain": [
       "Tweetsentiment  negative  neutral  positive\n",
       "Datetime                                   \n",
       "2022-12-18             2        4         0\n",
       "2022-12-19             0        5         2\n",
       "2022-12-20             0        8         1\n",
       "2022-12-21             4        2         0\n",
       "2022-12-22             3        2         3\n",
       "2022-12-23             2        3         1\n",
       "2022-12-24             2        3         2\n",
       "2022-12-25             0        1         2\n",
       "2022-12-26             2        4         0\n",
       "2022-12-27             1        2         2\n",
       "2022-12-28             3        4         2\n",
       "2022-12-29             5        1         1\n",
       "2022-12-30             2        2         5\n",
       "2022-12-31             3        3         1\n",
       "2023-01-01             0        1         2\n",
       "2023-01-02             4        2         2\n",
       "2023-01-03             3        6         2\n",
       "2023-01-04             3        4         2\n",
       "2023-01-05             4        6         2\n",
       "2023-01-06             5        3         0\n",
       "2023-01-07             1        0         3\n",
       "2023-01-08             3        4         3\n",
       "2023-01-09             2        9         6\n",
       "2023-01-10             5        6         5\n",
       "2023-01-11             2        5         1\n",
       "2023-01-12             1        3         1\n",
       "2023-01-13             3        8         3\n",
       "2023-01-14             4        3         1\n",
       "2023-01-15             4        2         2\n",
       "2023-01-16             3        4         2\n",
       "2023-01-17             2        5         3\n",
       "2023-01-18             2        3         0\n",
       "2023-01-19             1        2         3\n",
       "2023-01-20             4        1         1\n",
       "2023-01-21             3        1         4\n",
       "2023-01-22             1        5         1\n",
       "2023-01-23             6        4         4\n",
       "2023-01-24             2        6         3\n",
       "2023-01-25             2        1         2\n",
       "2023-01-26             1        6         0\n",
       "2023-01-27             1        6         3\n",
       "2023-01-28             3        3         0\n",
       "2023-01-29             3        5         2\n",
       "2023-01-30             2        3         2\n",
       "2023-01-31             4        3         2\n",
       "2023-02-01             4        3         1\n",
       "2023-02-02             4        3         2\n",
       "2023-02-03             8        5         1\n",
       "2023-02-04             3        2         2\n",
       "2023-02-05             1        5         1\n",
       "2023-02-06             1        6         3\n",
       "2023-02-07             3        5         2\n",
       "2023-02-08             5        5         0\n",
       "2023-02-09             9       13         8\n",
       "2023-02-10            25       51        20"
      ]
     },
     "execution_count": 69,
     "metadata": {},
     "output_type": "execute_result"
    }
   ],
   "source": [
    "# Group the dataframe by date and sentiment class and count the number of tweets in each group\n",
    "tweet_counts"
   ]
  },
  {
   "cell_type": "code",
   "execution_count": 67,
   "id": "abfa937a-f035-4d38-8122-0a124110a3a9",
   "metadata": {},
   "outputs": [
    {
     "ename": "KeyError",
     "evalue": "'Datetime'",
     "output_type": "error",
     "traceback": [
      "\u001b[1;31m---------------------------------------------------------------------------\u001b[0m",
      "\u001b[1;31mKeyError\u001b[0m                                  Traceback (most recent call last)",
      "File \u001b[1;32m~\\anaconda3\\envs\\myenv2\\lib\\site-packages\\pandas\\core\\indexes\\base.py:3652\u001b[0m, in \u001b[0;36mIndex.get_loc\u001b[1;34m(self, key)\u001b[0m\n\u001b[0;32m   3651\u001b[0m \u001b[38;5;28;01mtry\u001b[39;00m:\n\u001b[1;32m-> 3652\u001b[0m     \u001b[38;5;28;01mreturn\u001b[39;00m \u001b[38;5;28;43mself\u001b[39;49m\u001b[38;5;241;43m.\u001b[39;49m\u001b[43m_engine\u001b[49m\u001b[38;5;241;43m.\u001b[39;49m\u001b[43mget_loc\u001b[49m\u001b[43m(\u001b[49m\u001b[43mcasted_key\u001b[49m\u001b[43m)\u001b[49m\n\u001b[0;32m   3653\u001b[0m \u001b[38;5;28;01mexcept\u001b[39;00m \u001b[38;5;167;01mKeyError\u001b[39;00m \u001b[38;5;28;01mas\u001b[39;00m err:\n",
      "File \u001b[1;32m~\\anaconda3\\envs\\myenv2\\lib\\site-packages\\pandas\\_libs\\index.pyx:147\u001b[0m, in \u001b[0;36mpandas._libs.index.IndexEngine.get_loc\u001b[1;34m()\u001b[0m\n",
      "File \u001b[1;32m~\\anaconda3\\envs\\myenv2\\lib\\site-packages\\pandas\\_libs\\index.pyx:176\u001b[0m, in \u001b[0;36mpandas._libs.index.IndexEngine.get_loc\u001b[1;34m()\u001b[0m\n",
      "File \u001b[1;32mpandas\\_libs\\hashtable_class_helper.pxi:7080\u001b[0m, in \u001b[0;36mpandas._libs.hashtable.PyObjectHashTable.get_item\u001b[1;34m()\u001b[0m\n",
      "File \u001b[1;32mpandas\\_libs\\hashtable_class_helper.pxi:7088\u001b[0m, in \u001b[0;36mpandas._libs.hashtable.PyObjectHashTable.get_item\u001b[1;34m()\u001b[0m\n",
      "\u001b[1;31mKeyError\u001b[0m: 'Datetime'",
      "\nThe above exception was the direct cause of the following exception:\n",
      "\u001b[1;31mKeyError\u001b[0m                                  Traceback (most recent call last)",
      "Cell \u001b[1;32mIn[67], line 2\u001b[0m\n\u001b[0;32m      1\u001b[0m \u001b[38;5;66;03m# Convert the Datetime column to a datetime data type\u001b[39;00m\n\u001b[1;32m----> 2\u001b[0m tweet_counts[\u001b[38;5;124m'\u001b[39m\u001b[38;5;124mDate\u001b[39m\u001b[38;5;124m'\u001b[39m] \u001b[38;5;241m=\u001b[39m pd\u001b[38;5;241m.\u001b[39mto_datetime(\u001b[43mtweet_counts\u001b[49m\u001b[43m[\u001b[49m\u001b[38;5;124;43m'\u001b[39;49m\u001b[38;5;124;43mDatetime\u001b[39;49m\u001b[38;5;124;43m'\u001b[39;49m\u001b[43m]\u001b[49m, \u001b[38;5;28mformat\u001b[39m\u001b[38;5;241m=\u001b[39m\u001b[38;5;124m'\u001b[39m\u001b[38;5;132;01m%d\u001b[39;00m\u001b[38;5;124m-\u001b[39m\u001b[38;5;124m%\u001b[39m\u001b[38;5;124mm-\u001b[39m\u001b[38;5;124m%\u001b[39m\u001b[38;5;124mY\u001b[39m\u001b[38;5;124m'\u001b[39m)\n",
      "File \u001b[1;32m~\\anaconda3\\envs\\myenv2\\lib\\site-packages\\pandas\\core\\frame.py:3760\u001b[0m, in \u001b[0;36mDataFrame.__getitem__\u001b[1;34m(self, key)\u001b[0m\n\u001b[0;32m   3758\u001b[0m \u001b[38;5;28;01mif\u001b[39;00m \u001b[38;5;28mself\u001b[39m\u001b[38;5;241m.\u001b[39mcolumns\u001b[38;5;241m.\u001b[39mnlevels \u001b[38;5;241m>\u001b[39m \u001b[38;5;241m1\u001b[39m:\n\u001b[0;32m   3759\u001b[0m     \u001b[38;5;28;01mreturn\u001b[39;00m \u001b[38;5;28mself\u001b[39m\u001b[38;5;241m.\u001b[39m_getitem_multilevel(key)\n\u001b[1;32m-> 3760\u001b[0m indexer \u001b[38;5;241m=\u001b[39m \u001b[38;5;28;43mself\u001b[39;49m\u001b[38;5;241;43m.\u001b[39;49m\u001b[43mcolumns\u001b[49m\u001b[38;5;241;43m.\u001b[39;49m\u001b[43mget_loc\u001b[49m\u001b[43m(\u001b[49m\u001b[43mkey\u001b[49m\u001b[43m)\u001b[49m\n\u001b[0;32m   3761\u001b[0m \u001b[38;5;28;01mif\u001b[39;00m is_integer(indexer):\n\u001b[0;32m   3762\u001b[0m     indexer \u001b[38;5;241m=\u001b[39m [indexer]\n",
      "File \u001b[1;32m~\\anaconda3\\envs\\myenv2\\lib\\site-packages\\pandas\\core\\indexes\\base.py:3654\u001b[0m, in \u001b[0;36mIndex.get_loc\u001b[1;34m(self, key)\u001b[0m\n\u001b[0;32m   3652\u001b[0m     \u001b[38;5;28;01mreturn\u001b[39;00m \u001b[38;5;28mself\u001b[39m\u001b[38;5;241m.\u001b[39m_engine\u001b[38;5;241m.\u001b[39mget_loc(casted_key)\n\u001b[0;32m   3653\u001b[0m \u001b[38;5;28;01mexcept\u001b[39;00m \u001b[38;5;167;01mKeyError\u001b[39;00m \u001b[38;5;28;01mas\u001b[39;00m err:\n\u001b[1;32m-> 3654\u001b[0m     \u001b[38;5;28;01mraise\u001b[39;00m \u001b[38;5;167;01mKeyError\u001b[39;00m(key) \u001b[38;5;28;01mfrom\u001b[39;00m \u001b[38;5;21;01merr\u001b[39;00m\n\u001b[0;32m   3655\u001b[0m \u001b[38;5;28;01mexcept\u001b[39;00m \u001b[38;5;167;01mTypeError\u001b[39;00m:\n\u001b[0;32m   3656\u001b[0m     \u001b[38;5;66;03m# If we have a listlike key, _check_indexing_error will raise\u001b[39;00m\n\u001b[0;32m   3657\u001b[0m     \u001b[38;5;66;03m#  InvalidIndexError. Otherwise we fall through and re-raise\u001b[39;00m\n\u001b[0;32m   3658\u001b[0m     \u001b[38;5;66;03m#  the TypeError.\u001b[39;00m\n\u001b[0;32m   3659\u001b[0m     \u001b[38;5;28mself\u001b[39m\u001b[38;5;241m.\u001b[39m_check_indexing_error(key)\n",
      "\u001b[1;31mKeyError\u001b[0m: 'Datetime'"
     ]
    }
   ],
   "source": [
    "# Convert the Datetime column to a datetime data type\n",
    "tweet_counts['Date'] = pd.to_datetime(tweet_counts['Datetime'], format='%d-%m-%Y')\n",
    "\n"
   ]
  },
  {
   "cell_type": "code",
   "execution_count": 68,
   "id": "53131fa1-836f-456a-ab7b-30aa47b2f4d1",
   "metadata": {},
   "outputs": [],
   "source": [
    "# Sort the DataFrame by the Datetime column\n",
    "tweet_counts = tweet_counts.sort_values(by='Datetime')"
   ]
  },
  {
   "cell_type": "code",
   "execution_count": 64,
   "id": "56cb5e78-6466-4016-88b0-a6a137c3f9da",
   "metadata": {},
   "outputs": [
    {
     "data": {
      "image/png": "[encoded data removed]",
      "text/plain": [
       "<Figure size 1000x600 with 1 Axes>"
      ]
     },
     "metadata": {},
     "output_type": "display_data"
    }
   ],
   "source": [
    "# Group the dataframe by date and sentiment class and count the number of tweets in each group\n",
    "tweet_counts = Filteredtweets.groupby(['Datetime', 'Tweetsentiment']).size().unstack(fill_value=0)\n",
    "\n",
    "# Plot the line graph\n",
    "fig, ax = plt.subplots(figsize=(10, 6))\n",
    "tweet_counts.plot(ax=ax)\n",
    "\n",
    "# Add titles and labels\n",
    "ax.set_title('Tweet Sentiment over Time')\n",
    "ax.set_xlabel('Date')\n",
    "ax.set_ylabel('Number of Tweets')\n",
    "ax.legend(title='Sentiment Class', loc='upper left')\n",
    "Sentimentovertime = ax.get_figure()\n",
    "Sentimentovertime.savefig('static/Sentimentovertime.png')\n"
   ]
  },
  {
   "cell_type": "code",
   "execution_count": null,
   "id": "32b4a685-3649-479c-a9a1-1c98a7082154",
   "metadata": {},
   "outputs": [],
   "source": [
    "    #Sentiment Classification Plot\n",
    "    fig, ax = plt.subplots(figsize=(8,6))\n",
    "    sns.countplot(y='Tweetsentiment', data=tweets_df, color='darkblue', ax=ax)\n",
    "    ax.set_title('Sentiment Classification')\n",
    "    # Save the figure as a variable\n",
    "    SentimentClass = ax.get_figure()\n",
    "    # save it as an image\n",
    "    SentimentClass.savefig('static/SentimentClass.png')"
   ]
  },
  {
   "cell_type": "code",
   "execution_count": null,
   "id": "58c687a3-3b7a-4e4b-bc16-631fb75dc9b1",
   "metadata": {},
   "outputs": [],
   "source": [
    "Filteredtweets2 = Filteredtweets.copy()"
   ]
  },
  {
   "cell_type": "code",
   "execution_count": null,
   "id": "5d790c17-8d66-453a-8e28-b212369a258e",
   "metadata": {},
   "outputs": [],
   "source": [
    "# convert the Datetime column to a pandas datetime object\n",
    "Filteredtweets2['Datetime'] = pd.to_datetime(Filteredtweets2['Datetime'], dayfirst=True)"
   ]
  },
  {
   "cell_type": "code",
   "execution_count": null,
   "id": "709bfcaf-7b98-465b-8b9f-2a532897a373",
   "metadata": {},
   "outputs": [],
   "source": [
    "sentiment_coding = {'positive':1, 'negative':-1, 'neutral': 0} # Define a mapping of old values to new values\n",
    "Filteredtweets2['Tweetsentiment'] = Filteredtweets2['Tweetsentiment'].replace(sentiment_coding)"
   ]
  },
  {
   "cell_type": "code",
   "execution_count": null,
   "id": "36adc783-2a47-4781-8316-5f6032b801f5",
   "metadata": {},
   "outputs": [],
   "source": [
    "Filteredtweets2.info()"
   ]
  },
  {
   "cell_type": "code",
   "execution_count": null,
   "id": "9ed0742d-7073-4e5d-af28-0f9e8ef4c4b2",
   "metadata": {},
   "outputs": [],
   "source": [
    "Filteredtweets2.head(1)"
   ]
  },
  {
   "cell_type": "code",
   "execution_count": null,
   "id": "f092c3e3-16e0-45b8-8698-d60115963b49",
   "metadata": {},
   "outputs": [],
   "source": [
    "# convert the Datetime column to a pandas datetime object\n",
    "Filteredtweets2['Datetime'] = pd.to_datetime(Filteredtweets2['Datetime'])\n",
    "\n",
    "# group by day and compute the mode of the Tweetsentiment column\n",
    "daily_mode = Filteredtweets2.groupby(pd.Grouper(key='Datetime', freq='D'))['Tweetsentiment'].apply(lambda x: x.mode())\n",
    "\n",
    "# plot the daily mode of the Tweetsentiment column\n",
    "fig, ax = plt.subplots(figsize=(10, 6))\n",
    "daily_mode.plot(ax=ax, kind='line')\n",
    "ax.set_xlabel('Date')\n",
    "ax.set_ylabel('Mode of Tweetsentiment')\n",
    "ax.set_title('Daily Mode of Tweetsentiment')\n",
    "plt.show()"
   ]
  },
  {
   "cell_type": "code",
   "execution_count": null,
   "id": "a07a79ab-adaf-4e25-8ec8-4f7a501f45a2",
   "metadata": {},
   "outputs": [],
   "source": [
    "# convert the Datetime column to a pandas datetime object\n",
    "Filteredtweets2['Datetime'] = pd.to_datetime(Filteredtweets2['Datetime'])\n",
    "\n",
    "# group by week and compute the mode of the Tweetsentiment column\n",
    "weekly_mode = Filteredtweets2.groupby(pd.Grouper(key='Datetime', freq='W'))['Tweetsentiment'].apply(lambda x: x.mean())\n",
    "\n",
    "# plot the weekly mode of the Tweetsentiment column\n",
    "fig, ax = plt.subplots(figsize=(10, 6))\n",
    "weekly_mode.plot(ax=ax, kind='line')\n",
    "ax.set_xlabel('Date')\n",
    "ax.set_ylabel('Average of Tweetsentiment')\n",
    "ax.set_title('Weekly Average of Tweetsentiment')\n",
    "plt.show()\n"
   ]
  },
  {
   "cell_type": "code",
   "execution_count": null,
   "id": "1c129119-2f2c-4da4-9ed6-0904731323b3",
   "metadata": {},
   "outputs": [],
   "source": [
    "# convert the Datetime column to a pandas datetime object\n",
    "Filteredtweets2['Datetime'] = pd.to_datetime(Filteredtweets2['Datetime'])\n",
    "\n",
    "# group by week and compute the mode of the Tweetsentiment column\n",
    "weekly_mode = Filteredtweets2.groupby(pd.Grouper(key='Datetime', freq='W'))['Tweetsentiment'].apply(lambda x: x.mean())\n",
    "\n",
    "# plot the weekly mode of the Tweetsentiment column\n",
    "fig, ax = plt.subplots(figsize=(10, 6))\n",
    "weekly_mode.plot(ax=ax, kind='line')\n",
    "ax.set_xlabel('Date')\n",
    "ax.set_ylabel('Average of Tweetsentiment')\n",
    "ax.set_title('Weekly Average of Tweetsentiment')\n",
    "ax.axhline(y=0, color='gray', linestyle='--')\n",
    "plot_WeeklyAverage = ax.get_figure()\n",
    "plt.show()\n"
   ]
  },
  {
   "cell_type": "code",
   "execution_count": null,
   "id": "f18f7c65-6681-4d56-8aca-1b9155f31f73",
   "metadata": {},
   "outputs": [],
   "source": [
    "plot_WeeklyAverage"
   ]
  },
  {
   "cell_type": "code",
   "execution_count": null,
   "id": "f1ea6356-8924-4c47-9496-2482fdc87402",
   "metadata": {},
   "outputs": [],
   "source": [
    "# Wordcloud with positive tweets\n",
    "negative_tweets = Filteredtweets['TextClean'][Filteredtweets['Tweetsentiment'] == 'negative']\n",
    "stop_words = [\"iphone\"] + list(STOPWORDS)\n",
    "negative_wordcloud = WordCloud(max_font_size=60, max_words=50, background_color=\"white\", stopwords=stop_words).generate(str(negative_tweets))\n",
    "\n",
    "# Save the figure as a variable\n",
    "fig = plt.figure()\n",
    "plt.title(\"Negative Tweets - Wordcloud\")\n",
    "plt.imshow(negative_wordcloud, interpolation=\"bilinear\")\n",
    "plt.axis(\"off\")\n",
    "\n",
    "# Display the figure using plt.show()\n",
    "plt.show()"
   ]
  },
  {
   "cell_type": "code",
   "execution_count": null,
   "id": "2f588e15-3e26-4817-b1ae-4a2e0fdb494b",
   "metadata": {},
   "outputs": [],
   "source": [
    "topic = 'Iphone'"
   ]
  },
  {
   "cell_type": "code",
   "execution_count": null,
   "id": "649d64ab-bc21-4bba-a05d-0b4826efc710",
   "metadata": {},
   "outputs": [],
   "source": [
    "# Wordcloud with Negative tweets\n",
    "NegativeWC = plt.figure()\n",
    "plt.title(\"Negative Tweets - Wordcloud\")\n",
    "plt.imshow(WordCloud(width=700, height=400,max_font_size=80, max_words=50, background_color=\"white\", stopwords=([topic.lower()] + list(STOPWORDS))).generate(str(Filteredtweets['TextClean'][Filteredtweets['Tweetsentiment'] == 'negative'])), interpolation=\"bilinear\")\n",
    "plt.axis(\"off\")\n",
    "\n",
    "# Display the figure using plt.show()\n",
    "plt.show()\n",
    "NegativeWC.savefig('static/Nwordcloud.png')\n",
    "plt.close()\n",
    "\n",
    "PositiveWC = plt.figure()\n",
    "plt.title(\"Positive Tweets - Wordcloud\")\n",
    "plt.imshow(WordCloud(width=700, height=400,max_font_size=80, max_words=50, background_color=\"white\", stopwords=([topic.lower()] + list(STOPWORDS))).generate(str(Filteredtweets['TextClean'][Filteredtweets['Tweetsentiment'] == 'positive'])), interpolation=\"bilinear\")\n",
    "plt.axis(\"off\")\n",
    "\n",
    "# Display the figure using plt.show()\n",
    "plt.show()\n",
    "PositiveWC.savefig('static/Pwordcloud.png')\n",
    "plt.close()"
   ]
  },
  {
   "cell_type": "code",
   "execution_count": null,
   "id": "210d202f-3fa6-4040-a128-3d5d6b817930",
   "metadata": {},
   "outputs": [],
   "source": [
    "NegativeWC.savefig('static/Nwordcloud.png')\n",
    "PositiveWC.savefig('static/Pwordcloud.png')"
   ]
  },
  {
   "cell_type": "code",
   "execution_count": null,
   "id": "01745f1e-d4a1-4ba3-94e9-f5accb518f79",
   "metadata": {},
   "outputs": [],
   "source": []
  },
  {
   "cell_type": "code",
   "execution_count": null,
   "id": "069e08ac-92df-4fd4-94c3-11719a3bbee1",
   "metadata": {},
   "outputs": [],
   "source": [
    "PositiveWC"
   ]
  },
  {
   "cell_type": "code",
   "execution_count": null,
   "id": "63fbb143-1325-41eb-9663-bc106ebdc237",
   "metadata": {},
   "outputs": [],
   "source": [
    "NegativeWC"
   ]
  },
  {
   "cell_type": "code",
   "execution_count": null,
   "id": "1599ccd0-6ade-4a3a-9f28-157fcf3e56d3",
   "metadata": {},
   "outputs": [],
   "source": [
    "# Wordcloud with positive tweets\n",
    "positive_tweets = Filteredtweets['TextClean'][Filteredtweets['Tweetsentiment'] == 'negative']\n",
    "stop_words = [\"iphone\"] + list(STOPWORDS)\n",
    "positive_wordcloud = WordCloud(max_font_size=60, max_words=50, background_color=\"white\", stopwords = stop_words).generate(str(positive_tweets))\n",
    "plt.figure()\n",
    "plt.title(\"Negative Tweets - Wordcloud\")\n",
    "plt.imshow(positive_wordcloud, interpolation=\"bilinear\")\n",
    "plt.axis(\"off\")\n",
    "plt.show()"
   ]
  },
  {
   "cell_type": "code",
   "execution_count": null,
   "id": "4d76c2db-3729-4175-afb3-1501fca7fec2",
   "metadata": {},
   "outputs": [],
   "source": [
    "PositiveWC = plt.figure()\n",
    "plt.title(\"Positive Tweets - Wordcloud\")\n",
    "plt.imshow(WordCloud(width=700, height=400,max_font_size=80, max_words=50, background_color=\"white\", stopwords=([topic.lower()] + list(STOPWORDS))).generate(str(Filteredtweets['TextClean'][Filteredtweets['Tweetsentiment'] == 'positive'])), interpolation=\"bilinear\")\n",
    "plt.axis(\"off\")\n",
    "\n",
    "# Display the figure using plt.show()\n",
    "plt.show()\n",
    "plt.close()"
   ]
  },
  {
   "cell_type": "code",
   "execution_count": null,
   "id": "29c1ed28-2b93-4970-b264-c415dfa4ddaf",
   "metadata": {},
   "outputs": [],
   "source": [
    "(Filteredtweets['Text'][Filteredtweets['Tweetsentiment'] == 'negative']).head()"
   ]
  },
  {
   "cell_type": "code",
   "execution_count": null,
   "id": "910314f5-57ee-4731-a707-26869d6b29cb",
   "metadata": {},
   "outputs": [],
   "source": [
    "Filteredtweets =Filteredtweets.sort_values(by=['Views'], ascending=False)"
   ]
  },
  {
   "cell_type": "code",
   "execution_count": null,
   "id": "378b6218-3676-42c4-a963-cb0208cee1cd",
   "metadata": {},
   "outputs": [],
   "source": [
    "Filteredtweets[Filteredtweets['Tweetsentiment'] == 'negative'].sort_values(by=['Views'], ascending=False).head(10)\n"
   ]
  },
  {
   "cell_type": "code",
   "execution_count": null,
   "id": "10c6bdfa-5681-4b7a-978e-c9ed33b2cc38",
   "metadata": {},
   "outputs": [],
   "source": [
    "top_negative_tweets = Filteredtweets.loc[Filteredtweets['Tweetsentiment'] == 'negative'].sort_values(by=['Views'], ascending=False).loc[:, ['Datetime', 'Text', 'Views']].head(10)\n",
    "top_negative_tweets"
   ]
  },
  {
   "cell_type": "code",
   "execution_count": null,
   "id": "a0c0578c-5d89-4a3f-8b31-cd3e877ddfb5",
   "metadata": {},
   "outputs": [],
   "source": [
    "top_positive_tweets = Filteredtweets.loc[Filteredtweets['Tweetsentiment'] == 'positive'].sort_values(by=['Views'], ascending=False).loc[:, ['Datetime', 'Text', 'Views']].head(10)\n",
    "top_positive_tweets"
   ]
  },
  {
   "cell_type": "code",
   "execution_count": null,
   "id": "8a79a282-907c-4c60-9e22-36f4aaffbf60",
   "metadata": {},
   "outputs": [],
   "source": [
    "top_negative_tweets"
   ]
  },
  {
   "cell_type": "code",
   "execution_count": 33,
   "id": "1b340303-0d22-4c49-af6c-72c935fe2052",
   "metadata": {},
   "outputs": [],
   "source": [
    "location = 'london'"
   ]
  },
  {
   "cell_type": "code",
   "execution_count": 34,
   "id": "9449a78d-677f-46f0-9eb8-09e784f85573",
   "metadata": {},
   "outputs": [],
   "source": [
    "location = location.title()"
   ]
  },
  {
   "cell_type": "code",
   "execution_count": 35,
   "id": "2d5b6dbf-95e7-42dd-8160-3cb070204a18",
   "metadata": {},
   "outputs": [
    {
     "data": {
      "text/plain": [
       "'London'"
      ]
     },
     "execution_count": 35,
     "metadata": {},
     "output_type": "execute_result"
    }
   ],
   "source": [
    "location"
   ]
  },
  {
   "cell_type": "code",
   "execution_count": 2,
   "id": "041af3d5-3128-4411-a1d6-701a688c10a4",
   "metadata": {},
   "outputs": [
    {
     "ename": "SyntaxError",
     "evalue": "invalid syntax (2547846997.py, line 1)",
     "output_type": "error",
     "traceback": [
      "\u001b[1;36m  Cell \u001b[1;32mIn[2], line 1\u001b[1;36m\u001b[0m\n\u001b[1;33m    snscrape twitter-user textfiles\u001b[0m\n\u001b[1;37m             ^\u001b[0m\n\u001b[1;31mSyntaxError\u001b[0m\u001b[1;31m:\u001b[0m invalid syntax\n"
     ]
    }
   ],
   "source": [
    "snscrape twitter-user textfiles"
   ]
  },
  {
   "cell_type": "code",
   "execution_count": 3,
   "id": "eff98792-c726-48f6-86e7-64b1dc396bea",
   "metadata": {},
   "outputs": [
    {
     "ename": "SyntaxError",
     "evalue": "invalid syntax (3556694035.py, line 1)",
     "output_type": "error",
     "traceback": [
      "\u001b[1;36m  Cell \u001b[1;32mIn[3], line 1\u001b[1;36m\u001b[0m\n\u001b[1;33m    txt = snscrape twitter-user textfiles\u001b[0m\n\u001b[1;37m                   ^\u001b[0m\n\u001b[1;31mSyntaxError\u001b[0m\u001b[1;31m:\u001b[0m invalid syntax\n"
     ]
    }
   ],
   "source": [
    "txt = snscrape twitter-user textfiles"
   ]
  },
  {
   "cell_type": "code",
   "execution_count": 4,
   "id": "226bf7d4-229d-48ea-8162-449ce1667314",
   "metadata": {},
   "outputs": [
    {
     "ename": "SyntaxError",
     "evalue": "invalid syntax (706509363.py, line 1)",
     "output_type": "error",
     "traceback": [
      "\u001b[1;36m  Cell \u001b[1;32mIn[4], line 1\u001b[1;36m\u001b[0m\n\u001b[1;33m    txt = snscrape --max-results 100 twitter-hashtag archiveteam\u001b[0m\n\u001b[1;37m                                 ^\u001b[0m\n\u001b[1;31mSyntaxError\u001b[0m\u001b[1;31m:\u001b[0m invalid syntax\n"
     ]
    }
   ],
   "source": [
    "txt = snscrape --max-results 100 twitter-hashtag archiveteam"
   ]
  },
  {
   "cell_type": "code",
   "execution_count": null,
   "id": "355f7e39-3031-4ba6-939b-a691abcfb332",
   "metadata": {},
   "outputs": [],
   "source": []
  }
 ],
 "metadata": {
  "kernelspec": {
   "display_name": "Python 3 (ipykernel)",
   "language": "python",
   "name": "python3"
  },
  "language_info": {
   "codemirror_mode": {
    "name": "ipython",
    "version": 3
   },
   "file_extension": ".py",
   "mimetype": "text/x-python",
   "name": "python",
   "nbconvert_exporter": "python",
   "pygments_lexer": "ipython3",
   "version": "3.9.16"
  }
 },
 "nbformat": 4,
 "nbformat_minor": 5
}
