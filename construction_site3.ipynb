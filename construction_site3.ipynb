{
 "cells": [
  {
   "cell_type": "code",
   "execution_count": 1,
   "id": "152da24f-dcd2-4c25-be95-ce1bfa028522",
   "metadata": {},
   "outputs": [
    {
     "name": "stdout",
     "output_type": "stream",
     "text": [
      "Note: you may need to restart the kernel to use updated packages.\n"
     ]
    }
   ],
   "source": [
    "pip install -q snscrape transformers matplotlib wordcloud seaborn scikit-plot contractions nltk regex tweetnlp"
   ]
  },
  {
   "cell_type": "code",
   "execution_count": 2,
   "id": "0f54957b-da1c-410b-b8bf-8ba58f12d624",
   "metadata": {},
   "outputs": [
    {
     "name": "stderr",
     "output_type": "stream",
     "text": [
      "C:\\Users\\temit\\anaconda3\\envs\\myenv\\lib\\site-packages\\tqdm\\auto.py:21: TqdmWarning: IProgress not found. Please update jupyter and ipywidgets. See https://ipywidgets.readthedocs.io/en/stable/user_install.html\n",
      "  from .autonotebook import tqdm as notebook_tqdm\n",
      "[nltk_data] Downloading package punkt to\n",
      "[nltk_data]     C:\\Users\\temit\\AppData\\Roaming\\nltk_data...\n",
      "[nltk_data]   Package punkt is already up-to-date!\n",
      "[nltk_data] Downloading package stopwords to\n",
      "[nltk_data]     C:\\Users\\temit\\AppData\\Roaming\\nltk_data...\n",
      "[nltk_data]   Package stopwords is already up-to-date!\n"
     ]
    }
   ],
   "source": [
    "# Importing Libraries\n",
    "import pandas as pd\n",
    "import numpy as np\n",
    "import tweepy\n",
    "import warnings\n",
    "import snscrape.modules.twitter as sntwitter\n",
    "import requests\n",
    "import tensorflow as tf\n",
    "from tensorflow.keras.preprocessing.text import Tokenizer\n",
    "from tensorflow.keras.preprocessing.sequence import pad_sequences\n",
    "import tweetnlp\n",
    "\n",
    "import seaborn as sns\n",
    "import matplotlib.pyplot as plt\n",
    "import scikitplot as skplt\n",
    "import seaborn as sns\n",
    "import contractions\n",
    "import re\n",
    "import time\n",
    "from joblib import Parallel, delayed\n",
    "import nltk\n",
    "from nltk.corpus import stopwords\n",
    "nltk.download('punkt')\n",
    "nltk.download('stopwords')\n",
    "from nltk.tokenize import word_tokenize"
   ]
  },
  {
   "cell_type": "code",
   "execution_count": 3,
   "id": "7bb45753-edcb-4f87-adee-28ac65bf2416",
   "metadata": {},
   "outputs": [],
   "source": [
    "TExtract = pd.read_csv('TwitterExtract.csv',encoding= 'MacRoman')"
   ]
  },
  {
   "cell_type": "code",
   "execution_count": 4,
   "id": "106e01c4-1588-42fc-8830-f72887a2d022",
   "metadata": {},
   "outputs": [
    {
     "data": {
      "text/html": [
       "<div>\n",
       "<style scoped>\n",
       "    .dataframe tbody tr th:only-of-type {\n",
       "        vertical-align: middle;\n",
       "    }\n",
       "\n",
       "    .dataframe tbody tr th {\n",
       "        vertical-align: top;\n",
       "    }\n",
       "\n",
       "    .dataframe thead th {\n",
       "        text-align: right;\n",
       "    }\n",
       "</style>\n",
       "<table border=\"1\" class=\"dataframe\">\n",
       "  <thead>\n",
       "    <tr style=\"text-align: right;\">\n",
       "      <th></th>\n",
       "      <th>Datetime</th>\n",
       "      <th>Text</th>\n",
       "      <th>Username</th>\n",
       "      <th>Retweet</th>\n",
       "      <th>Views</th>\n",
       "      <th>Search Criteria</th>\n",
       "      <th>Positive (P), Negative(N), Both(B), Neutral(U)</th>\n",
       "    </tr>\n",
       "  </thead>\n",
       "  <tbody>\n",
       "    <tr>\n",
       "      <th>0</th>\n",
       "      <td>10/02/2023</td>\n",
       "      <td>Say What You Want But This Harry Potter Is The...</td>\n",
       "      <td>NaN</td>\n",
       "      <td>1</td>\n",
       "      <td>967</td>\n",
       "      <td>Harry Potter</td>\n",
       "      <td>P</td>\n",
       "    </tr>\n",
       "    <tr>\n",
       "      <th>1</th>\n",
       "      <td>01/02/2023</td>\n",
       "      <td>Where?S The Edd Bank Of America BeyoncÈ Presale?</td>\n",
       "      <td>AmyScarlata</td>\n",
       "      <td>1</td>\n",
       "      <td>212</td>\n",
       "      <td>Bank Of America</td>\n",
       "      <td>P</td>\n",
       "    </tr>\n",
       "    <tr>\n",
       "      <th>2</th>\n",
       "      <td>26/01/2023</td>\n",
       "      <td>@Besoccerfr Pep Guardiola And Pulisitch</td>\n",
       "      <td>Khaled_Dz_2006</td>\n",
       "      <td>0</td>\n",
       "      <td>19</td>\n",
       "      <td>Pep Guardiola</td>\n",
       "      <td>P</td>\n",
       "    </tr>\n",
       "    <tr>\n",
       "      <th>3</th>\n",
       "      <td>10/02/2023</td>\n",
       "      <td>@Bluedinifree @Marshablackburn He Was Getting ...</td>\n",
       "      <td>JamesAR1116</td>\n",
       "      <td>0</td>\n",
       "      <td>17</td>\n",
       "      <td>Netflix</td>\n",
       "      <td>U</td>\n",
       "    </tr>\n",
       "    <tr>\n",
       "      <th>4</th>\n",
       "      <td>10/02/2023</td>\n",
       "      <td>@Wizard_Coder @Bearbulltraders I Trade Perpetu...</td>\n",
       "      <td>RecoveryTraders</td>\n",
       "      <td>0</td>\n",
       "      <td>37</td>\n",
       "      <td>Ftx</td>\n",
       "      <td>U</td>\n",
       "    </tr>\n",
       "  </tbody>\n",
       "</table>\n",
       "</div>"
      ],
      "text/plain": [
       "     Datetime                                               Text  \\\n",
       "0  10/02/2023  Say What You Want But This Harry Potter Is The...   \n",
       "1  01/02/2023   Where?S The Edd Bank Of America BeyoncÈ Presale?   \n",
       "2  26/01/2023            @Besoccerfr Pep Guardiola And Pulisitch   \n",
       "3  10/02/2023  @Bluedinifree @Marshablackburn He Was Getting ...   \n",
       "4  10/02/2023  @Wizard_Coder @Bearbulltraders I Trade Perpetu...   \n",
       "\n",
       "          Username  Retweet  Views  Search Criteria  \\\n",
       "0              NaN        1    967     Harry Potter   \n",
       "1      AmyScarlata        1    212  Bank Of America   \n",
       "2   Khaled_Dz_2006        0     19    Pep Guardiola   \n",
       "3      JamesAR1116        0     17          Netflix   \n",
       "4  RecoveryTraders        0     37              Ftx   \n",
       "\n",
       "  Positive (P), Negative(N), Both(B), Neutral(U)  \n",
       "0                                              P  \n",
       "1                                              P  \n",
       "2                                              P  \n",
       "3                                              U  \n",
       "4                                              U  "
      ]
     },
     "execution_count": 4,
     "metadata": {},
     "output_type": "execute_result"
    }
   ],
   "source": [
    "TExtract.head()"
   ]
  },
  {
   "cell_type": "code",
   "execution_count": 5,
   "id": "311d970d-37da-4ba0-a1f3-9445d04c7e11",
   "metadata": {},
   "outputs": [],
   "source": [
    "TExtract.rename(columns={\"Positive (P), Negative(N), Both(B), Neutral(U)\": \"Sentiment\"}, inplace=True)\n",
    "\n",
    "sentiment_mapping = {'P': 'positive', 'N': 'negative', 'U': 'neutral', 'B': 'both'} # Define a mapping of old values to new values\n",
    "TExtract['Sentiment'] = TExtract['Sentiment'].replace(sentiment_mapping)"
   ]
  },
  {
   "cell_type": "code",
   "execution_count": 6,
   "id": "979cd57f-b205-425a-9f85-429a6f75c26b",
   "metadata": {},
   "outputs": [],
   "source": [
    "valid_sentiments = ['positive', 'negative', 'neutral'] # Define a list of valid sentiments\n",
    "TExtract = TExtract[TExtract['Sentiment'].isin(valid_sentiments)]"
   ]
  },
  {
   "cell_type": "code",
   "execution_count": 7,
   "id": "c95d5cfb-224b-4f2f-899e-757452cad9e8",
   "metadata": {},
   "outputs": [
    {
     "name": "stdout",
     "output_type": "stream",
     "text": [
      "<class 'pandas.core.frame.DataFrame'>\n",
      "Int64Index: 27279 entries, 0 to 29998\n",
      "Data columns (total 7 columns):\n",
      " #   Column           Non-Null Count  Dtype \n",
      "---  ------           --------------  ----- \n",
      " 0   Datetime         27279 non-null  object\n",
      " 1   Text             27279 non-null  object\n",
      " 2   Username         24536 non-null  object\n",
      " 3   Retweet          27279 non-null  int64 \n",
      " 4   Views            27279 non-null  int64 \n",
      " 5   Search Criteria  27279 non-null  object\n",
      " 6   Sentiment        27279 non-null  object\n",
      "dtypes: int64(2), object(5)\n",
      "memory usage: 1.7+ MB\n"
     ]
    }
   ],
   "source": [
    "TExtract.info()"
   ]
  },
  {
   "cell_type": "code",
   "execution_count": 8,
   "id": "8f6e5072-dd14-4317-9f29-d1ff3ba5e82a",
   "metadata": {},
   "outputs": [
    {
     "name": "stdout",
     "output_type": "stream",
     "text": [
      "============================================\n",
      "Search Criteria breakdown\n",
      "============================================\n"
     ]
    },
    {
     "data": {
      "text/plain": [
       "Harry Potter    745\n",
       "Adele           708\n",
       "Netflix         697\n",
       "Lebron James    690\n",
       "Amouranth       670\n",
       "Liz Truss       655\n",
       "Primark         646\n",
       "Coca-cola       622\n",
       "Amazon          612\n",
       "Andrew Tate     603\n",
       "Wayfair         594\n",
       "Walmart         582\n",
       "Chelsea         575\n",
       "Iphone          567\n",
       "Tesco           563\n",
       "Arsenal         560\n",
       "Paypal          559\n",
       "Chris Brown     539\n",
       "Burna Boy       535\n",
       "Asda            522\n",
       "Name: Search Criteria, dtype: int64"
      ]
     },
     "execution_count": 8,
     "metadata": {},
     "output_type": "execute_result"
    }
   ],
   "source": [
    "print ('============================================')\n",
    "print (\"Search Criteria breakdown\")\n",
    "print ('============================================')\n",
    "TExtract['Search Criteria'].value_counts().head(20)"
   ]
  },
  {
   "cell_type": "code",
   "execution_count": 9,
   "id": "63aa7b78-d870-44ea-bcff-edd31178308c",
   "metadata": {},
   "outputs": [],
   "source": [
    "TExtract['TextClean'] = TExtract['Text']"
   ]
  },
  {
   "cell_type": "code",
   "execution_count": 10,
   "id": "f68b9037-b11b-43fe-83cf-f9546c1a2745",
   "metadata": {},
   "outputs": [],
   "source": [
    "Filteredtweets = TExtract[TExtract['Search Criteria'] == 'Iphone'].copy()"
   ]
  },
  {
   "cell_type": "code",
   "execution_count": 11,
   "id": "80b3a56c-0213-4f0f-bb7a-a7cdf0dec1d7",
   "metadata": {},
   "outputs": [],
   "source": [
    "Filteredtweets.reset_index(inplace=True)"
   ]
  },
  {
   "cell_type": "code",
   "execution_count": 12,
   "id": "feb13732-47ec-49ed-bc91-30e16e85874f",
   "metadata": {},
   "outputs": [
    {
     "data": {
      "text/html": [
       "<div>\n",
       "<style scoped>\n",
       "    .dataframe tbody tr th:only-of-type {\n",
       "        vertical-align: middle;\n",
       "    }\n",
       "\n",
       "    .dataframe tbody tr th {\n",
       "        vertical-align: top;\n",
       "    }\n",
       "\n",
       "    .dataframe thead th {\n",
       "        text-align: right;\n",
       "    }\n",
       "</style>\n",
       "<table border=\"1\" class=\"dataframe\">\n",
       "  <thead>\n",
       "    <tr style=\"text-align: right;\">\n",
       "      <th></th>\n",
       "      <th>index</th>\n",
       "      <th>Datetime</th>\n",
       "      <th>Text</th>\n",
       "      <th>Username</th>\n",
       "      <th>Retweet</th>\n",
       "      <th>Views</th>\n",
       "      <th>Search Criteria</th>\n",
       "      <th>Sentiment</th>\n",
       "      <th>TextClean</th>\n",
       "    </tr>\n",
       "  </thead>\n",
       "  <tbody>\n",
       "    <tr>\n",
       "      <th>0</th>\n",
       "      <td>5</td>\n",
       "      <td>07/02/2023</td>\n",
       "      <td>? Tagged #Hashtag,#Ciberamenazas,#Ciberconsejo...</td>\n",
       "      <td>rafemi</td>\n",
       "      <td>0</td>\n",
       "      <td>27</td>\n",
       "      <td>Iphone</td>\n",
       "      <td>neutral</td>\n",
       "      <td>? Tagged #Hashtag,#Ciberamenazas,#Ciberconsejo...</td>\n",
       "    </tr>\n",
       "    <tr>\n",
       "      <th>1</th>\n",
       "      <td>19</td>\n",
       "      <td>28/12/2022</td>\n",
       "      <td>Hey @Apple , With All Of These System Updates,...</td>\n",
       "      <td>MrAveryBrown</td>\n",
       "      <td>0</td>\n",
       "      <td>77</td>\n",
       "      <td>Iphone</td>\n",
       "      <td>positive</td>\n",
       "      <td>Hey @Apple , With All Of These System Updates,...</td>\n",
       "    </tr>\n",
       "    <tr>\n",
       "      <th>2</th>\n",
       "      <td>65</td>\n",
       "      <td>26/01/2023</td>\n",
       "      <td>Can I Ask All You Apple Product Users: Why Wou...</td>\n",
       "      <td>cunderw12</td>\n",
       "      <td>0</td>\n",
       "      <td>147</td>\n",
       "      <td>Iphone</td>\n",
       "      <td>positive</td>\n",
       "      <td>Can I Ask All You Apple Product Users: Why Wou...</td>\n",
       "    </tr>\n",
       "    <tr>\n",
       "      <th>3</th>\n",
       "      <td>237</td>\n",
       "      <td>31/01/2023</td>\n",
       "      <td>@Apple Please Fix The Voice Notes Not Being Ab...</td>\n",
       "      <td>NandyVersatil</td>\n",
       "      <td>0</td>\n",
       "      <td>30</td>\n",
       "      <td>Iphone</td>\n",
       "      <td>positive</td>\n",
       "      <td>@Apple Please Fix The Voice Notes Not Being Ab...</td>\n",
       "    </tr>\n",
       "    <tr>\n",
       "      <th>4</th>\n",
       "      <td>248</td>\n",
       "      <td>24/12/2022</td>\n",
       "      <td>Rip #Twitterforiphone And #Twitterforandroid #...</td>\n",
       "      <td>ninaadsadaphal</td>\n",
       "      <td>0</td>\n",
       "      <td>18</td>\n",
       "      <td>Iphone</td>\n",
       "      <td>positive</td>\n",
       "      <td>Rip #Twitterforiphone And #Twitterforandroid #...</td>\n",
       "    </tr>\n",
       "  </tbody>\n",
       "</table>\n",
       "</div>"
      ],
      "text/plain": [
       "   index    Datetime                                               Text  \\\n",
       "0      5  07/02/2023  ? Tagged #Hashtag,#Ciberamenazas,#Ciberconsejo...   \n",
       "1     19  28/12/2022  Hey @Apple , With All Of These System Updates,...   \n",
       "2     65  26/01/2023  Can I Ask All You Apple Product Users: Why Wou...   \n",
       "3    237  31/01/2023  @Apple Please Fix The Voice Notes Not Being Ab...   \n",
       "4    248  24/12/2022  Rip #Twitterforiphone And #Twitterforandroid #...   \n",
       "\n",
       "         Username  Retweet  Views Search Criteria Sentiment  \\\n",
       "0          rafemi        0     27          Iphone   neutral   \n",
       "1    MrAveryBrown        0     77          Iphone  positive   \n",
       "2       cunderw12        0    147          Iphone  positive   \n",
       "3   NandyVersatil        0     30          Iphone  positive   \n",
       "4  ninaadsadaphal        0     18          Iphone  positive   \n",
       "\n",
       "                                           TextClean  \n",
       "0  ? Tagged #Hashtag,#Ciberamenazas,#Ciberconsejo...  \n",
       "1  Hey @Apple , With All Of These System Updates,...  \n",
       "2  Can I Ask All You Apple Product Users: Why Wou...  \n",
       "3  @Apple Please Fix The Voice Notes Not Being Ab...  \n",
       "4  Rip #Twitterforiphone And #Twitterforandroid #...  "
      ]
     },
     "execution_count": 12,
     "metadata": {},
     "output_type": "execute_result"
    }
   ],
   "source": [
    "Filteredtweets.head()"
   ]
  },
  {
   "cell_type": "code",
   "execution_count": 26,
   "id": "e02266f9-5dcc-4d45-afb4-433292f49eb2",
   "metadata": {},
   "outputs": [
    {
     "data": {
      "text/plain": [
       "Text(0.5, 1.0, 'Manual Sentiment Classification')"
      ]
     },
     "execution_count": 26,
     "metadata": {},
     "output_type": "execute_result"
    },
    {
     "data": {
      "image/png": "[encoded data removed]",
      "text/plain": [
       "<Figure size 640x480 with 1 Axes>"
      ]
     },
     "metadata": {},
     "output_type": "display_data"
    }
   ],
   "source": [
    "sns.countplot(y='Sentiment', data=Filteredtweets, color = 'darkblue')\n",
    "plt.title('Manual Sentiment Classification')\n",
    "plt.show()"
   ]
  },
  {
   "cell_type": "code",
   "execution_count": 14,
   "id": "82deb11c-40e3-4896-bbf5-c66a9604cc55",
   "metadata": {},
   "outputs": [],
   "source": [
    "# remove '\\n', lowercase all letters\n",
    "Filteredtweets['TextClean'] = Filteredtweets['TextClean'].apply(lambda x: x.replace('\\n',' ').lower())\n",
    "\n",
    "# expand contractions\n",
    "Filteredtweets['TextClean'] = Filteredtweets['TextClean'].apply(lambda x: contractions.fix(x))\n",
    "\n",
    "# remove punctuations\n",
    "Filteredtweets['TextClean'] = Filteredtweets['TextClean'].apply(lambda x: re.sub(r'[^\\w\\s]','',x))\n",
    "\n",
    "#remove HTML tags\n",
    "Filteredtweets['TextClean'] = Filteredtweets['TextClean'].apply(lambda x: re.sub(re.compile('<.*?>'), '', x))\n",
    "\n",
    "#remove consecutive characters that occur three or more times in a row, and replace them with just two occurrences of that character.\n",
    "Filteredtweets['TextClean'] = Filteredtweets['TextClean'].apply(lambda x: re.compile(r\"(.)\\1{2,}\").sub(r\"\\1\\1\", x))\n",
    "\n",
    "# Removing extra spaces\n",
    "Filteredtweets['TextClean'] = Filteredtweets['TextClean'].apply(lambda x: re.sub(' +',' ',x))\n",
    "\n",
    "# Removing stop words\n",
    "stop_words = set(stopwords.words('english'))\n",
    "Filteredtweets['TextClean'] = Filteredtweets['TextClean'].apply(lambda x: ' '.join([word for word in x.split() if word not in stop_words]))\n",
    "\n",
    "# Tokenize the text data using NLTK\n",
    "# Filteredtweets['TextClean'] = Filteredtweets['TextClean'].apply(lambda x: word_tokenize(x))"
   ]
  },
  {
   "cell_type": "code",
   "execution_count": 15,
   "id": "f5a23676-daa3-4606-83af-ab2c047fb48e",
   "metadata": {},
   "outputs": [
    {
     "data": {
      "text/html": [
       "<div>\n",
       "<style scoped>\n",
       "    .dataframe tbody tr th:only-of-type {\n",
       "        vertical-align: middle;\n",
       "    }\n",
       "\n",
       "    .dataframe tbody tr th {\n",
       "        vertical-align: top;\n",
       "    }\n",
       "\n",
       "    .dataframe thead th {\n",
       "        text-align: right;\n",
       "    }\n",
       "</style>\n",
       "<table border=\"1\" class=\"dataframe\">\n",
       "  <thead>\n",
       "    <tr style=\"text-align: right;\">\n",
       "      <th></th>\n",
       "      <th>Text</th>\n",
       "      <th>TextClean</th>\n",
       "    </tr>\n",
       "  </thead>\n",
       "  <tbody>\n",
       "    <tr>\n",
       "      <th>0</th>\n",
       "      <td>? Tagged #Hashtag,#Ciberamenazas,#Ciberconsejo...</td>\n",
       "      <td>tagged hashtagciberamenazasciberconsejoscibere...</td>\n",
       "    </tr>\n",
       "    <tr>\n",
       "      <th>1</th>\n",
       "      <td>Hey @Apple , With All Of These System Updates,...</td>\n",
       "      <td>hey apple system updates need figure way us re...</td>\n",
       "    </tr>\n",
       "    <tr>\n",
       "      <th>2</th>\n",
       "      <td>Can I Ask All You Apple Product Users: Why Wou...</td>\n",
       "      <td>ask apple product users would buy airpods goin...</td>\n",
       "    </tr>\n",
       "    <tr>\n",
       "      <th>3</th>\n",
       "      <td>@Apple Please Fix The Voice Notes Not Being Ab...</td>\n",
       "      <td>apple please fix voice notes able play backgro...</td>\n",
       "    </tr>\n",
       "    <tr>\n",
       "      <th>4</th>\n",
       "      <td>Rip #Twitterforiphone And #Twitterforandroid #...</td>\n",
       "      <td>rip twitterforiphone twitterforandroid twitter...</td>\n",
       "    </tr>\n",
       "    <tr>\n",
       "      <th>...</th>\n",
       "      <td>...</td>\n",
       "      <td>...</td>\n",
       "    </tr>\n",
       "    <tr>\n",
       "      <th>562</th>\n",
       "      <td>@Velcocinemas Last Time License This Time #Iph...</td>\n",
       "      <td>velcocinemas last time license time iphone hug...</td>\n",
       "    </tr>\n",
       "    <tr>\n",
       "      <th>563</th>\n",
       "      <td>1/ It's So Unfortunate That Ftx One Of The Wor...</td>\n",
       "      <td>1 unfortunate ftx one world largest cryptocurr...</td>\n",
       "    </tr>\n",
       "    <tr>\n",
       "      <th>564</th>\n",
       "      <td>Today, I Changed My #Iphone Apps Settings. 1. ...</td>\n",
       "      <td>today changed iphone apps settings 1 apple mai...</td>\n",
       "    </tr>\n",
       "    <tr>\n",
       "      <th>565</th>\n",
       "      <td>#Iphone Chargers Should Be Called Apple Juice</td>\n",
       "      <td>iphone chargers called apple juice</td>\n",
       "    </tr>\n",
       "    <tr>\n",
       "      <th>566</th>\n",
       "      <td>@Kodak #35mm #Film Is So Pricey, I Can?T Affor...</td>\n",
       "      <td>kodak 35mm film pricey cant afford use even va...</td>\n",
       "    </tr>\n",
       "  </tbody>\n",
       "</table>\n",
       "<p>567 rows × 2 columns</p>\n",
       "</div>"
      ],
      "text/plain": [
       "                                                  Text  \\\n",
       "0    ? Tagged #Hashtag,#Ciberamenazas,#Ciberconsejo...   \n",
       "1    Hey @Apple , With All Of These System Updates,...   \n",
       "2    Can I Ask All You Apple Product Users: Why Wou...   \n",
       "3    @Apple Please Fix The Voice Notes Not Being Ab...   \n",
       "4    Rip #Twitterforiphone And #Twitterforandroid #...   \n",
       "..                                                 ...   \n",
       "562  @Velcocinemas Last Time License This Time #Iph...   \n",
       "563  1/ It's So Unfortunate That Ftx One Of The Wor...   \n",
       "564  Today, I Changed My #Iphone Apps Settings. 1. ...   \n",
       "565      #Iphone Chargers Should Be Called Apple Juice   \n",
       "566  @Kodak #35mm #Film Is So Pricey, I Can?T Affor...   \n",
       "\n",
       "                                             TextClean  \n",
       "0    tagged hashtagciberamenazasciberconsejoscibere...  \n",
       "1    hey apple system updates need figure way us re...  \n",
       "2    ask apple product users would buy airpods goin...  \n",
       "3    apple please fix voice notes able play backgro...  \n",
       "4    rip twitterforiphone twitterforandroid twitter...  \n",
       "..                                                 ...  \n",
       "562  velcocinemas last time license time iphone hug...  \n",
       "563  1 unfortunate ftx one world largest cryptocurr...  \n",
       "564  today changed iphone apps settings 1 apple mai...  \n",
       "565                 iphone chargers called apple juice  \n",
       "566  kodak 35mm film pricey cant afford use even va...  \n",
       "\n",
       "[567 rows x 2 columns]"
      ]
     },
     "execution_count": 15,
     "metadata": {},
     "output_type": "execute_result"
    }
   ],
   "source": [
    "Filteredtweets[['Text', 'TextClean']]"
   ]
  },
  {
   "cell_type": "code",
   "execution_count": 16,
   "id": "c3333672-a2fe-40f6-9fea-b6c81bd185a6",
   "metadata": {},
   "outputs": [
    {
     "data": {
      "text/plain": [
       "0      tagged hashtagciberamenazasciberconsejoscibere...\n",
       "1      hey apple system updates need figure way us re...\n",
       "2      ask apple product users would buy airpods goin...\n",
       "3      apple please fix voice notes able play backgro...\n",
       "4      rip twitterforiphone twitterforandroid twitter...\n",
       "                             ...                        \n",
       "562    velcocinemas last time license time iphone hug...\n",
       "563    1 unfortunate ftx one world largest cryptocurr...\n",
       "564    today changed iphone apps settings 1 apple mai...\n",
       "565                   iphone chargers called apple juice\n",
       "566    kodak 35mm film pricey cant afford use even va...\n",
       "Name: TextClean, Length: 567, dtype: object"
      ]
     },
     "execution_count": 16,
     "metadata": {},
     "output_type": "execute_result"
    }
   ],
   "source": [
    "Filteredtweets['TextClean']"
   ]
  },
  {
   "cell_type": "code",
   "execution_count": 17,
   "id": "e8cc3137-8df7-415a-a4c5-325dce728335",
   "metadata": {},
   "outputs": [
    {
     "name": "stderr",
     "output_type": "stream",
     "text": [
      "Some weights of the model checkpoint at cardiffnlp/twitter-roberta-base-sentiment-latest were not used when initializing RobertaForSequenceClassification: ['roberta.pooler.dense.bias', 'roberta.pooler.dense.weight']\n",
      "- This IS expected if you are initializing RobertaForSequenceClassification from the checkpoint of a model trained on another task or with another architecture (e.g. initializing a BertForSequenceClassification model from a BertForPreTraining model).\n",
      "- This IS NOT expected if you are initializing RobertaForSequenceClassification from the checkpoint of a model that you expect to be exactly identical (initializing a BertForSequenceClassification model from a BertForSequenceClassification model).\n"
     ]
    }
   ],
   "source": [
    "# Load the model\n",
    "model = tweetnlp.load_model('sentiment')\n",
    "\n",
    "# Define the sentiment analysis function\n",
    "def get_sentiment(text):\n",
    "    return model.sentiment(text)['label']\n",
    "\n",
    "# Apply the function to each row of the 'filtertweet[textclean]' column and store the result in a new column called 'sentiment'\n",
    "Filteredtweets['Tweetsentiment'] = Filteredtweets['TextClean'].apply(get_sentiment)"
   ]
  },
  {
   "cell_type": "code",
   "execution_count": 18,
   "id": "bad21f99-3aa0-428c-9493-4f7acaf53c4d",
   "metadata": {},
   "outputs": [
    {
     "name": "stderr",
     "output_type": "stream",
     "text": [
      "Some weights of the model checkpoint at cardiffnlp/twitter-roberta-base-sentiment-latest were not used when initializing RobertaForSequenceClassification: ['roberta.pooler.dense.bias', 'roberta.pooler.dense.weight']\n",
      "- This IS expected if you are initializing RobertaForSequenceClassification from the checkpoint of a model trained on another task or with another architecture (e.g. initializing a BertForSequenceClassification model from a BertForPreTraining model).\n",
      "- This IS NOT expected if you are initializing RobertaForSequenceClassification from the checkpoint of a model that you expect to be exactly identical (initializing a BertForSequenceClassification model from a BertForSequenceClassification model).\n"
     ]
    }
   ],
   "source": [
    "# Load the model\n",
    "model = tweetnlp.load_model('sentiment')\n",
    "\n",
    "# Define the sentiment analysis function\n",
    "def get_sentiment(text):\n",
    "    return model.sentiment(text)['label']\n",
    "\n",
    "# Apply the function to each row of the 'filtertweet[textclean]' column and store the result in a new column called 'sentiment'\n",
    "Filteredtweets['TweetsentimentNoCleaning'] = Filteredtweets['Text'].apply(get_sentiment)"
   ]
  },
  {
   "cell_type": "code",
   "execution_count": 19,
   "id": "766f6e3d-4644-4b98-986c-2e50609f9dd5",
   "metadata": {},
   "outputs": [
    {
     "data": {
      "text/plain": [
       "neutral     267\n",
       "negative    150\n",
       "positive    150\n",
       "Name: Tweetsentiment, dtype: int64"
      ]
     },
     "execution_count": 19,
     "metadata": {},
     "output_type": "execute_result"
    }
   ],
   "source": [
    "Filteredtweets['Tweetsentiment'].value_counts()"
   ]
  },
  {
   "cell_type": "code",
   "execution_count": 20,
   "id": "0e2ba15e-27fc-4d3b-9ef0-bb16f4707557",
   "metadata": {},
   "outputs": [
    {
     "data": {
      "text/plain": [
       "neutral     262\n",
       "negative    176\n",
       "positive    129\n",
       "Name: TweetsentimentNoCleaning, dtype: int64"
      ]
     },
     "execution_count": 20,
     "metadata": {},
     "output_type": "execute_result"
    }
   ],
   "source": [
    "Filteredtweets['TweetsentimentNoCleaning'].value_counts()"
   ]
  },
  {
   "cell_type": "code",
   "execution_count": 21,
   "id": "0e5d586c-f8f2-4326-8840-c9abf63ad6a9",
   "metadata": {},
   "outputs": [
    {
     "data": {
      "text/plain": [
       "positive    339\n",
       "negative    157\n",
       "neutral      71\n",
       "Name: Sentiment, dtype: int64"
      ]
     },
     "execution_count": 21,
     "metadata": {},
     "output_type": "execute_result"
    }
   ],
   "source": [
    "Filteredtweets['Sentiment'].value_counts()"
   ]
  },
  {
   "cell_type": "code",
   "execution_count": 22,
   "id": "dfabdde9-e6ae-42c0-9cc1-94ea9927ccca",
   "metadata": {},
   "outputs": [
    {
     "data": {
      "image/png": "[encoded data removed]",
      "text/plain": [
       "<Figure size 640x480 with 1 Axes>"
      ]
     },
     "metadata": {},
     "output_type": "display_data"
    },
    {
     "ename": "NameError",
     "evalue": "name 'SentimentClass' is not defined",
     "output_type": "error",
     "traceback": [
      "\u001b[1;31m---------------------------------------------------------------------------\u001b[0m",
      "\u001b[1;31mNameError\u001b[0m                                 Traceback (most recent call last)",
      "Cell \u001b[1;32mIn[22], line 5\u001b[0m\n\u001b[0;32m      2\u001b[0m plt\u001b[38;5;241m.\u001b[39mtitle(\u001b[38;5;124m'\u001b[39m\u001b[38;5;124mSentiment Classification\u001b[39m\u001b[38;5;124m'\u001b[39m)\n\u001b[0;32m      3\u001b[0m plt\u001b[38;5;241m.\u001b[39mshow()\n\u001b[1;32m----> 5\u001b[0m \u001b[43mSentimentClass\u001b[49m\u001b[38;5;241m.\u001b[39msavefig(\u001b[38;5;124m'\u001b[39m\u001b[38;5;124mstatic/SentimentClass.png\u001b[39m\u001b[38;5;124m'\u001b[39m)\n\u001b[0;32m      6\u001b[0m plt\u001b[38;5;241m.\u001b[39mclose()\n",
      "\u001b[1;31mNameError\u001b[0m: name 'SentimentClass' is not defined"
     ]
    }
   ],
   "source": [
    "sns.countplot(y='Tweetsentiment', data=Filteredtweets, color = 'darkblue')\n",
    "plt.title('Sentiment Classification')\n",
    "plt.show()\n",
    "\n",
    "SentimentClass.savefig('static/SentimentClass.png')\n",
    "plt.close()"
   ]
  },
  {
   "cell_type": "code",
   "execution_count": null,
   "id": "c38d235d-aa64-4d46-b944-7d687f4ef6ea",
   "metadata": {},
   "outputs": [],
   "source": [
    "fig, ax = plt.subplots(figsize=(8,6))\n",
    "sns.countplot(y='Tweetsentiment', data=Filteredtweets, color='darkblue', ax=ax)\n",
    "ax.set_title('Sentiment Classification')\n",
    "# Save the figure as a variable\n",
    "SentimentClass = ax.get_figure()\n",
    "# Or save it as an image\n",
    "SentimentClass.savefig('static/SentimentClass.png')\n"
   ]
  },
  {
   "cell_type": "code",
   "execution_count": null,
   "id": "a91448c4-c35e-47fb-b7e4-cde25837d8a5",
   "metadata": {},
   "outputs": [],
   "source": [
    "sns.countplot(y='TweetsentimentNoCleaning', data=Filteredtweets, color = 'darkblue')\n",
    "plt.title('Tweetnlp with no Cleaning Sentiment Classification')\n",
    "plt.show()"
   ]
  },
  {
   "cell_type": "code",
   "execution_count": null,
   "id": "a7efb224-15b0-4924-9d02-3c695a9e97e8",
   "metadata": {},
   "outputs": [],
   "source": [
    "sns.countplot(y='Sentiment', data=Filteredtweets, color = 'darkblue')\n",
    "plt.title('Manual Sentiment Classification')\n",
    "plt.show()"
   ]
  },
  {
   "cell_type": "code",
   "execution_count": null,
   "id": "543856e6-0c46-4d9b-b210-5f3eb58b9a32",
   "metadata": {},
   "outputs": [],
   "source": [
    "Filteredtweets['CompareCnU'] = Filteredtweets['TweetsentimentNoCleaning'] == Filteredtweets['Tweetsentiment']"
   ]
  },
  {
   "cell_type": "code",
   "execution_count": null,
   "id": "49e5cac7-73f3-47b0-980b-59dad6e2ca10",
   "metadata": {},
   "outputs": [],
   "source": [
    "Filteredtweets['CompareCnU'].value_counts()"
   ]
  },
  {
   "cell_type": "code",
   "execution_count": null,
   "id": "08fd95bb-d573-4484-9993-9a7896a9e8de",
   "metadata": {},
   "outputs": [],
   "source": [
    "# Filter rows where Compare is False\n",
    "false_compare = Filteredtweets.loc[Filteredtweets['CompareCnU'] == False, ['Text', 'TweetsentimentNoCleaning', 'Tweetsentiment', 'CompareCnU']]\n",
    "\n",
    "# Print the resulting dataframe\n",
    "pd.set_option('display.max_colwidth', None)\n",
    "false_compare.head(20)"
   ]
  },
  {
   "cell_type": "code",
   "execution_count": null,
   "id": "29fb5a68-646e-4cff-8ae3-5853c80a1e40",
   "metadata": {},
   "outputs": [],
   "source": [
    "# Print the resulting dataframe\n",
    "pd.set_option('display.max_colwidth', None)\n",
    "false_compare.tail(20)"
   ]
  },
  {
   "cell_type": "code",
   "execution_count": null,
   "id": "e452aa19-51b1-491e-a8e9-76eeb632000c",
   "metadata": {},
   "outputs": [],
   "source": [
    "from wordcloud import WordCloud\n",
    "from wordcloud import STOPWORDS\n",
    " \n",
    "\n",
    " "
   ]
  },
  {
   "cell_type": "code",
   "execution_count": null,
   "id": "3f2dcad3-0a69-43ba-bf9d-ebcd9a9173e8",
   "metadata": {},
   "outputs": [],
   "source": [
    "# Wordcloud with positive tweets\n",
    "positive_tweets = Filteredtweets['TextClean'][Filteredtweets['Tweetsentiment'] == 'positive']\n",
    "stop_words = [\"iphone\"] + list(STOPWORDS)\n",
    "positive_wordcloud = WordCloud(max_font_size=60, max_words=50, background_color=\"white\", stopwords = stop_words).generate(str(positive_tweets))\n",
    "plt.figure()\n",
    "plt.title(\"Positive Tweets - Wordcloud\")\n",
    "plt.imshow(positive_wordcloud, interpolation=\"bilinear\")\n",
    "plt.axis(\"off\")\n",
    "plt.show()"
   ]
  },
  {
   "cell_type": "code",
   "execution_count": null,
   "id": "0a98e55f-adc4-4f51-a256-17be12a1d496",
   "metadata": {},
   "outputs": [],
   "source": [
    "# Wordcloud with positive tweets\n",
    "positive_tweets = Filteredtweets['TextClean'][Filteredtweets['Tweetsentiment'] == 'negative']\n",
    "stop_words = [\"iphone\"] + list(STOPWORDS)\n",
    "positive_wordcloud = WordCloud(max_font_size=60, max_words=50, background_color=\"white\", stopwords = stop_words).generate(str(positive_tweets))\n",
    "plt.figure()\n",
    "plt.title(\"Negative Tweets - Wordcloud\")\n",
    "plt.imshow(positive_wordcloud, interpolation=\"bilinear\")\n",
    "plt.axis(\"off\")\n",
    "plt.show()"
   ]
  },
  {
   "cell_type": "code",
   "execution_count": null,
   "id": "38e8b436-4827-4cf3-88a3-bc75d3a37f94",
   "metadata": {},
   "outputs": [],
   "source": [
    "OverallSentiment = Filteredtweets['Tweetsentiment'].mode()[0]"
   ]
  },
  {
   "cell_type": "code",
   "execution_count": null,
   "id": "81142b87-4a26-4695-8177-c02b475b0f6a",
   "metadata": {},
   "outputs": [],
   "source": [
    "print('OverallSentiment: '+ OverallSentiment)"
   ]
  },
  {
   "cell_type": "code",
   "execution_count": null,
   "id": "56cb5e78-6466-4016-88b0-a6a137c3f9da",
   "metadata": {},
   "outputs": [],
   "source": [
    "# Group the dataframe by date and sentiment class and count the number of tweets in each group\n",
    "tweet_counts = Filteredtweets.groupby(['Datetime', 'Tweetsentiment']).size().unstack(fill_value=0)\n",
    "\n",
    "# Plot the line graph\n",
    "fig, ax = plt.subplots(figsize=(10, 6))\n",
    "tweet_counts.plot(ax=ax)\n",
    "\n",
    "# Add titles and labels\n",
    "ax.set_title('Tweet Sentiment over Time')\n",
    "ax.set_xlabel('Date')\n",
    "ax.set_ylabel('Number of Tweets')\n",
    "ax.legend(title='Sentiment Class', loc='upper left')\n",
    "Sentimentovertime = ax.get_figure()\n",
    "Sentimentovertime.savefig('static/Sentimentovertime.png')\n"
   ]
  },
  {
   "cell_type": "code",
   "execution_count": null,
   "id": "58c687a3-3b7a-4e4b-bc16-631fb75dc9b1",
   "metadata": {},
   "outputs": [],
   "source": [
    "Filteredtweets2 = Filteredtweets.copy()"
   ]
  },
  {
   "cell_type": "code",
   "execution_count": null,
   "id": "5d790c17-8d66-453a-8e28-b212369a258e",
   "metadata": {},
   "outputs": [],
   "source": [
    "# convert the Datetime column to a pandas datetime object\n",
    "Filteredtweets2['Datetime'] = pd.to_datetime(Filteredtweets2['Datetime'], dayfirst=True)"
   ]
  },
  {
   "cell_type": "code",
   "execution_count": null,
   "id": "709bfcaf-7b98-465b-8b9f-2a532897a373",
   "metadata": {},
   "outputs": [],
   "source": [
    "sentiment_coding = {'positive':1, 'negative':-1, 'neutral': 0} # Define a mapping of old values to new values\n",
    "Filteredtweets2['Tweetsentiment'] = Filteredtweets2['Tweetsentiment'].replace(sentiment_coding)"
   ]
  },
  {
   "cell_type": "code",
   "execution_count": null,
   "id": "36adc783-2a47-4781-8316-5f6032b801f5",
   "metadata": {},
   "outputs": [],
   "source": [
    "Filteredtweets2.info()"
   ]
  },
  {
   "cell_type": "code",
   "execution_count": null,
   "id": "9ed0742d-7073-4e5d-af28-0f9e8ef4c4b2",
   "metadata": {},
   "outputs": [],
   "source": [
    "Filteredtweets2.head(1)"
   ]
  },
  {
   "cell_type": "code",
   "execution_count": null,
   "id": "f092c3e3-16e0-45b8-8698-d60115963b49",
   "metadata": {},
   "outputs": [],
   "source": [
    "# convert the Datetime column to a pandas datetime object\n",
    "Filteredtweets2['Datetime'] = pd.to_datetime(Filteredtweets2['Datetime'])\n",
    "\n",
    "# group by day and compute the mode of the Tweetsentiment column\n",
    "daily_mode = Filteredtweets2.groupby(pd.Grouper(key='Datetime', freq='D'))['Tweetsentiment'].apply(lambda x: x.mode())\n",
    "\n",
    "# plot the daily mode of the Tweetsentiment column\n",
    "fig, ax = plt.subplots(figsize=(10, 6))\n",
    "daily_mode.plot(ax=ax, kind='line')\n",
    "ax.set_xlabel('Date')\n",
    "ax.set_ylabel('Mode of Tweetsentiment')\n",
    "ax.set_title('Daily Mode of Tweetsentiment')\n",
    "plt.show()"
   ]
  },
  {
   "cell_type": "code",
   "execution_count": null,
   "id": "a07a79ab-adaf-4e25-8ec8-4f7a501f45a2",
   "metadata": {},
   "outputs": [],
   "source": [
    "# convert the Datetime column to a pandas datetime object\n",
    "Filteredtweets2['Datetime'] = pd.to_datetime(Filteredtweets2['Datetime'])\n",
    "\n",
    "# group by week and compute the mode of the Tweetsentiment column\n",
    "weekly_mode = Filteredtweets2.groupby(pd.Grouper(key='Datetime', freq='W'))['Tweetsentiment'].apply(lambda x: x.mean())\n",
    "\n",
    "# plot the weekly mode of the Tweetsentiment column\n",
    "fig, ax = plt.subplots(figsize=(10, 6))\n",
    "weekly_mode.plot(ax=ax, kind='line')\n",
    "ax.set_xlabel('Date')\n",
    "ax.set_ylabel('Average of Tweetsentiment')\n",
    "ax.set_title('Weekly Average of Tweetsentiment')\n",
    "plt.show()\n"
   ]
  },
  {
   "cell_type": "code",
   "execution_count": null,
   "id": "1c129119-2f2c-4da4-9ed6-0904731323b3",
   "metadata": {},
   "outputs": [],
   "source": [
    "# convert the Datetime column to a pandas datetime object\n",
    "Filteredtweets2['Datetime'] = pd.to_datetime(Filteredtweets2['Datetime'])\n",
    "\n",
    "# group by week and compute the mode of the Tweetsentiment column\n",
    "weekly_mode = Filteredtweets2.groupby(pd.Grouper(key='Datetime', freq='W'))['Tweetsentiment'].apply(lambda x: x.mean())\n",
    "\n",
    "# plot the weekly mode of the Tweetsentiment column\n",
    "fig, ax = plt.subplots(figsize=(10, 6))\n",
    "weekly_mode.plot(ax=ax, kind='line')\n",
    "ax.set_xlabel('Date')\n",
    "ax.set_ylabel('Average of Tweetsentiment')\n",
    "ax.set_title('Weekly Average of Tweetsentiment')\n",
    "ax.axhline(y=0, color='gray', linestyle='--')\n",
    "plot_WeeklyAverage = ax.get_figure()\n",
    "plt.show()\n"
   ]
  },
  {
   "cell_type": "code",
   "execution_count": null,
   "id": "f18f7c65-6681-4d56-8aca-1b9155f31f73",
   "metadata": {},
   "outputs": [],
   "source": [
    "plot_WeeklyAverage"
   ]
  },
  {
   "cell_type": "code",
   "execution_count": null,
   "id": "f1ea6356-8924-4c47-9496-2482fdc87402",
   "metadata": {},
   "outputs": [],
   "source": [
    "# Wordcloud with positive tweets\n",
    "negative_tweets = Filteredtweets['TextClean'][Filteredtweets['Tweetsentiment'] == 'negative']\n",
    "stop_words = [\"iphone\"] + list(STOPWORDS)\n",
    "negative_wordcloud = WordCloud(max_font_size=60, max_words=50, background_color=\"white\", stopwords=stop_words).generate(str(negative_tweets))\n",
    "\n",
    "# Save the figure as a variable\n",
    "fig = plt.figure()\n",
    "plt.title(\"Negative Tweets - Wordcloud\")\n",
    "plt.imshow(negative_wordcloud, interpolation=\"bilinear\")\n",
    "plt.axis(\"off\")\n",
    "\n",
    "# Display the figure using plt.show()\n",
    "plt.show()"
   ]
  },
  {
   "cell_type": "code",
   "execution_count": null,
   "id": "2f588e15-3e26-4817-b1ae-4a2e0fdb494b",
   "metadata": {},
   "outputs": [],
   "source": [
    "topic = 'Iphone'"
   ]
  },
  {
   "cell_type": "code",
   "execution_count": null,
   "id": "649d64ab-bc21-4bba-a05d-0b4826efc710",
   "metadata": {},
   "outputs": [],
   "source": [
    "# Wordcloud with Negative tweets\n",
    "NegativeWC = plt.figure()\n",
    "plt.title(\"Negative Tweets - Wordcloud\")\n",
    "plt.imshow(WordCloud(width=700, height=400,max_font_size=80, max_words=50, background_color=\"white\", stopwords=([topic.lower()] + list(STOPWORDS))).generate(str(Filteredtweets['TextClean'][Filteredtweets['Tweetsentiment'] == 'negative'])), interpolation=\"bilinear\")\n",
    "plt.axis(\"off\")\n",
    "\n",
    "# Display the figure using plt.show()\n",
    "plt.show()\n",
    "NegativeWC.savefig('static/Nwordcloud.png')\n",
    "plt.close()\n",
    "\n",
    "PositiveWC = plt.figure()\n",
    "plt.title(\"Positive Tweets - Wordcloud\")\n",
    "plt.imshow(WordCloud(width=700, height=400,max_font_size=80, max_words=50, background_color=\"white\", stopwords=([topic.lower()] + list(STOPWORDS))).generate(str(Filteredtweets['TextClean'][Filteredtweets['Tweetsentiment'] == 'positive'])), interpolation=\"bilinear\")\n",
    "plt.axis(\"off\")\n",
    "\n",
    "# Display the figure using plt.show()\n",
    "plt.show()\n",
    "PositiveWC.savefig('static/Pwordcloud.png')\n",
    "plt.close()"
   ]
  },
  {
   "cell_type": "code",
   "execution_count": null,
   "id": "210d202f-3fa6-4040-a128-3d5d6b817930",
   "metadata": {},
   "outputs": [],
   "source": [
    "NegativeWC.savefig('static/Nwordcloud.png')\n",
    "PositiveWC.savefig('static/Pwordcloud.png')"
   ]
  },
  {
   "cell_type": "code",
   "execution_count": null,
   "id": "01745f1e-d4a1-4ba3-94e9-f5accb518f79",
   "metadata": {},
   "outputs": [],
   "source": []
  },
  {
   "cell_type": "code",
   "execution_count": null,
   "id": "069e08ac-92df-4fd4-94c3-11719a3bbee1",
   "metadata": {},
   "outputs": [],
   "source": [
    "PositiveWC"
   ]
  },
  {
   "cell_type": "code",
   "execution_count": null,
   "id": "63fbb143-1325-41eb-9663-bc106ebdc237",
   "metadata": {},
   "outputs": [],
   "source": [
    "NegativeWC"
   ]
  },
  {
   "cell_type": "code",
   "execution_count": null,
   "id": "1599ccd0-6ade-4a3a-9f28-157fcf3e56d3",
   "metadata": {},
   "outputs": [],
   "source": [
    "# Wordcloud with positive tweets\n",
    "positive_tweets = Filteredtweets['TextClean'][Filteredtweets['Tweetsentiment'] == 'negative']\n",
    "stop_words = [\"iphone\"] + list(STOPWORDS)\n",
    "positive_wordcloud = WordCloud(max_font_size=60, max_words=50, background_color=\"white\", stopwords = stop_words).generate(str(positive_tweets))\n",
    "plt.figure()\n",
    "plt.title(\"Negative Tweets - Wordcloud\")\n",
    "plt.imshow(positive_wordcloud, interpolation=\"bilinear\")\n",
    "plt.axis(\"off\")\n",
    "plt.show()"
   ]
  },
  {
   "cell_type": "code",
   "execution_count": null,
   "id": "4d76c2db-3729-4175-afb3-1501fca7fec2",
   "metadata": {},
   "outputs": [],
   "source": [
    "PositiveWC = plt.figure()\n",
    "plt.title(\"Positive Tweets - Wordcloud\")\n",
    "plt.imshow(WordCloud(width=700, height=400,max_font_size=80, max_words=50, background_color=\"white\", stopwords=([topic.lower()] + list(STOPWORDS))).generate(str(Filteredtweets['TextClean'][Filteredtweets['Tweetsentiment'] == 'positive'])), interpolation=\"bilinear\")\n",
    "plt.axis(\"off\")\n",
    "\n",
    "# Display the figure using plt.show()\n",
    "plt.show()\n",
    "plt.close()"
   ]
  },
  {
   "cell_type": "code",
   "execution_count": null,
   "id": "29c1ed28-2b93-4970-b264-c415dfa4ddaf",
   "metadata": {},
   "outputs": [],
   "source": [
    "(Filteredtweets['Text'][Filteredtweets['Tweetsentiment'] == 'negative']).head()"
   ]
  },
  {
   "cell_type": "code",
   "execution_count": null,
   "id": "910314f5-57ee-4731-a707-26869d6b29cb",
   "metadata": {},
   "outputs": [],
   "source": [
    "Filteredtweets =Filteredtweets.sort_values(by=['Views'], ascending=False)"
   ]
  },
  {
   "cell_type": "code",
   "execution_count": null,
   "id": "378b6218-3676-42c4-a963-cb0208cee1cd",
   "metadata": {},
   "outputs": [],
   "source": [
    "Filteredtweets[Filteredtweets['Tweetsentiment'] == 'negative'].sort_values(by=['Views'], ascending=False).head(10)\n"
   ]
  },
  {
   "cell_type": "code",
   "execution_count": null,
   "id": "10c6bdfa-5681-4b7a-978e-c9ed33b2cc38",
   "metadata": {},
   "outputs": [],
   "source": [
    "top_negative_tweets = Filteredtweets.loc[Filteredtweets['Tweetsentiment'] == 'negative'].sort_values(by=['Views'], ascending=False).loc[:, ['Datetime', 'Text', 'Views']].head(10)\n",
    "top_negative_tweets"
   ]
  },
  {
   "cell_type": "code",
   "execution_count": null,
   "id": "a0c0578c-5d89-4a3f-8b31-cd3e877ddfb5",
   "metadata": {},
   "outputs": [],
   "source": [
    "top_positive_tweets = Filteredtweets.loc[Filteredtweets['Tweetsentiment'] == 'positive'].sort_values(by=['Views'], ascending=False).loc[:, ['Datetime', 'Text', 'Views']].head(10)\n",
    "top_positive_tweets"
   ]
  },
  {
   "cell_type": "code",
   "execution_count": null,
   "id": "8a79a282-907c-4c60-9e22-36f4aaffbf60",
   "metadata": {},
   "outputs": [],
   "source": [
    "top_negative_tweets"
   ]
  },
  {
   "cell_type": "code",
   "execution_count": 33,
   "id": "1b340303-0d22-4c49-af6c-72c935fe2052",
   "metadata": {},
   "outputs": [],
   "source": [
    "location = 'london'"
   ]
  },
  {
   "cell_type": "code",
   "execution_count": 34,
   "id": "9449a78d-677f-46f0-9eb8-09e784f85573",
   "metadata": {},
   "outputs": [],
   "source": [
    "location = location.title()"
   ]
  },
  {
   "cell_type": "code",
   "execution_count": 35,
   "id": "2d5b6dbf-95e7-42dd-8160-3cb070204a18",
   "metadata": {},
   "outputs": [
    {
     "data": {
      "text/plain": [
       "'London'"
      ]
     },
     "execution_count": 35,
     "metadata": {},
     "output_type": "execute_result"
    }
   ],
   "source": [
    "location"
   ]
  },
  {
   "cell_type": "code",
   "execution_count": null,
   "id": "041af3d5-3128-4411-a1d6-701a688c10a4",
   "metadata": {},
   "outputs": [],
   "source": []
  }
 ],
 "metadata": {
  "kernelspec": {
   "display_name": "Python 3 (ipykernel)",
   "language": "python",
   "name": "python3"
  },
  "language_info": {
   "codemirror_mode": {
    "name": "ipython",
    "version": 3
   },
   "file_extension": ".py",
   "mimetype": "text/x-python",
   "name": "python",
   "nbconvert_exporter": "python",
   "pygments_lexer": "ipython3",
   "version": "3.9.16"
  }
 },
 "nbformat": 4,
 "nbformat_minor": 5
}
